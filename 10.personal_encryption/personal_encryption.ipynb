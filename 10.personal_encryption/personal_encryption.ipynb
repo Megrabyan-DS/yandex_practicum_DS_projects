{
 "cells": [
  {
   "cell_type": "markdown",
   "metadata": {},
   "source": [
    "# Защита персональных данных клиентов"
   ]
  },
  {
   "cell_type": "markdown",
   "metadata": {},
   "source": [
    "Вам нужно защитить данные клиентов страховой компании «Хоть потоп». Разработайте такой метод преобразования данных, чтобы по ним было сложно восстановить персональную информацию. Обоснуйте корректность его работы.\n",
    "\n",
    "Нужно защитить данные, чтобы при преобразовании качество моделей машинного обучения не ухудшилось. Подбирать наилучшую модель не требуется."
   ]
  },
  {
   "cell_type": "markdown",
   "metadata": {},
   "source": [
    "**Задачи:**\n",
    "1. Загрузите и изучите данные.\n",
    "2. Ответьте на вопрос и обоснуйте решение: \n",
    "    * Признаки умножают на обратимую матрицу. Изменится ли качество линейной регрессии? (Её можно обучить заново.)\n",
    "3. Предложите алгоритм преобразования данных для решения задачи\n",
    "4. Запрограммируйте этот алгоритм, применив матричные операции.\n",
    "5. Проверьте, что качество линейной регрессии из sklearn не отличается до и после преобразования. Примените метрику R2."
   ]
  },
  {
   "cell_type": "markdown",
   "metadata": {},
   "source": [
    "**План:**\n",
    "1. Загрузить файлы, ознакомится с особенностями данных.\n",
    "2. Переработка данных\n",
    "3. Исследовательский анализ данных для проверки аномалий.\n",
    "4. Ответьте на вопрос (Признаки умножают на обратимую матрицу...) и обоснуйте решение.\n",
    "5. Предложите алгоритм преобразования данных для решения задачи.\n",
    "6. Контрольная проверка работы линейной регрессии на исходных данных. (Метрика R2)\n",
    "7. Проверка алгоритма:\n",
    "    * Создание алгоритма\n",
    "    * Проверка работы линейной регрессии на преобразованных данных. (Метрика R2)\n",
    "8. Заключение."
   ]
  },
  {
   "cell_type": "markdown",
   "metadata": {},
   "source": [
    "**Содержание**<a id='toc0_'></a>    \n",
    "1. [Загрузка данных](#toc1_)    \n",
    "2. [Переработка](#toc2_)    \n",
    "2.1. [Пропуски](#toc2_1_)    \n",
    "2.2. [Дубликаты](#toc2_2_)    \n",
    "2.3. [Тип данных](#toc2_3_)    \n",
    "2.4. [Выводы](#toc2_4_)    \n",
    "3. [EDA](#toc3_)    \n",
    "4. [Умножение матриц](#toc4_)    \n",
    "5. [Алгоритм преобразования](#toc5_)    \n",
    "6. [Контроль](#toc6_)    \n",
    "6.1. [Выборки](#toc6_1_)    \n",
    "6.2. [R2](#toc6_2_)    \n",
    "7. [Проверка алгоритма](#toc7_)    \n",
    "7.1. [Случайная матрица](#toc7_1_)    \n",
    "8. [Умножение матриц](#toc8_)    \n",
    "9. [Дешифровка](#toc9_)    \n",
    "10. [Заключение.](#toc10_)    \n",
    "\n",
    "<!-- vscode-jupyter-toc-config\n",
    "\tnumbering=true\n",
    "\tanchor=true\n",
    "\tflat=true\n",
    "\tminLevel=2\n",
    "\tmaxLevel=6\n",
    "\t/vscode-jupyter-toc-config -->\n",
    "<!-- THIS CELL WILL BE REPLACED ON TOC UPDATE. DO NOT WRITE YOUR TEXT IN THIS CELL -->"
   ]
  },
  {
   "cell_type": "code",
   "execution_count": 1,
   "metadata": {},
   "outputs": [],
   "source": [
    "import pandas as pd\n",
    "import numpy as np\n",
    "import seaborn as sns\n",
    "import matplotlib.pyplot as plt\n",
    "import os\n",
    "\n",
    "from sklearn.preprocessing import StandardScaler\n",
    "from sklearn.linear_model import LinearRegression\n",
    "from sklearn.model_selection import train_test_split"
   ]
  },
  {
   "cell_type": "code",
   "execution_count": 2,
   "metadata": {},
   "outputs": [],
   "source": [
    "plt.rcParams[\"figure.figsize\"] = (8,8)\n",
    "plt.rc('axes', titlesize='x-large')"
   ]
  },
  {
   "cell_type": "code",
   "execution_count": 3,
   "metadata": {},
   "outputs": [],
   "source": [
    "RANDOM_STATE = 0"
   ]
  },
  {
   "cell_type": "markdown",
   "metadata": {},
   "source": [
    "## 1. <a id='toc1_'></a>[Загрузка данных](#toc0_)"
   ]
  },
  {
   "cell_type": "markdown",
   "metadata": {},
   "source": [
    "Загрузите и изучите данные."
   ]
  },
  {
   "cell_type": "code",
   "execution_count": 4,
   "metadata": {},
   "outputs": [
    {
     "name": "stdout",
     "output_type": "stream",
     "text": [
      "Файлы найдены.\n"
     ]
    }
   ],
   "source": [
    "path_local = 'datasets/'\n",
    "path_platform = '/datasets/'\n",
    "path_extra = ''\n",
    "\n",
    "df_list = [\n",
    "    'insurance.csv',\n",
    "]\n",
    "\n",
    "if os.path.exists(path_local) and all(list(map(os.path.exists, map(lambda x: path_local + x, df_list)))):\n",
    "    df_dir = path_local\n",
    "    print(\"Файлы найдены.\")\n",
    "elif os.path.exists(path_platform) and all(list(map(os.path.exists, map(lambda x: path_platform + x, df_list)))):\n",
    "    df_dir = path_platform\n",
    "    print(\"Файлы найдены.\")\n",
    "elif os.path.exists(path_extra) and all(list(map(os.path.exists, map(lambda x: path_extra + x, df_list)))):\n",
    "    df_dir = path_extra\n",
    "    print(\"Файлы найдены.\")\n",
    "elif all(list(map(os.path.exists, df_list))):\n",
    "    df_dir = ''\n",
    "    print(\"Файлы найдены.\")\n",
    "else:\n",
    "    print(\"Директория не найдена. Файлы не найдены в текущей.\")  \n",
    "\n",
    "ins = pd.read_csv(os.path.join(df_dir, 'insurance.csv'))"
   ]
  },
  {
   "cell_type": "code",
   "execution_count": 5,
   "metadata": {},
   "outputs": [
    {
     "data": {
      "text/html": [
       "<div>\n",
       "<style scoped>\n",
       "    .dataframe tbody tr th:only-of-type {\n",
       "        vertical-align: middle;\n",
       "    }\n",
       "\n",
       "    .dataframe tbody tr th {\n",
       "        vertical-align: top;\n",
       "    }\n",
       "\n",
       "    .dataframe thead th {\n",
       "        text-align: right;\n",
       "    }\n",
       "</style>\n",
       "<table border=\"1\" class=\"dataframe\">\n",
       "  <thead>\n",
       "    <tr style=\"text-align: right;\">\n",
       "      <th></th>\n",
       "      <th>Пол</th>\n",
       "      <th>Возраст</th>\n",
       "      <th>Зарплата</th>\n",
       "      <th>Члены семьи</th>\n",
       "      <th>Страховые выплаты</th>\n",
       "    </tr>\n",
       "  </thead>\n",
       "  <tbody>\n",
       "    <tr>\n",
       "      <th>0</th>\n",
       "      <td>1</td>\n",
       "      <td>41.0</td>\n",
       "      <td>49600.0</td>\n",
       "      <td>1</td>\n",
       "      <td>0</td>\n",
       "    </tr>\n",
       "    <tr>\n",
       "      <th>1</th>\n",
       "      <td>0</td>\n",
       "      <td>46.0</td>\n",
       "      <td>38000.0</td>\n",
       "      <td>1</td>\n",
       "      <td>1</td>\n",
       "    </tr>\n",
       "    <tr>\n",
       "      <th>2</th>\n",
       "      <td>0</td>\n",
       "      <td>29.0</td>\n",
       "      <td>21000.0</td>\n",
       "      <td>0</td>\n",
       "      <td>0</td>\n",
       "    </tr>\n",
       "    <tr>\n",
       "      <th>3</th>\n",
       "      <td>0</td>\n",
       "      <td>21.0</td>\n",
       "      <td>41700.0</td>\n",
       "      <td>2</td>\n",
       "      <td>0</td>\n",
       "    </tr>\n",
       "    <tr>\n",
       "      <th>4</th>\n",
       "      <td>1</td>\n",
       "      <td>28.0</td>\n",
       "      <td>26100.0</td>\n",
       "      <td>0</td>\n",
       "      <td>0</td>\n",
       "    </tr>\n",
       "    <tr>\n",
       "      <th>...</th>\n",
       "      <td>...</td>\n",
       "      <td>...</td>\n",
       "      <td>...</td>\n",
       "      <td>...</td>\n",
       "      <td>...</td>\n",
       "    </tr>\n",
       "    <tr>\n",
       "      <th>4995</th>\n",
       "      <td>0</td>\n",
       "      <td>28.0</td>\n",
       "      <td>35700.0</td>\n",
       "      <td>2</td>\n",
       "      <td>0</td>\n",
       "    </tr>\n",
       "    <tr>\n",
       "      <th>4996</th>\n",
       "      <td>0</td>\n",
       "      <td>34.0</td>\n",
       "      <td>52400.0</td>\n",
       "      <td>1</td>\n",
       "      <td>0</td>\n",
       "    </tr>\n",
       "    <tr>\n",
       "      <th>4997</th>\n",
       "      <td>0</td>\n",
       "      <td>20.0</td>\n",
       "      <td>33900.0</td>\n",
       "      <td>2</td>\n",
       "      <td>0</td>\n",
       "    </tr>\n",
       "    <tr>\n",
       "      <th>4998</th>\n",
       "      <td>1</td>\n",
       "      <td>22.0</td>\n",
       "      <td>32700.0</td>\n",
       "      <td>3</td>\n",
       "      <td>0</td>\n",
       "    </tr>\n",
       "    <tr>\n",
       "      <th>4999</th>\n",
       "      <td>1</td>\n",
       "      <td>28.0</td>\n",
       "      <td>40600.0</td>\n",
       "      <td>1</td>\n",
       "      <td>0</td>\n",
       "    </tr>\n",
       "  </tbody>\n",
       "</table>\n",
       "<p>5000 rows × 5 columns</p>\n",
       "</div>"
      ],
      "text/plain": [
       "      Пол  Возраст  Зарплата  Члены семьи  Страховые выплаты\n",
       "0       1     41.0   49600.0            1                  0\n",
       "1       0     46.0   38000.0            1                  1\n",
       "2       0     29.0   21000.0            0                  0\n",
       "3       0     21.0   41700.0            2                  0\n",
       "4       1     28.0   26100.0            0                  0\n",
       "...   ...      ...       ...          ...                ...\n",
       "4995    0     28.0   35700.0            2                  0\n",
       "4996    0     34.0   52400.0            1                  0\n",
       "4997    0     20.0   33900.0            2                  0\n",
       "4998    1     22.0   32700.0            3                  0\n",
       "4999    1     28.0   40600.0            1                  0\n",
       "\n",
       "[5000 rows x 5 columns]"
      ]
     },
     "execution_count": 5,
     "metadata": {},
     "output_type": "execute_result"
    }
   ],
   "source": [
    "ins"
   ]
  },
  {
   "cell_type": "code",
   "execution_count": 6,
   "metadata": {
    "scrolled": true
   },
   "outputs": [
    {
     "name": "stdout",
     "output_type": "stream",
     "text": [
      "<class 'pandas.core.frame.DataFrame'>\n",
      "RangeIndex: 5000 entries, 0 to 4999\n",
      "Data columns (total 5 columns):\n",
      " #   Column             Non-Null Count  Dtype  \n",
      "---  ------             --------------  -----  \n",
      " 0   Пол                5000 non-null   int64  \n",
      " 1   Возраст            5000 non-null   float64\n",
      " 2   Зарплата           5000 non-null   float64\n",
      " 3   Члены семьи        5000 non-null   int64  \n",
      " 4   Страховые выплаты  5000 non-null   int64  \n",
      "dtypes: float64(2), int64(3)\n",
      "memory usage: 195.4 KB\n"
     ]
    }
   ],
   "source": [
    "ins.info()"
   ]
  },
  {
   "cell_type": "code",
   "execution_count": 7,
   "metadata": {},
   "outputs": [
    {
     "data": {
      "text/plain": [
       "0    4436\n",
       "1     423\n",
       "2     115\n",
       "3      18\n",
       "4       7\n",
       "5       1\n",
       "Name: Страховые выплаты, dtype: int64"
      ]
     },
     "execution_count": 7,
     "metadata": {},
     "output_type": "execute_result"
    }
   ],
   "source": [
    "ins['Страховые выплаты'].value_counts() # Регрессия? - да"
   ]
  },
  {
   "cell_type": "markdown",
   "metadata": {},
   "source": [
    "**Выводы**\n",
    "\n",
    "Пропусков нет. 5000 записей. 4 признака + ЦП: Страховые выплаты. ЦП принимает несколько числовых значений, значит задача регрессии."
   ]
  },
  {
   "cell_type": "markdown",
   "metadata": {},
   "source": [
    "## 2. <a id='toc2_'></a>[Переработка](#toc0_)"
   ]
  },
  {
   "cell_type": "markdown",
   "metadata": {},
   "source": [
    "### 2.1. <a id='toc2_1_'></a>[Пропуски](#toc0_)"
   ]
  },
  {
   "cell_type": "code",
   "execution_count": 8,
   "metadata": {},
   "outputs": [
    {
     "data": {
      "text/plain": [
       "Пол                  0\n",
       "Возраст              0\n",
       "Зарплата             0\n",
       "Члены семьи          0\n",
       "Страховые выплаты    0\n",
       "dtype: int64"
      ]
     },
     "execution_count": 8,
     "metadata": {},
     "output_type": "execute_result"
    }
   ],
   "source": [
    "ins.isnull().sum()"
   ]
  },
  {
   "cell_type": "markdown",
   "metadata": {},
   "source": [
    "### 2.2. <a id='toc2_2_'></a>[Дубликаты](#toc0_)"
   ]
  },
  {
   "cell_type": "code",
   "execution_count": 9,
   "metadata": {},
   "outputs": [
    {
     "data": {
      "text/plain": [
       "153"
      ]
     },
     "execution_count": 9,
     "metadata": {},
     "output_type": "execute_result"
    }
   ],
   "source": [
    "ins.duplicated().sum()"
   ]
  },
  {
   "cell_type": "code",
   "execution_count": 10,
   "metadata": {},
   "outputs": [],
   "source": [
    "ins.drop_duplicates(inplace=True)"
   ]
  },
  {
   "cell_type": "markdown",
   "metadata": {},
   "source": [
    "### 2.3. <a id='toc2_3_'></a>[Тип данных](#toc0_)"
   ]
  },
  {
   "cell_type": "code",
   "execution_count": 11,
   "metadata": {
    "scrolled": false
   },
   "outputs": [],
   "source": [
    "ins['Возраст'] = ins['Возраст'].astype(int)"
   ]
  },
  {
   "cell_type": "code",
   "execution_count": 12,
   "metadata": {
    "scrolled": false
   },
   "outputs": [],
   "source": [
    "ins['Зарплата'] = ins['Зарплата'].astype(int)"
   ]
  },
  {
   "cell_type": "markdown",
   "metadata": {},
   "source": [
    "### 2.4. <a id='toc2_4_'></a>[Выводы](#toc0_)"
   ]
  },
  {
   "cell_type": "code",
   "execution_count": 13,
   "metadata": {
    "scrolled": false
   },
   "outputs": [
    {
     "name": "stdout",
     "output_type": "stream",
     "text": [
      "<class 'pandas.core.frame.DataFrame'>\n",
      "Int64Index: 4847 entries, 0 to 4999\n",
      "Data columns (total 5 columns):\n",
      " #   Column             Non-Null Count  Dtype\n",
      "---  ------             --------------  -----\n",
      " 0   Пол                4847 non-null   int64\n",
      " 1   Возраст            4847 non-null   int32\n",
      " 2   Зарплата           4847 non-null   int32\n",
      " 3   Члены семьи        4847 non-null   int64\n",
      " 4   Страховые выплаты  4847 non-null   int64\n",
      "dtypes: int32(2), int64(3)\n",
      "memory usage: 189.3 KB\n"
     ]
    }
   ],
   "source": [
    "ins.info()"
   ]
  },
  {
   "cell_type": "markdown",
   "metadata": {},
   "source": [
    "Пропусков нет, дубликаты удалены, типы данных стандартизированы."
   ]
  },
  {
   "cell_type": "markdown",
   "metadata": {},
   "source": [
    "## 3. <a id='toc3_'></a>[EDA](#toc0_)"
   ]
  },
  {
   "cell_type": "code",
   "execution_count": 14,
   "metadata": {},
   "outputs": [
    {
     "data": {
      "text/plain": [
       "0    2431\n",
       "1    2416\n",
       "Name: Пол, dtype: int64"
      ]
     },
     "execution_count": 14,
     "metadata": {},
     "output_type": "execute_result"
    }
   ],
   "source": [
    "ins['Пол'].value_counts()"
   ]
  },
  {
   "cell_type": "code",
   "execution_count": 15,
   "metadata": {},
   "outputs": [
    {
     "data": {
      "text/plain": [
       "46"
      ]
     },
     "execution_count": 15,
     "metadata": {},
     "output_type": "execute_result"
    }
   ],
   "source": [
    "ins['Возраст'].value_counts().count()"
   ]
  },
  {
   "cell_type": "code",
   "execution_count": 16,
   "metadata": {},
   "outputs": [
    {
     "data": {
      "image/png": "[encoded data removed]",
      "text/plain": [
       "<Figure size 1600x800 with 2 Axes>"
      ]
     },
     "metadata": {},
     "output_type": "display_data"
    }
   ],
   "source": [
    "fig, axs = plt.subplots(1, 2, figsize=(16, 8))\n",
    "sns.boxplot(x=ins['Возраст'], ax=axs[0])\n",
    "sns.histplot(x=ins['Возраст'], bins=ins['Возраст'].value_counts().count()+1)\n",
    "plt.suptitle('Возраст');"
   ]
  },
  {
   "cell_type": "code",
   "execution_count": 17,
   "metadata": {},
   "outputs": [
    {
     "data": {
      "image/png": "[encoded data removed]",
      "text/plain": [
       "<Figure size 1600x800 with 2 Axes>"
      ]
     },
     "metadata": {},
     "output_type": "display_data"
    }
   ],
   "source": [
    "fig, axs = plt.subplots(1, 2, figsize=(16, 8))\n",
    "sns.boxplot(x=ins['Зарплата'], ax=axs[0])\n",
    "sns.histplot(x=ins['Зарплата'])\n",
    "plt.suptitle('Зарплата');"
   ]
  },
  {
   "cell_type": "code",
   "execution_count": 18,
   "metadata": {},
   "outputs": [
    {
     "data": {
      "image/png": "[encoded data removed]",
      "text/plain": [
       "<Figure size 800x800 with 1 Axes>"
      ]
     },
     "metadata": {},
     "output_type": "display_data"
    }
   ],
   "source": [
    "sns.countplot(x=ins['Члены семьи'])\n",
    "plt.title('Члены семьи');"
   ]
  },
  {
   "cell_type": "code",
   "execution_count": 19,
   "metadata": {},
   "outputs": [
    {
     "data": {
      "image/png": "[encoded data removed]",
      "text/plain": [
       "<Figure size 800x800 with 1 Axes>"
      ]
     },
     "metadata": {},
     "output_type": "display_data"
    }
   ],
   "source": [
    "sns.countplot(x=ins['Страховые выплаты'])\n",
    "plt.title('Страховые выплаты');"
   ]
  },
  {
   "cell_type": "code",
   "execution_count": 20,
   "metadata": {},
   "outputs": [
    {
     "data": {
      "text/html": [
       "<div>\n",
       "<style scoped>\n",
       "    .dataframe tbody tr th:only-of-type {\n",
       "        vertical-align: middle;\n",
       "    }\n",
       "\n",
       "    .dataframe tbody tr th {\n",
       "        vertical-align: top;\n",
       "    }\n",
       "\n",
       "    .dataframe thead th {\n",
       "        text-align: right;\n",
       "    }\n",
       "</style>\n",
       "<table border=\"1\" class=\"dataframe\">\n",
       "  <thead>\n",
       "    <tr style=\"text-align: right;\">\n",
       "      <th></th>\n",
       "      <th>Пол</th>\n",
       "      <th>Возраст</th>\n",
       "      <th>Зарплата</th>\n",
       "      <th>Члены семьи</th>\n",
       "      <th>Страховые выплаты</th>\n",
       "    </tr>\n",
       "  </thead>\n",
       "  <tbody>\n",
       "    <tr>\n",
       "      <th>count</th>\n",
       "      <td>4847.000000</td>\n",
       "      <td>4847.000000</td>\n",
       "      <td>4847.000000</td>\n",
       "      <td>4847.000000</td>\n",
       "      <td>4847.000000</td>\n",
       "    </tr>\n",
       "    <tr>\n",
       "      <th>mean</th>\n",
       "      <td>0.498453</td>\n",
       "      <td>31.023932</td>\n",
       "      <td>39895.811223</td>\n",
       "      <td>1.203425</td>\n",
       "      <td>0.152259</td>\n",
       "    </tr>\n",
       "    <tr>\n",
       "      <th>std</th>\n",
       "      <td>0.500049</td>\n",
       "      <td>8.487995</td>\n",
       "      <td>9972.952441</td>\n",
       "      <td>1.098664</td>\n",
       "      <td>0.468934</td>\n",
       "    </tr>\n",
       "    <tr>\n",
       "      <th>min</th>\n",
       "      <td>0.000000</td>\n",
       "      <td>18.000000</td>\n",
       "      <td>5300.000000</td>\n",
       "      <td>0.000000</td>\n",
       "      <td>0.000000</td>\n",
       "    </tr>\n",
       "    <tr>\n",
       "      <th>25%</th>\n",
       "      <td>0.000000</td>\n",
       "      <td>24.000000</td>\n",
       "      <td>33200.000000</td>\n",
       "      <td>0.000000</td>\n",
       "      <td>0.000000</td>\n",
       "    </tr>\n",
       "    <tr>\n",
       "      <th>50%</th>\n",
       "      <td>0.000000</td>\n",
       "      <td>30.000000</td>\n",
       "      <td>40200.000000</td>\n",
       "      <td>1.000000</td>\n",
       "      <td>0.000000</td>\n",
       "    </tr>\n",
       "    <tr>\n",
       "      <th>75%</th>\n",
       "      <td>1.000000</td>\n",
       "      <td>37.000000</td>\n",
       "      <td>46600.000000</td>\n",
       "      <td>2.000000</td>\n",
       "      <td>0.000000</td>\n",
       "    </tr>\n",
       "    <tr>\n",
       "      <th>max</th>\n",
       "      <td>1.000000</td>\n",
       "      <td>65.000000</td>\n",
       "      <td>79000.000000</td>\n",
       "      <td>6.000000</td>\n",
       "      <td>5.000000</td>\n",
       "    </tr>\n",
       "  </tbody>\n",
       "</table>\n",
       "</div>"
      ],
      "text/plain": [
       "               Пол      Возраст      Зарплата  Члены семьи  Страховые выплаты\n",
       "count  4847.000000  4847.000000   4847.000000  4847.000000        4847.000000\n",
       "mean      0.498453    31.023932  39895.811223     1.203425           0.152259\n",
       "std       0.500049     8.487995   9972.952441     1.098664           0.468934\n",
       "min       0.000000    18.000000   5300.000000     0.000000           0.000000\n",
       "25%       0.000000    24.000000  33200.000000     0.000000           0.000000\n",
       "50%       0.000000    30.000000  40200.000000     1.000000           0.000000\n",
       "75%       1.000000    37.000000  46600.000000     2.000000           0.000000\n",
       "max       1.000000    65.000000  79000.000000     6.000000           5.000000"
      ]
     },
     "execution_count": 20,
     "metadata": {},
     "output_type": "execute_result"
    }
   ],
   "source": [
    "ins.describe()"
   ]
  },
  {
   "cell_type": "markdown",
   "metadata": {},
   "source": [
    "**Выводы**\n",
    "\n",
    "Аномалий нет, признаки распределены в целом логично. Зарплата распределена нормально.\n",
    "\n",
    "В целом, учитывая что целью проекта является защита персональных данных клиентов, детализированный IDE неуместен, однако убедится в отсутствие явных аномалий среди признаков стоит для поддержания качества модели."
   ]
  },
  {
   "cell_type": "markdown",
   "metadata": {},
   "source": [
    "## 4. <a id='toc4_'></a>[Умножение матриц](#toc0_)"
   ]
  },
  {
   "cell_type": "markdown",
   "metadata": {},
   "source": [
    "*Ответьте на вопрос и обоснуйте решение:*\n",
    "\n",
    "Признаки умножают на обратимую матрицу. Изменится ли качество линейной регрессии? (Её можно обучить заново.)\n",
    "\n",
    "a. Изменится. Приведите примеры матриц.\n",
    "\n",
    "b. Не изменится. Укажите, как связаны параметры линейной регрессии в исходной задаче и в преобразованной."
   ]
  },
  {
   "cell_type": "markdown",
   "metadata": {},
   "source": [
    "**Обозначения:**\n",
    "\n",
    "- $X$ — матрица признаков (нулевой столбец состоит из единиц)\n",
    "\n",
    "- $y$ — вектор целевого признака\n",
    "\n",
    "- $P$ — матрица, на которую умножаются признаки\n",
    "\n",
    "- $w$ — вектор весов линейной регрессии в исходной задаче (нулевой элемент равен сдвигу)\n",
    "\n",
    "- $w'$ - вектор весов линейной регрессии в преобразованной задаче"
   ]
  },
  {
   "cell_type": "markdown",
   "metadata": {},
   "source": [
    "Предсказания:\n",
    "\n",
    "$$\n",
    "a = Xw\n",
    "$$\n",
    "\n",
    "Задача обучения:\n",
    "\n",
    "$$\n",
    "w = \\arg\\min_w MSE(Xw, y)\n",
    "$$\n",
    "\n",
    "Формула обучения:\n",
    "\n",
    "$$\n",
    "w = (X^T X)^{-1} X^T y\n",
    "$$"
   ]
  },
  {
   "cell_type": "markdown",
   "metadata": {},
   "source": [
    "**Ответ:** \n",
    "\n",
    "Качество линейной регрессии не изменится. Параметры линейной регрессии в исходной задаче и в преобразованной связаны по формуле:\n",
    "\n",
    "$$\n",
    "w' = P^{-1} w\n",
    "$$"
   ]
  },
  {
   "cell_type": "markdown",
   "metadata": {},
   "source": [
    "**Правила преобразования:**\n",
    "\n",
    "Для обоснования потребутся работать с умножением матриц, зафиксируем правила преобразований для матриц $A$, $B$, $C$ и единичной матрицы $E$\n",
    "\n",
    "$$\n",
    "A E = E A = A\n",
    "$$\n",
    "\n",
    "$$\n",
    "A A^{-1} = A^{-1} A = E\n",
    "$$\n",
    "\n",
    "$$\n",
    "(A B)^{-1} = B^{-1} A^{-1}\n",
    "$$\n",
    "\n",
    "$$\n",
    "(A B)^{T} = B^T A^T\n",
    "$$\n",
    "\n",
    "$$\n",
    "(AB)C = A(BC)\n",
    "$$\n"
   ]
  },
  {
   "cell_type": "markdown",
   "metadata": {},
   "source": [
    "**Обоснование:** \n",
    "\n",
    "\n",
    "Решая задачу обучения, мы минимизируем $MSE(Xw, y)$, т.е. ищем такой вектор $w$, для которого:\n",
    "\n",
    "$$\n",
    "a = y\n",
    "$$\n",
    "\n",
    "$$\n",
    "y = X w\n",
    "$$\n",
    "\n",
    "\n",
    "\n",
    "Преобразовывая мы получаем:\n",
    "\n",
    "$$\n",
    "X^T y = X^T X w\n",
    "$$\n",
    "\n",
    "Матрица X^T X квадратная, если она обратимая, то мы можем получить формулу для $w$:\n",
    "\n",
    "$$\n",
    "(X^T X)^{-1} X^T y = (X^T X)^{-1} (X^T X) w\n",
    "$$\n",
    "\n",
    "$$\n",
    "w = (X^T X)^{-1} X^T y\n",
    "$$\n",
    "\n",
    "Если мы домножаем $X$ на $P$, то решая задачу обучения получаем:\n",
    "\n",
    "$$\n",
    "y = (X P) w'\n",
    "$$\n",
    "\n",
    "Поскольку целевой признак не изменился, а каждый объект преобразован одинаковым образом (умножением на матрицу $P$), реузльтат регрессии - вектор $a$ на поменяется.\n",
    "\n",
    "Найдём $w'$. Пусть $(XP) = X'$:\n",
    "\n",
    "$$\n",
    "y = X' w'\n",
    "$$\n",
    "\n",
    "Повторяя те же действия в результате имеем\n",
    "\n",
    "$$\n",
    "w' = (X'^T X')^{-1} (X')^T y\n",
    "$$\n",
    "\n",
    "Подставим $X'$ и преобразуем:\n",
    "\n",
    "$$\n",
    "w' = ((X P)^T (X P))^{-1} (X P) ^ T y\n",
    "$$\n",
    "\n",
    "$$\n",
    "w' = ((P^T X^T X) P)^{-1} (X P) ^ T y\n",
    "$$\n",
    "\n",
    "$$\n",
    "w' = P^{-1} (P^T (X^T X))^{-1} P^T X^T y\n",
    "$$\n",
    "\n",
    "$$\n",
    "w' = P^{-1} (X^T X)^{-1} (P^T)^{-1} P^T X^T y\n",
    "$$\n",
    "\n",
    "$$\n",
    "w' = P^{-1} (X^T X)^{-1} X^T y\n",
    "$$\n",
    "\n",
    "$w = (X'^T X')^{-1} X'^T y$, следовательно:\n",
    "\n",
    "$$\n",
    "w' = P^{-1} w\n",
    "$$\n",
    "\n",
    "Это уравнение описывает, как связаны параметры линейной регрессии в исходной задаче и в преобразованной."
   ]
  },
  {
   "cell_type": "markdown",
   "metadata": {},
   "source": [
    "## 5. <a id='toc5_'></a>[Алгоритм преобразования](#toc0_)"
   ]
  },
  {
   "cell_type": "markdown",
   "metadata": {},
   "source": [
    "Предложите алгоритм преобразования данных для решения задачи. Обоснуйте, почему качество линейной регрессии не поменяется.\n"
   ]
  },
  {
   "cell_type": "markdown",
   "metadata": {},
   "source": [
    "**Алгоритм**\n",
    "\n",
    "1. Создадим случайную квадратную матрицу размером $(4,4)$ методом np.random.rand().\n",
    "2. В рамках цикла while() проверим обратимость, в случае того если матрица не обратима сгенерируем новую по тем же правилам. Будем повторять пока не получим обратимую.\n",
    "4. Умножим матрицу(массив) значений признаков на неё."
   ]
  },
  {
   "cell_type": "markdown",
   "metadata": {},
   "source": [
    "**Обоснование**\n",
    "\n",
    "В аналитической задаче удалось показать, что умножение расширенной(с добавлением столбца единиц) матрицы признаков $X$ на обратимую матрицу $P$ (обратимость необходимо чтобы уравнение описывающее связь параметров до и после выполнялось) позволяет сохранить качество линейной регрессии вне зависимости от содержания матрицы $P$. \n",
    "\n",
    "Таким образом, для того чтобы зашифровать информацию о клиентах, достаточно умножить матрицу признаков на случайную матрицу, и мы сможем сохранить работу модели линейной регрессии, при этом сделав личные данные не узнаваемыми, без этой матрицы, которая будет выступать ключом шифрования. Т.К. целевой признак не меняется а каждая строка (объект) $X$ умножается на всю матрицу $P$, по правилам умножения матриц, сохраняется логическая связь между признаками и ЦП.\n",
    "\n",
    "Однако расширение матрицы X столбцом единиц не обязательно для выполнения данной связи, и усложняет вычисления при практическом выполнении задачи. Для уменьшения необходимого количества вычислений, покажем это аналитически, для этого введём новые обозначения:\n",
    "\n",
    "**Обозначения:**\n",
    "\n",
    "- $X$ — матрица признаков (без нулевого столбца из единиц)\n",
    "\n",
    "- $y$ — вектор целевого признака\n",
    "\n",
    "- $P$ — матрица, на которую умножаются признаки\n",
    "\n",
    "- $w$ — вектор весов линейной регрессии в исходной задаче (без сдвига)\n",
    "\n",
    "- $w_0$ - сдвиг\n",
    "\n",
    "- $w'$ - вектор весов линейной регрессии в преобразованной задаче\n",
    "\n",
    "Тогда:\n",
    "\n",
    "$$\n",
    "y = Xw + w_0\n",
    "$$\n",
    "\n",
    "$$\n",
    "(y-w_0) = Xw\n",
    "$$\n",
    "\n",
    "$$\n",
    "w = (X^t X)^{-1} X^t (y-w_0)\n",
    "$$\n",
    "\n",
    "Найдём $w'$. Сдвиг не меняется поскольку зависит от отношения между $Xw$ и $y$, а оно сохраняется для $(XP)w'$ и $y$.\n",
    "\n",
    "$$\n",
    "y = (X P)w' + w_0\n",
    "$$\n",
    "\n",
    "$$\n",
    "y = X' w' + w_0\n",
    "$$\n",
    "\n",
    "$$\n",
    "w' = ((X')^T X')^{-1} (X')^T (y-w_0)\n",
    "$$\n",
    "\n",
    "$$\n",
    "w' = ((X P)^T (X P))^{-1} (X P) ^ T (y-w_0)\n",
    "$$\n",
    "\n",
    "$$\n",
    "w' = P^{-1} (X^T X)^{-1} X^T (y-w_0)\n",
    "$$\n",
    "\n",
    "Получаем связь между $w'$ и $w$\n",
    "\n",
    "$$\n",
    "w' = P^{-1} w\n",
    "$$\n",
    "\n",
    "Таким образом $P$ вместо квадратной матрицы размером $4+1$ (количество признаков + столбец единиц) сокращается до $4$, что упрощает вычисления.\n",
    "\n",
    "Для создания матрицы будем использовать `np.random.rand()`, т.к. он менее предсказуем чем `np.random.normal()`. В рамках проекта используется `np.random.seed(0)`, однако на практике этого следует избегать, посколько делает результат слишком лёгким для воспроизводства."
   ]
  },
  {
   "cell_type": "markdown",
   "metadata": {},
   "source": [
    "## 6. <a id='toc6_'></a>[Контроль](#toc0_)"
   ]
  },
  {
   "cell_type": "markdown",
   "metadata": {},
   "source": [
    "### 6.1. <a id='toc6_1_'></a>[Выборки](#toc0_)"
   ]
  },
  {
   "cell_type": "code",
   "execution_count": 21,
   "metadata": {},
   "outputs": [],
   "source": [
    "ins_trg = ins['Страховые выплаты'].values"
   ]
  },
  {
   "cell_type": "code",
   "execution_count": 22,
   "metadata": {},
   "outputs": [
    {
     "data": {
      "text/plain": [
       "array([0, 1, 0, ..., 0, 0, 0], dtype=int64)"
      ]
     },
     "execution_count": 22,
     "metadata": {},
     "output_type": "execute_result"
    }
   ],
   "source": [
    "ins_trg"
   ]
  },
  {
   "cell_type": "code",
   "execution_count": 23,
   "metadata": {},
   "outputs": [],
   "source": [
    "ins_feat = ins.drop(['Страховые выплаты'], axis=1).values"
   ]
  },
  {
   "cell_type": "code",
   "execution_count": 24,
   "metadata": {
    "scrolled": true
   },
   "outputs": [
    {
     "data": {
      "text/plain": [
       "array([[    1,    41, 49600,     1],\n",
       "       [    0,    46, 38000,     1],\n",
       "       [    0,    29, 21000,     0],\n",
       "       ...,\n",
       "       [    0,    20, 33900,     2],\n",
       "       [    1,    22, 32700,     3],\n",
       "       [    1,    28, 40600,     1]], dtype=int64)"
      ]
     },
     "execution_count": 24,
     "metadata": {},
     "output_type": "execute_result"
    }
   ],
   "source": [
    "ins_feat"
   ]
  },
  {
   "cell_type": "code",
   "execution_count": 25,
   "metadata": {},
   "outputs": [],
   "source": [
    "feat_train, feat_test, trg_train, trg_test = train_test_split(ins_feat, ins_trg, random_state=RANDOM_STATE)"
   ]
  },
  {
   "cell_type": "code",
   "execution_count": 26,
   "metadata": {},
   "outputs": [],
   "source": [
    "scaler = StandardScaler()\n",
    "scaler.fit(feat_train)\n",
    "feat_train = scaler.transform(feat_train)\n",
    "feat_test = scaler.transform(feat_test)"
   ]
  },
  {
   "cell_type": "markdown",
   "metadata": {},
   "source": [
    "**Выводы**\n",
    "\n",
    "Данные разбили на выборки, стандартизировали."
   ]
  },
  {
   "cell_type": "markdown",
   "metadata": {},
   "source": [
    "### 6.2. <a id='toc6_2_'></a>[R2](#toc0_)"
   ]
  },
  {
   "cell_type": "code",
   "execution_count": 27,
   "metadata": {
    "scrolled": true
   },
   "outputs": [
    {
     "data": {
      "text/plain": [
       "0.41145126195254356"
      ]
     },
     "execution_count": 27,
     "metadata": {},
     "output_type": "execute_result"
    }
   ],
   "source": [
    "model = LinearRegression()\n",
    "model.fit(feat_train, trg_train)\n",
    "control_score = model.score(feat_test, trg_test)\n",
    "control_score"
   ]
  },
  {
   "cell_type": "markdown",
   "metadata": {},
   "source": [
    "**Выводы**\n",
    "\n",
    "R2 на контрольной выборке без изменений признаков 0.411."
   ]
  },
  {
   "cell_type": "markdown",
   "metadata": {},
   "source": [
    "## 7. <a id='toc7_'></a>[Проверка алгоритма](#toc0_)"
   ]
  },
  {
   "cell_type": "markdown",
   "metadata": {},
   "source": [
    "### 7.1. <a id='toc7_1_'></a>[Случайная матрица](#toc0_)"
   ]
  },
  {
   "cell_type": "code",
   "execution_count": 28,
   "metadata": {},
   "outputs": [
    {
     "data": {
      "text/plain": [
       "(3635, 4)"
      ]
     },
     "execution_count": 28,
     "metadata": {},
     "output_type": "execute_result"
    }
   ],
   "source": [
    "feat_train.shape"
   ]
  },
  {
   "cell_type": "code",
   "execution_count": 29,
   "metadata": {},
   "outputs": [
    {
     "data": {
      "text/plain": [
       "(3635,)"
      ]
     },
     "execution_count": 29,
     "metadata": {},
     "output_type": "execute_result"
    }
   ],
   "source": [
    "trg_train.shape"
   ]
  },
  {
   "cell_type": "code",
   "execution_count": 30,
   "metadata": {},
   "outputs": [],
   "source": [
    "np.random.seed(0)"
   ]
  },
  {
   "cell_type": "code",
   "execution_count": 31,
   "metadata": {},
   "outputs": [
    {
     "data": {
      "text/plain": [
       "array([[0.5488135 , 0.71518937, 0.60276338, 0.54488318],\n",
       "       [0.4236548 , 0.64589411, 0.43758721, 0.891773  ],\n",
       "       [0.96366276, 0.38344152, 0.79172504, 0.52889492],\n",
       "       [0.56804456, 0.92559664, 0.07103606, 0.0871293 ]])"
      ]
     },
     "execution_count": 31,
     "metadata": {},
     "output_type": "execute_result"
    }
   ],
   "source": [
    "#ran_v = np.random.normal(size=ins_feat.T.shape)  #normal? В теории нормал, кажется что ранд менее предсказуем\n",
    "#ran_v = np.random.rand(*ins_feat.T.shape) # глупости, нужна квадратная\n",
    "\n",
    "ran_v = np.random.rand(ins_feat.shape[1], ins_feat.shape[1]) # Можно без этого, но так программе меньше думать.\n",
    "\n",
    "while True:\n",
    "    try:\n",
    "        np.linalg.inv(ran_v)    \n",
    "    except:    \n",
    "        ran_v = np.random.rand(ins_feat.shape[1], ins_feat.shape[1])\n",
    "    else: # try -> else, not done if except\n",
    "        break\n",
    "    \n",
    "ran_v"
   ]
  },
  {
   "cell_type": "code",
   "execution_count": 32,
   "metadata": {
    "scrolled": true
   },
   "outputs": [
    {
     "data": {
      "text/plain": [
       "array([[-2.93661054,  0.62452847,  1.79269745,  1.09060329],\n",
       "       [ 1.66428382, -0.43068264, -1.077603  ,  0.54137516],\n",
       "       [ 3.929769  , -1.95008776, -0.51994879, -1.46025687],\n",
       "       [-1.73862477,  2.09349729,  0.18396553, -0.19368226]])"
      ]
     },
     "execution_count": 32,
     "metadata": {},
     "output_type": "execute_result"
    }
   ],
   "source": [
    "np.linalg.inv(ran_v)"
   ]
  },
  {
   "cell_type": "markdown",
   "metadata": {},
   "source": [
    "## 8. <a id='toc8_'></a>[Умножение матриц](#toc0_)"
   ]
  },
  {
   "cell_type": "code",
   "execution_count": 33,
   "metadata": {},
   "outputs": [],
   "source": [
    "feat_train_scrambled = feat_train @ ran_v\n",
    "feat_test_scrambled = feat_test @ ran_v"
   ]
  },
  {
   "cell_type": "code",
   "execution_count": 34,
   "metadata": {
    "scrolled": false
   },
   "outputs": [
    {
     "data": {
      "text/plain": [
       "0.41145126195254345"
      ]
     },
     "execution_count": 34,
     "metadata": {},
     "output_type": "execute_result"
    }
   ],
   "source": [
    "model_scrambled = LinearRegression()\n",
    "model_scrambled.fit(feat_train_scrambled, trg_train)\n",
    "scrambled_score = model_scrambled.score(feat_test_scrambled, trg_test)\n",
    "scrambled_score"
   ]
  },
  {
   "cell_type": "code",
   "execution_count": 35,
   "metadata": {},
   "outputs": [
    {
     "data": {
      "text/plain": [
       "0.41145126195254356"
      ]
     },
     "execution_count": 35,
     "metadata": {},
     "output_type": "execute_result"
    }
   ],
   "source": [
    "control_score"
   ]
  },
  {
   "cell_type": "code",
   "execution_count": 36,
   "metadata": {
    "scrolled": true
   },
   "outputs": [
    {
     "data": {
      "text/plain": [
       "0.0"
      ]
     },
     "execution_count": 36,
     "metadata": {},
     "output_type": "execute_result"
    }
   ],
   "source": [
    "round(control_score - scrambled_score, 15)"
   ]
  },
  {
   "cell_type": "markdown",
   "metadata": {},
   "source": [
    "**Выводы**\n",
    "\n",
    "По правилам умножения матриц, каждая строка умножается на всю матрицу, таким образом мы можем умножать все признаки сразу, или, как здесь, каждую выборку отдельно, результат не меняется.\n",
    "\n",
    "Значения R2 совпадают до и после преобразования вплоть до 15 знака после запятой, разница знаков после 15 объясняется ошибками округления и поиском решения с помощью не аналитических инструментов."
   ]
  },
  {
   "cell_type": "markdown",
   "metadata": {},
   "source": [
    "## 9. <a id='toc9_'></a>[Дешифровка](#toc0_)"
   ]
  },
  {
   "cell_type": "code",
   "execution_count": 37,
   "metadata": {},
   "outputs": [
    {
     "data": {
      "text/plain": [
       "True"
      ]
     },
     "execution_count": 37,
     "metadata": {},
     "output_type": "execute_result"
    }
   ],
   "source": [
    "np.all(np.round(feat_train_scrambled @ np.linalg.inv(ran_v) , 10) == np.round(feat_train, 10))"
   ]
  },
  {
   "cell_type": "code",
   "execution_count": 38,
   "metadata": {},
   "outputs": [
    {
     "data": {
      "text/plain": [
       "True"
      ]
     },
     "execution_count": 38,
     "metadata": {},
     "output_type": "execute_result"
    }
   ],
   "source": [
    "np.allclose(feat_test_scrambled @ np.linalg.inv(ran_v), feat_test)"
   ]
  },
  {
   "cell_type": "code",
   "execution_count": 39,
   "metadata": {},
   "outputs": [
    {
     "data": {
      "text/html": [
       "<div>\n",
       "<style scoped>\n",
       "    .dataframe tbody tr th:only-of-type {\n",
       "        vertical-align: middle;\n",
       "    }\n",
       "\n",
       "    .dataframe tbody tr th {\n",
       "        vertical-align: top;\n",
       "    }\n",
       "\n",
       "    .dataframe thead th {\n",
       "        text-align: right;\n",
       "    }\n",
       "</style>\n",
       "<table border=\"1\" class=\"dataframe\">\n",
       "  <thead>\n",
       "    <tr style=\"text-align: right;\">\n",
       "      <th></th>\n",
       "      <th>Пол</th>\n",
       "      <th>Возраст</th>\n",
       "      <th>Зарплата</th>\n",
       "      <th>Члены семьи</th>\n",
       "      <th>Страховые выплаты</th>\n",
       "    </tr>\n",
       "  </thead>\n",
       "  <tbody>\n",
       "    <tr>\n",
       "      <th>0</th>\n",
       "      <td>-0.0</td>\n",
       "      <td>32.0</td>\n",
       "      <td>46800.0</td>\n",
       "      <td>0.0</td>\n",
       "      <td>0.0</td>\n",
       "    </tr>\n",
       "    <tr>\n",
       "      <th>1</th>\n",
       "      <td>-0.0</td>\n",
       "      <td>23.0</td>\n",
       "      <td>34600.0</td>\n",
       "      <td>1.0</td>\n",
       "      <td>0.0</td>\n",
       "    </tr>\n",
       "    <tr>\n",
       "      <th>2</th>\n",
       "      <td>1.0</td>\n",
       "      <td>36.0</td>\n",
       "      <td>26000.0</td>\n",
       "      <td>1.0</td>\n",
       "      <td>0.0</td>\n",
       "    </tr>\n",
       "    <tr>\n",
       "      <th>3</th>\n",
       "      <td>1.0</td>\n",
       "      <td>22.0</td>\n",
       "      <td>49800.0</td>\n",
       "      <td>0.0</td>\n",
       "      <td>0.0</td>\n",
       "    </tr>\n",
       "    <tr>\n",
       "      <th>4</th>\n",
       "      <td>-0.0</td>\n",
       "      <td>40.0</td>\n",
       "      <td>52000.0</td>\n",
       "      <td>0.0</td>\n",
       "      <td>0.0</td>\n",
       "    </tr>\n",
       "    <tr>\n",
       "      <th>...</th>\n",
       "      <td>...</td>\n",
       "      <td>...</td>\n",
       "      <td>...</td>\n",
       "      <td>...</td>\n",
       "      <td>...</td>\n",
       "    </tr>\n",
       "    <tr>\n",
       "      <th>4842</th>\n",
       "      <td>-0.0</td>\n",
       "      <td>45.0</td>\n",
       "      <td>41000.0</td>\n",
       "      <td>0.0</td>\n",
       "      <td>1.0</td>\n",
       "    </tr>\n",
       "    <tr>\n",
       "      <th>4843</th>\n",
       "      <td>-0.0</td>\n",
       "      <td>48.0</td>\n",
       "      <td>25700.0</td>\n",
       "      <td>1.0</td>\n",
       "      <td>1.0</td>\n",
       "    </tr>\n",
       "    <tr>\n",
       "      <th>4844</th>\n",
       "      <td>1.0</td>\n",
       "      <td>45.0</td>\n",
       "      <td>58700.0</td>\n",
       "      <td>1.0</td>\n",
       "      <td>1.0</td>\n",
       "    </tr>\n",
       "    <tr>\n",
       "      <th>4845</th>\n",
       "      <td>-0.0</td>\n",
       "      <td>37.0</td>\n",
       "      <td>39900.0</td>\n",
       "      <td>0.0</td>\n",
       "      <td>0.0</td>\n",
       "    </tr>\n",
       "    <tr>\n",
       "      <th>4846</th>\n",
       "      <td>1.0</td>\n",
       "      <td>30.0</td>\n",
       "      <td>38800.0</td>\n",
       "      <td>0.0</td>\n",
       "      <td>0.0</td>\n",
       "    </tr>\n",
       "  </tbody>\n",
       "</table>\n",
       "<p>4847 rows × 5 columns</p>\n",
       "</div>"
      ],
      "text/plain": [
       "      Пол  Возраст  Зарплата  Члены семьи  Страховые выплаты\n",
       "0    -0.0     32.0   46800.0          0.0                0.0\n",
       "1    -0.0     23.0   34600.0          1.0                0.0\n",
       "2     1.0     36.0   26000.0          1.0                0.0\n",
       "3     1.0     22.0   49800.0          0.0                0.0\n",
       "4    -0.0     40.0   52000.0          0.0                0.0\n",
       "...   ...      ...       ...          ...                ...\n",
       "4842 -0.0     45.0   41000.0          0.0                1.0\n",
       "4843 -0.0     48.0   25700.0          1.0                1.0\n",
       "4844  1.0     45.0   58700.0          1.0                1.0\n",
       "4845 -0.0     37.0   39900.0          0.0                0.0\n",
       "4846  1.0     30.0   38800.0          0.0                0.0\n",
       "\n",
       "[4847 rows x 5 columns]"
      ]
     },
     "execution_count": 39,
     "metadata": {},
     "output_type": "execute_result"
    }
   ],
   "source": [
    "pd.DataFrame(\n",
    "    np.round(np.concatenate((\n",
    "        np.concatenate((scaler.inverse_transform(feat_train_scrambled @ np.linalg.inv(ran_v)), trg_train.reshape(-1, 1)), 1),\n",
    "        np.concatenate((scaler.inverse_transform(feat_test_scrambled @ np.linalg.inv(ran_v)), trg_test.reshape(-1, 1)), 1)\n",
    "    )), 10),\n",
    "    columns=ins.columns)\n"
   ]
  },
  {
   "cell_type": "markdown",
   "metadata": {},
   "source": [
    "**Выводы**\n",
    "\n",
    "Используя матричное умножение на матрицу обратную P, мы можем восстановить изначальную таблицу признаков, с очень маленьким отклонением, вызванным неточностью вычисления. Если, перед объединением, восстановить целевой признак, мы можем восстановить содержание оригинального Датафрейма. Результат не совпадает с оригиналом по индексу, ввиду того что перед разбиением на выборки индекс не сохраняли, однако содержит все записи, кроме отброшенных при переработке."
   ]
  },
  {
   "cell_type": "markdown",
   "metadata": {},
   "source": [
    "## 10. <a id='toc10_'></a>[Заключение.](#toc0_)\n",
    "\n",
    "Свойства линейной регрессии и правила умножения матриц позволяют нам зашифровать данные клиентов, умножая матрицу признаков на случайную, обратимую, квадратную матрицу размера равного количеству признаков, таким образом, что не теряется качество работы линейной регрессии, при этом крайне сложно, не имея случайную матрицу восстановить оригинальные данные."
   ]
  }
 ],
 "metadata": {
  "ExecuteTimeLog": [
   {
    "duration": 401,
    "start_time": "2023-11-12T09:34:22.441Z"
   },
   {
    "duration": 84,
    "start_time": "2023-11-12T09:34:48.200Z"
   },
   {
    "duration": 17,
    "start_time": "2023-11-12T09:34:51.460Z"
   },
   {
    "duration": 11,
    "start_time": "2023-11-12T09:34:56.657Z"
   },
   {
    "duration": 5,
    "start_time": "2023-11-12T11:30:47.393Z"
   },
   {
    "duration": 6,
    "start_time": "2023-11-12T11:31:31.736Z"
   },
   {
    "duration": 3,
    "start_time": "2023-11-12T11:31:35.273Z"
   },
   {
    "duration": 5,
    "start_time": "2023-11-12T11:31:41.531Z"
   },
   {
    "duration": 63,
    "start_time": "2023-11-12T11:32:10.002Z"
   },
   {
    "duration": 2,
    "start_time": "2023-11-12T11:32:12.596Z"
   },
   {
    "duration": 4,
    "start_time": "2023-11-12T11:32:41.332Z"
   },
   {
    "duration": 4,
    "start_time": "2023-11-12T11:32:50.317Z"
   },
   {
    "duration": 4,
    "start_time": "2023-11-12T11:32:56.129Z"
   },
   {
    "duration": 4,
    "start_time": "2023-11-12T11:32:59.320Z"
   },
   {
    "duration": 853,
    "start_time": "2023-11-12T11:34:38.497Z"
   },
   {
    "duration": 877,
    "start_time": "2023-11-12T11:34:50.834Z"
   },
   {
    "duration": 3,
    "start_time": "2023-11-12T11:35:20.677Z"
   },
   {
    "duration": 2,
    "start_time": "2023-11-12T11:35:22.566Z"
   },
   {
    "duration": 4,
    "start_time": "2023-11-12T11:35:27.065Z"
   },
   {
    "duration": 6,
    "start_time": "2023-11-12T11:35:33.991Z"
   },
   {
    "duration": 8,
    "start_time": "2023-11-12T11:35:40.563Z"
   },
   {
    "duration": 113,
    "start_time": "2023-11-12T11:35:47.238Z"
   },
   {
    "duration": 460,
    "start_time": "2023-11-12T16:30:38.486Z"
   },
   {
    "duration": 81,
    "start_time": "2023-11-12T16:30:40.279Z"
   },
   {
    "duration": 22,
    "start_time": "2023-11-12T16:30:41.143Z"
   },
   {
    "duration": 12,
    "start_time": "2023-11-12T16:30:43.198Z"
   },
   {
    "duration": 5,
    "start_time": "2023-11-12T16:30:44.520Z"
   },
   {
    "duration": 3,
    "start_time": "2023-11-12T16:30:46.712Z"
   },
   {
    "duration": 4,
    "start_time": "2023-11-12T16:30:49.747Z"
   },
   {
    "duration": 5,
    "start_time": "2023-11-12T16:30:51.305Z"
   },
   {
    "duration": 4,
    "start_time": "2023-11-12T16:31:17.804Z"
   },
   {
    "duration": 6,
    "start_time": "2023-11-12T16:32:58.588Z"
   },
   {
    "duration": 5,
    "start_time": "2023-11-12T16:34:26.170Z"
   },
   {
    "duration": 5,
    "start_time": "2023-11-12T16:34:28.745Z"
   },
   {
    "duration": 6,
    "start_time": "2023-11-12T16:35:53.862Z"
   },
   {
    "duration": 5,
    "start_time": "2023-11-12T16:36:49.530Z"
   },
   {
    "duration": 693,
    "start_time": "2023-11-12T16:37:53.154Z"
   },
   {
    "duration": 3,
    "start_time": "2023-11-12T16:39:04.658Z"
   },
   {
    "duration": 2,
    "start_time": "2023-11-12T16:39:48.851Z"
   },
   {
    "duration": 6,
    "start_time": "2023-11-12T16:40:00.089Z"
   },
   {
    "duration": 5,
    "start_time": "2023-11-12T16:40:05.914Z"
   },
   {
    "duration": 100,
    "start_time": "2023-11-12T16:41:53.672Z"
   },
   {
    "duration": 3,
    "start_time": "2023-11-12T16:41:57.841Z"
   },
   {
    "duration": 4,
    "start_time": "2023-11-12T16:42:00.548Z"
   },
   {
    "duration": 4,
    "start_time": "2023-11-12T16:42:05.626Z"
   },
   {
    "duration": 9,
    "start_time": "2023-11-12T16:43:40.954Z"
   },
   {
    "duration": 10,
    "start_time": "2023-11-12T16:44:20.476Z"
   },
   {
    "duration": 5,
    "start_time": "2023-11-12T16:44:26.557Z"
   },
   {
    "duration": 4,
    "start_time": "2023-11-12T16:44:31.768Z"
   },
   {
    "duration": 4,
    "start_time": "2023-11-12T16:44:37.900Z"
   },
   {
    "duration": 5,
    "start_time": "2023-11-12T16:44:42.249Z"
   },
   {
    "duration": 12,
    "start_time": "2023-11-12T16:44:50.454Z"
   },
   {
    "duration": 8,
    "start_time": "2023-11-12T16:45:36.361Z"
   },
   {
    "duration": 9,
    "start_time": "2023-11-12T16:45:41.533Z"
   },
   {
    "duration": 8,
    "start_time": "2023-11-12T16:45:54.391Z"
   },
   {
    "duration": 6,
    "start_time": "2023-11-12T16:51:38.267Z"
   },
   {
    "duration": 10,
    "start_time": "2023-11-12T16:51:51.164Z"
   },
   {
    "duration": 9,
    "start_time": "2023-11-12T16:52:12.669Z"
   },
   {
    "duration": 3,
    "start_time": "2023-11-12T16:52:17.661Z"
   },
   {
    "duration": 9,
    "start_time": "2023-11-12T16:52:18.699Z"
   },
   {
    "duration": 5,
    "start_time": "2023-11-12T16:52:22.899Z"
   },
   {
    "duration": 2,
    "start_time": "2023-11-12T16:52:24.445Z"
   },
   {
    "duration": 4,
    "start_time": "2023-11-12T16:52:24.624Z"
   },
   {
    "duration": 2,
    "start_time": "2023-11-12T16:52:25.997Z"
   },
   {
    "duration": 5,
    "start_time": "2023-11-12T16:52:26.165Z"
   },
   {
    "duration": 5,
    "start_time": "2023-11-12T16:52:29.089Z"
   },
   {
    "duration": 78,
    "start_time": "2023-11-12T16:56:21.904Z"
   },
   {
    "duration": 73,
    "start_time": "2023-11-12T16:56:34.253Z"
   },
   {
    "duration": 6,
    "start_time": "2023-11-12T16:56:41.792Z"
   },
   {
    "duration": 8,
    "start_time": "2023-11-12T16:56:54.629Z"
   },
   {
    "duration": 82,
    "start_time": "2023-11-12T16:57:00.245Z"
   },
   {
    "duration": 854,
    "start_time": "2023-11-12T16:57:04.025Z"
   },
   {
    "duration": 9,
    "start_time": "2023-11-12T16:57:07.689Z"
   },
   {
    "duration": 3,
    "start_time": "2023-11-12T16:57:11.943Z"
   },
   {
    "duration": 6,
    "start_time": "2023-11-12T16:57:12.300Z"
   },
   {
    "duration": 6,
    "start_time": "2023-11-12T16:57:13.348Z"
   },
   {
    "duration": 7,
    "start_time": "2023-11-12T16:57:14.148Z"
   },
   {
    "duration": 6,
    "start_time": "2023-11-12T16:57:14.924Z"
   },
   {
    "duration": 17,
    "start_time": "2023-11-12T16:57:35.628Z"
   },
   {
    "duration": 3,
    "start_time": "2023-11-12T17:00:53.437Z"
   },
   {
    "duration": 3,
    "start_time": "2023-11-12T17:01:19.418Z"
   },
   {
    "duration": 4,
    "start_time": "2023-11-12T17:01:20.877Z"
   },
   {
    "duration": 17,
    "start_time": "2023-11-12T17:01:49.099Z"
   },
   {
    "duration": 3,
    "start_time": "2023-11-12T17:05:02.445Z"
   },
   {
    "duration": 12,
    "start_time": "2023-11-12T17:05:02.749Z"
   },
   {
    "duration": 3,
    "start_time": "2023-11-12T17:05:12.470Z"
   },
   {
    "duration": 4,
    "start_time": "2023-11-12T17:05:13.433Z"
   },
   {
    "duration": 7,
    "start_time": "2023-11-12T17:05:13.727Z"
   },
   {
    "duration": 6,
    "start_time": "2023-11-12T17:07:05.665Z"
   },
   {
    "duration": 14,
    "start_time": "2023-11-12T17:07:06.199Z"
   },
   {
    "duration": 4,
    "start_time": "2023-11-12T17:07:16.220Z"
   },
   {
    "duration": 8,
    "start_time": "2023-11-12T17:07:16.657Z"
   },
   {
    "duration": 3,
    "start_time": "2023-11-12T17:07:19.429Z"
   },
   {
    "duration": 3,
    "start_time": "2023-11-12T17:07:19.767Z"
   },
   {
    "duration": 4,
    "start_time": "2023-11-12T17:07:20.043Z"
   },
   {
    "duration": 6,
    "start_time": "2023-11-12T17:07:20.824Z"
   },
   {
    "duration": 1136,
    "start_time": "2023-11-13T09:59:01.729Z"
   },
   {
    "duration": 78,
    "start_time": "2023-11-13T09:59:03.322Z"
   },
   {
    "duration": 18,
    "start_time": "2023-11-13T09:59:03.710Z"
   },
   {
    "duration": 11,
    "start_time": "2023-11-13T09:59:04.424Z"
   },
   {
    "duration": 6,
    "start_time": "2023-11-13T09:59:05.499Z"
   },
   {
    "duration": 3,
    "start_time": "2023-11-13T09:59:05.891Z"
   },
   {
    "duration": 4,
    "start_time": "2023-11-13T09:59:06.491Z"
   },
   {
    "duration": 3,
    "start_time": "2023-11-13T09:59:06.940Z"
   },
   {
    "duration": 4,
    "start_time": "2023-11-13T09:59:07.527Z"
   },
   {
    "duration": 4,
    "start_time": "2023-11-13T09:59:10.403Z"
   },
   {
    "duration": 6,
    "start_time": "2023-11-13T09:59:13.106Z"
   },
   {
    "duration": 4,
    "start_time": "2023-11-13T09:59:22.351Z"
   },
   {
    "duration": 4,
    "start_time": "2023-11-13T09:59:22.872Z"
   },
   {
    "duration": 3,
    "start_time": "2023-11-13T09:59:23.288Z"
   },
   {
    "duration": 6,
    "start_time": "2023-11-13T09:59:23.819Z"
   },
   {
    "duration": 5,
    "start_time": "2023-11-13T09:59:26.147Z"
   },
   {
    "duration": 3,
    "start_time": "2023-11-13T09:59:28.863Z"
   },
   {
    "duration": 3,
    "start_time": "2023-11-13T09:59:29.200Z"
   },
   {
    "duration": 3,
    "start_time": "2023-11-13T09:59:29.625Z"
   },
   {
    "duration": 6,
    "start_time": "2023-11-13T09:59:30.485Z"
   },
   {
    "duration": 2,
    "start_time": "2023-11-13T10:04:46.623Z"
   },
   {
    "duration": 31,
    "start_time": "2023-11-13T10:04:46.627Z"
   },
   {
    "duration": 12,
    "start_time": "2023-11-13T10:04:46.659Z"
   },
   {
    "duration": 16,
    "start_time": "2023-11-13T10:04:46.673Z"
   },
   {
    "duration": 5,
    "start_time": "2023-11-13T10:04:46.691Z"
   },
   {
    "duration": 9,
    "start_time": "2023-11-13T10:04:46.698Z"
   },
   {
    "duration": 9,
    "start_time": "2023-11-13T10:04:46.708Z"
   },
   {
    "duration": 6,
    "start_time": "2023-11-13T10:04:46.718Z"
   },
   {
    "duration": 6,
    "start_time": "2023-11-13T10:04:46.725Z"
   },
   {
    "duration": 7,
    "start_time": "2023-11-13T10:04:46.732Z"
   },
   {
    "duration": 25,
    "start_time": "2023-11-13T10:04:46.740Z"
   },
   {
    "duration": 4,
    "start_time": "2023-11-13T10:04:46.767Z"
   },
   {
    "duration": 5,
    "start_time": "2023-11-13T10:04:46.772Z"
   },
   {
    "duration": 5,
    "start_time": "2023-11-13T10:04:46.779Z"
   },
   {
    "duration": 8,
    "start_time": "2023-11-13T10:04:46.786Z"
   },
   {
    "duration": 73,
    "start_time": "2023-11-13T10:04:46.796Z"
   },
   {
    "duration": 3,
    "start_time": "2023-11-13T10:04:46.871Z"
   },
   {
    "duration": 6,
    "start_time": "2023-11-13T10:04:46.876Z"
   },
   {
    "duration": 83,
    "start_time": "2023-11-13T10:04:46.883Z"
   },
   {
    "duration": 6,
    "start_time": "2023-11-13T10:04:50.010Z"
   },
   {
    "duration": 6,
    "start_time": "2023-11-13T10:43:07.847Z"
   },
   {
    "duration": 5,
    "start_time": "2023-11-13T10:43:27.839Z"
   },
   {
    "duration": 1116,
    "start_time": "2023-11-13T10:51:38.553Z"
   },
   {
    "duration": 30,
    "start_time": "2023-11-13T10:51:39.671Z"
   },
   {
    "duration": 20,
    "start_time": "2023-11-13T10:51:39.702Z"
   },
   {
    "duration": 22,
    "start_time": "2023-11-13T10:51:39.724Z"
   },
   {
    "duration": 23,
    "start_time": "2023-11-13T10:51:39.747Z"
   },
   {
    "duration": 22,
    "start_time": "2023-11-13T10:51:39.772Z"
   },
   {
    "duration": 24,
    "start_time": "2023-11-13T10:51:39.795Z"
   },
   {
    "duration": 35,
    "start_time": "2023-11-13T10:51:39.821Z"
   },
   {
    "duration": 31,
    "start_time": "2023-11-13T10:51:39.858Z"
   },
   {
    "duration": 15,
    "start_time": "2023-11-13T10:51:39.892Z"
   },
   {
    "duration": 14,
    "start_time": "2023-11-13T10:51:39.909Z"
   },
   {
    "duration": 13,
    "start_time": "2023-11-13T10:51:39.924Z"
   },
   {
    "duration": 26,
    "start_time": "2023-11-13T10:51:39.939Z"
   },
   {
    "duration": 14,
    "start_time": "2023-11-13T10:51:39.967Z"
   },
   {
    "duration": 43,
    "start_time": "2023-11-13T10:51:39.982Z"
   },
   {
    "duration": 43,
    "start_time": "2023-11-13T10:51:40.027Z"
   },
   {
    "duration": 17,
    "start_time": "2023-11-13T10:51:40.073Z"
   },
   {
    "duration": 15,
    "start_time": "2023-11-13T10:51:40.166Z"
   },
   {
    "duration": 83,
    "start_time": "2023-11-13T10:51:40.183Z"
   },
   {
    "duration": 30,
    "start_time": "2023-11-13T10:51:40.267Z"
   },
   {
    "duration": 4,
    "start_time": "2023-11-13T10:52:06.260Z"
   },
   {
    "duration": 4,
    "start_time": "2023-11-13T10:52:08.420Z"
   },
   {
    "duration": 4,
    "start_time": "2023-11-13T10:52:10.338Z"
   },
   {
    "duration": 4,
    "start_time": "2023-11-13T10:52:12.402Z"
   },
   {
    "duration": 4,
    "start_time": "2023-11-13T10:52:14.820Z"
   },
   {
    "duration": 3,
    "start_time": "2023-11-13T10:52:17.089Z"
   },
   {
    "duration": 4,
    "start_time": "2023-11-13T10:52:18.687Z"
   },
   {
    "duration": 4,
    "start_time": "2023-11-13T10:52:21.327Z"
   },
   {
    "duration": 5,
    "start_time": "2023-11-13T10:52:22.997Z"
   },
   {
    "duration": 5,
    "start_time": "2023-11-13T10:52:27.857Z"
   },
   {
    "duration": 3,
    "start_time": "2023-11-13T10:52:44.346Z"
   },
   {
    "duration": 111,
    "start_time": "2023-11-13T12:34:06.205Z"
   },
   {
    "duration": 8,
    "start_time": "2023-11-13T13:16:12.688Z"
   },
   {
    "duration": 6,
    "start_time": "2023-11-13T13:16:18.948Z"
   },
   {
    "duration": 3,
    "start_time": "2023-11-13T13:16:54.977Z"
   },
   {
    "duration": 5,
    "start_time": "2023-11-13T13:17:33.527Z"
   },
   {
    "duration": 12,
    "start_time": "2023-11-13T13:17:54.319Z"
   },
   {
    "duration": 6,
    "start_time": "2023-11-13T13:17:59.858Z"
   },
   {
    "duration": 6,
    "start_time": "2023-11-13T13:29:05.469Z"
   },
   {
    "duration": 6,
    "start_time": "2023-11-13T13:29:28.981Z"
   },
   {
    "duration": 6,
    "start_time": "2023-11-13T13:29:34.566Z"
   },
   {
    "duration": 107,
    "start_time": "2023-11-13T13:29:48.088Z"
   },
   {
    "duration": 6,
    "start_time": "2023-11-13T13:29:54.400Z"
   },
   {
    "duration": 7,
    "start_time": "2023-11-13T13:30:04.317Z"
   },
   {
    "duration": 503,
    "start_time": "2023-11-13T13:30:53.344Z"
   },
   {
    "duration": 421,
    "start_time": "2023-11-13T13:31:23.210Z"
   },
   {
    "duration": 3,
    "start_time": "2023-11-13T13:31:54.171Z"
   },
   {
    "duration": 399,
    "start_time": "2023-11-13T13:32:07.343Z"
   },
   {
    "duration": 351,
    "start_time": "2023-11-13T13:32:09.855Z"
   },
   {
    "duration": 426,
    "start_time": "2023-11-13T13:32:20.630Z"
   },
   {
    "duration": 446,
    "start_time": "2023-11-13T13:32:27.380Z"
   },
   {
    "duration": 363,
    "start_time": "2023-11-13T13:32:30.260Z"
   },
   {
    "duration": 369,
    "start_time": "2023-11-13T13:32:34.237Z"
   },
   {
    "duration": 333,
    "start_time": "2023-11-13T13:32:38.380Z"
   },
   {
    "duration": 349,
    "start_time": "2023-11-13T13:32:59.893Z"
   },
   {
    "duration": 340,
    "start_time": "2023-11-13T13:33:19.350Z"
   },
   {
    "duration": 314,
    "start_time": "2023-11-13T13:33:40.209Z"
   },
   {
    "duration": 6,
    "start_time": "2023-11-13T13:36:16.457Z"
   },
   {
    "duration": 12,
    "start_time": "2023-11-13T13:36:30.573Z"
   },
   {
    "duration": 9,
    "start_time": "2023-11-13T13:36:40.066Z"
   },
   {
    "duration": 8,
    "start_time": "2023-11-13T14:06:15.889Z"
   },
   {
    "duration": 165,
    "start_time": "2023-11-13T14:07:30.459Z"
   },
   {
    "duration": 3,
    "start_time": "2023-11-13T14:07:40.430Z"
   },
   {
    "duration": 4,
    "start_time": "2023-11-13T14:07:41.657Z"
   },
   {
    "duration": 9,
    "start_time": "2023-11-13T14:07:48.630Z"
   },
   {
    "duration": 12,
    "start_time": "2023-11-13T14:07:50.451Z"
   },
   {
    "duration": 3,
    "start_time": "2023-11-13T14:08:46.693Z"
   },
   {
    "duration": 80,
    "start_time": "2023-11-13T14:09:26.573Z"
   },
   {
    "duration": 10,
    "start_time": "2023-11-13T14:09:29.995Z"
   },
   {
    "duration": 134,
    "start_time": "2023-11-13T14:40:59.697Z"
   },
   {
    "duration": 3,
    "start_time": "2023-11-13T14:48:41.522Z"
   },
   {
    "duration": 32,
    "start_time": "2023-11-13T14:48:41.527Z"
   },
   {
    "duration": 12,
    "start_time": "2023-11-13T14:48:41.561Z"
   },
   {
    "duration": 13,
    "start_time": "2023-11-13T14:48:41.575Z"
   },
   {
    "duration": 4,
    "start_time": "2023-11-13T14:48:41.590Z"
   },
   {
    "duration": 7,
    "start_time": "2023-11-13T14:48:41.596Z"
   },
   {
    "duration": 10,
    "start_time": "2023-11-13T14:48:41.604Z"
   },
   {
    "duration": 4,
    "start_time": "2023-11-13T14:48:41.615Z"
   },
   {
    "duration": 3,
    "start_time": "2023-11-13T14:48:41.620Z"
   },
   {
    "duration": 6,
    "start_time": "2023-11-13T14:48:41.624Z"
   },
   {
    "duration": 10,
    "start_time": "2023-11-13T14:48:41.631Z"
   },
   {
    "duration": 5,
    "start_time": "2023-11-13T14:48:41.665Z"
   },
   {
    "duration": 330,
    "start_time": "2023-11-13T14:48:41.672Z"
   },
   {
    "duration": 340,
    "start_time": "2023-11-13T14:48:42.005Z"
   },
   {
    "duration": 336,
    "start_time": "2023-11-13T14:48:42.347Z"
   },
   {
    "duration": 171,
    "start_time": "2023-11-13T14:50:27.701Z"
   },
   {
    "duration": 436,
    "start_time": "2023-11-13T14:50:31.830Z"
   },
   {
    "duration": 162,
    "start_time": "2023-11-13T14:50:35.322Z"
   },
   {
    "duration": 3,
    "start_time": "2023-11-13T14:51:04.855Z"
   },
   {
    "duration": 3,
    "start_time": "2023-11-13T14:51:09.389Z"
   },
   {
    "duration": 195,
    "start_time": "2023-11-13T14:51:12.773Z"
   },
   {
    "duration": 185,
    "start_time": "2023-11-13T14:51:18.969Z"
   },
   {
    "duration": 328,
    "start_time": "2023-11-13T14:51:27.656Z"
   },
   {
    "duration": 5,
    "start_time": "2023-11-13T14:51:43.586Z"
   },
   {
    "duration": 6,
    "start_time": "2023-11-13T14:51:49.404Z"
   },
   {
    "duration": 190,
    "start_time": "2023-11-13T14:52:12.653Z"
   },
   {
    "duration": 189,
    "start_time": "2023-11-13T14:53:15.499Z"
   },
   {
    "duration": 217,
    "start_time": "2023-11-13T14:53:21.241Z"
   },
   {
    "duration": 207,
    "start_time": "2023-11-13T14:53:27.101Z"
   },
   {
    "duration": 197,
    "start_time": "2023-11-13T14:53:34.220Z"
   },
   {
    "duration": 81,
    "start_time": "2023-11-13T14:53:38.940Z"
   },
   {
    "duration": 211,
    "start_time": "2023-11-13T14:53:45.129Z"
   },
   {
    "duration": 5,
    "start_time": "2023-11-13T14:54:06.269Z"
   },
   {
    "duration": 296,
    "start_time": "2023-11-13T14:54:11.955Z"
   },
   {
    "duration": 358,
    "start_time": "2023-11-13T14:54:24.170Z"
   },
   {
    "duration": 344,
    "start_time": "2023-11-13T14:54:28.748Z"
   },
   {
    "duration": 342,
    "start_time": "2023-11-13T14:54:33.127Z"
   },
   {
    "duration": 340,
    "start_time": "2023-11-13T14:55:02.896Z"
   },
   {
    "duration": 187,
    "start_time": "2023-11-13T14:55:18.361Z"
   },
   {
    "duration": 199,
    "start_time": "2023-11-13T14:55:21.172Z"
   },
   {
    "duration": 177,
    "start_time": "2023-11-13T14:55:23.642Z"
   },
   {
    "duration": 158,
    "start_time": "2023-11-13T14:55:26.326Z"
   },
   {
    "duration": 69,
    "start_time": "2023-11-13T14:56:14.549Z"
   },
   {
    "duration": 197,
    "start_time": "2023-11-13T14:59:03.451Z"
   },
   {
    "duration": 8,
    "start_time": "2023-11-13T14:59:39.440Z"
   },
   {
    "duration": 5,
    "start_time": "2023-11-13T14:59:49.306Z"
   },
   {
    "duration": 3,
    "start_time": "2023-11-13T15:42:06.863Z"
   },
   {
    "duration": 4,
    "start_time": "2023-11-13T15:42:07.987Z"
   },
   {
    "duration": 5,
    "start_time": "2023-11-13T15:42:08.736Z"
   },
   {
    "duration": 4,
    "start_time": "2023-11-13T15:42:09.313Z"
   },
   {
    "duration": 4,
    "start_time": "2023-11-13T15:42:13.254Z"
   },
   {
    "duration": 8,
    "start_time": "2023-11-13T15:42:14.153Z"
   },
   {
    "duration": 101,
    "start_time": "2023-11-13T15:45:51.255Z"
   },
   {
    "duration": 2,
    "start_time": "2023-11-13T15:47:35.729Z"
   },
   {
    "duration": 2,
    "start_time": "2023-11-13T15:48:00.720Z"
   },
   {
    "duration": 4,
    "start_time": "2023-11-13T15:48:01.099Z"
   },
   {
    "duration": 4,
    "start_time": "2023-11-13T15:48:01.503Z"
   },
   {
    "duration": 3,
    "start_time": "2023-11-13T15:48:01.886Z"
   },
   {
    "duration": 4,
    "start_time": "2023-11-13T15:48:02.329Z"
   },
   {
    "duration": 6,
    "start_time": "2023-11-13T15:48:03.730Z"
   },
   {
    "duration": 4,
    "start_time": "2023-11-13T15:48:05.191Z"
   },
   {
    "duration": 4,
    "start_time": "2023-11-13T15:48:05.426Z"
   },
   {
    "duration": 3,
    "start_time": "2023-11-13T15:48:07.308Z"
   },
   {
    "duration": 7,
    "start_time": "2023-11-13T15:48:07.710Z"
   },
   {
    "duration": 4,
    "start_time": "2023-11-13T15:48:08.226Z"
   },
   {
    "duration": 3,
    "start_time": "2023-11-13T15:48:09.910Z"
   },
   {
    "duration": 2,
    "start_time": "2023-11-13T15:48:10.172Z"
   },
   {
    "duration": 4,
    "start_time": "2023-11-13T15:48:10.407Z"
   },
   {
    "duration": 6,
    "start_time": "2023-11-13T15:48:10.840Z"
   },
   {
    "duration": 3,
    "start_time": "2023-11-13T15:48:12.018Z"
   },
   {
    "duration": 4,
    "start_time": "2023-11-13T15:48:12.510Z"
   },
   {
    "duration": 3,
    "start_time": "2023-11-13T16:16:24.528Z"
   },
   {
    "duration": 4,
    "start_time": "2023-11-13T16:21:52.928Z"
   },
   {
    "duration": 10,
    "start_time": "2023-11-13T17:16:08.987Z"
   },
   {
    "duration": 3,
    "start_time": "2023-11-13T17:18:14.442Z"
   },
   {
    "duration": 7,
    "start_time": "2023-11-13T17:18:15.234Z"
   },
   {
    "duration": 4,
    "start_time": "2023-11-13T17:18:18.231Z"
   },
   {
    "duration": 4,
    "start_time": "2023-11-13T17:18:19.714Z"
   },
   {
    "duration": 6,
    "start_time": "2023-11-13T17:18:22.679Z"
   },
   {
    "duration": 18,
    "start_time": "2023-11-13T17:18:22.688Z"
   },
   {
    "duration": 20,
    "start_time": "2023-11-13T17:18:22.708Z"
   },
   {
    "duration": 39,
    "start_time": "2023-11-13T17:18:22.730Z"
   },
   {
    "duration": 22,
    "start_time": "2023-11-13T17:18:22.771Z"
   },
   {
    "duration": 22,
    "start_time": "2023-11-13T17:18:22.794Z"
   },
   {
    "duration": 21,
    "start_time": "2023-11-13T17:18:22.817Z"
   },
   {
    "duration": 36,
    "start_time": "2023-11-13T17:18:22.841Z"
   },
   {
    "duration": 12,
    "start_time": "2023-11-13T17:18:22.881Z"
   },
   {
    "duration": 24,
    "start_time": "2023-11-13T17:18:22.895Z"
   },
   {
    "duration": 27,
    "start_time": "2023-11-13T17:18:22.921Z"
   },
   {
    "duration": 14,
    "start_time": "2023-11-13T17:18:22.949Z"
   },
   {
    "duration": 38,
    "start_time": "2023-11-13T17:18:22.965Z"
   },
   {
    "duration": 28,
    "start_time": "2023-11-13T17:18:23.005Z"
   },
   {
    "duration": 26,
    "start_time": "2023-11-13T17:18:23.034Z"
   },
   {
    "duration": 229,
    "start_time": "2023-11-13T17:18:23.062Z"
   },
   {
    "duration": 350,
    "start_time": "2023-11-13T17:18:23.292Z"
   },
   {
    "duration": 188,
    "start_time": "2023-11-13T17:18:23.643Z"
   },
   {
    "duration": 179,
    "start_time": "2023-11-13T17:18:23.834Z"
   },
   {
    "duration": 3,
    "start_time": "2023-11-13T17:18:24.015Z"
   },
   {
    "duration": 25,
    "start_time": "2023-11-13T17:18:24.019Z"
   },
   {
    "duration": 14,
    "start_time": "2023-11-13T17:18:24.046Z"
   },
   {
    "duration": 25,
    "start_time": "2023-11-13T17:18:24.061Z"
   },
   {
    "duration": 16,
    "start_time": "2023-11-13T17:18:24.087Z"
   },
   {
    "duration": 21,
    "start_time": "2023-11-13T17:18:24.104Z"
   },
   {
    "duration": 32,
    "start_time": "2023-11-13T17:18:24.127Z"
   },
   {
    "duration": 19,
    "start_time": "2023-11-13T17:18:24.160Z"
   },
   {
    "duration": 22,
    "start_time": "2023-11-13T17:18:24.180Z"
   },
   {
    "duration": 8,
    "start_time": "2023-11-13T17:18:24.203Z"
   },
   {
    "duration": 8,
    "start_time": "2023-11-13T17:18:24.213Z"
   },
   {
    "duration": 5,
    "start_time": "2023-11-13T17:18:24.223Z"
   },
   {
    "duration": 38,
    "start_time": "2023-11-13T17:18:24.231Z"
   },
   {
    "duration": 11,
    "start_time": "2023-11-13T17:18:24.275Z"
   },
   {
    "duration": 3,
    "start_time": "2023-11-13T17:18:24.290Z"
   },
   {
    "duration": 17,
    "start_time": "2023-11-13T17:18:24.367Z"
   },
   {
    "duration": 117,
    "start_time": "2023-11-13T17:24:09.888Z"
   },
   {
    "duration": 7,
    "start_time": "2023-11-13T17:24:46.047Z"
   },
   {
    "duration": 11,
    "start_time": "2023-11-13T17:24:46.462Z"
   },
   {
    "duration": 3,
    "start_time": "2023-11-13T17:24:48.351Z"
   },
   {
    "duration": 13,
    "start_time": "2023-11-13T17:24:48.671Z"
   },
   {
    "duration": 9,
    "start_time": "2023-11-13T17:24:48.972Z"
   },
   {
    "duration": 10,
    "start_time": "2023-11-13T17:24:53.981Z"
   },
   {
    "duration": 4,
    "start_time": "2023-11-13T17:24:54.186Z"
   },
   {
    "duration": 1486,
    "start_time": "2023-11-13T17:25:00.539Z"
   },
   {
    "duration": 2,
    "start_time": "2023-11-13T17:25:02.027Z"
   },
   {
    "duration": 108,
    "start_time": "2023-11-13T17:25:02.031Z"
   },
   {
    "duration": 53,
    "start_time": "2023-11-13T17:25:02.141Z"
   },
   {
    "duration": 14,
    "start_time": "2023-11-13T17:25:02.197Z"
   },
   {
    "duration": 81,
    "start_time": "2023-11-13T17:25:02.213Z"
   },
   {
    "duration": 28,
    "start_time": "2023-11-13T17:25:02.296Z"
   },
   {
    "duration": 45,
    "start_time": "2023-11-13T17:25:02.325Z"
   },
   {
    "duration": 40,
    "start_time": "2023-11-13T17:25:02.372Z"
   },
   {
    "duration": 31,
    "start_time": "2023-11-13T17:25:02.414Z"
   },
   {
    "duration": 31,
    "start_time": "2023-11-13T17:25:02.446Z"
   },
   {
    "duration": 32,
    "start_time": "2023-11-13T17:25:02.478Z"
   },
   {
    "duration": 30,
    "start_time": "2023-11-13T17:25:02.512Z"
   },
   {
    "duration": 34,
    "start_time": "2023-11-13T17:25:02.545Z"
   },
   {
    "duration": 23,
    "start_time": "2023-11-13T17:25:02.580Z"
   },
   {
    "duration": 260,
    "start_time": "2023-11-13T17:25:02.604Z"
   },
   {
    "duration": 246,
    "start_time": "2023-11-13T17:25:02.868Z"
   },
   {
    "duration": 202,
    "start_time": "2023-11-13T17:25:03.116Z"
   },
   {
    "duration": 181,
    "start_time": "2023-11-13T17:25:03.320Z"
   },
   {
    "duration": 2,
    "start_time": "2023-11-13T17:25:03.503Z"
   },
   {
    "duration": 6,
    "start_time": "2023-11-13T17:25:03.507Z"
   },
   {
    "duration": 22,
    "start_time": "2023-11-13T17:25:03.515Z"
   },
   {
    "duration": 6,
    "start_time": "2023-11-13T17:25:03.539Z"
   },
   {
    "duration": 16,
    "start_time": "2023-11-13T17:25:03.547Z"
   },
   {
    "duration": 18,
    "start_time": "2023-11-13T17:25:03.564Z"
   },
   {
    "duration": 42,
    "start_time": "2023-11-13T17:25:03.584Z"
   },
   {
    "duration": 33,
    "start_time": "2023-11-13T17:25:03.627Z"
   },
   {
    "duration": 19,
    "start_time": "2023-11-13T17:25:03.662Z"
   },
   {
    "duration": 30,
    "start_time": "2023-11-13T17:25:03.682Z"
   },
   {
    "duration": 27,
    "start_time": "2023-11-13T17:25:03.714Z"
   },
   {
    "duration": 24,
    "start_time": "2023-11-13T17:25:03.743Z"
   },
   {
    "duration": 27,
    "start_time": "2023-11-13T17:25:03.769Z"
   },
   {
    "duration": 96,
    "start_time": "2023-11-13T17:25:03.798Z"
   },
   {
    "duration": 8,
    "start_time": "2023-11-13T17:25:03.896Z"
   },
   {
    "duration": 25,
    "start_time": "2023-11-13T17:25:03.906Z"
   },
   {
    "duration": 4,
    "start_time": "2023-11-13T17:26:51.514Z"
   },
   {
    "duration": 10,
    "start_time": "2023-11-13T17:26:56.278Z"
   },
   {
    "duration": 12,
    "start_time": "2023-11-13T17:27:00.476Z"
   },
   {
    "duration": 5,
    "start_time": "2023-11-13T17:27:34.274Z"
   },
   {
    "duration": 4,
    "start_time": "2023-11-13T17:27:37.371Z"
   },
   {
    "duration": 3082,
    "start_time": "2023-11-14T05:26:47.005Z"
   },
   {
    "duration": 3,
    "start_time": "2023-11-14T05:26:50.089Z"
   },
   {
    "duration": 31,
    "start_time": "2023-11-14T05:26:50.093Z"
   },
   {
    "duration": 91,
    "start_time": "2023-11-14T05:26:50.125Z"
   },
   {
    "duration": 16,
    "start_time": "2023-11-14T05:26:50.218Z"
   },
   {
    "duration": 12,
    "start_time": "2023-11-14T05:26:50.235Z"
   },
   {
    "duration": 5,
    "start_time": "2023-11-14T05:26:50.248Z"
   },
   {
    "duration": 28,
    "start_time": "2023-11-14T05:26:50.255Z"
   },
   {
    "duration": 6,
    "start_time": "2023-11-14T05:26:50.285Z"
   },
   {
    "duration": 4,
    "start_time": "2023-11-14T05:26:50.293Z"
   },
   {
    "duration": 17,
    "start_time": "2023-11-14T05:26:50.299Z"
   },
   {
    "duration": 4,
    "start_time": "2023-11-14T05:26:50.318Z"
   },
   {
    "duration": 12,
    "start_time": "2023-11-14T05:26:50.323Z"
   },
   {
    "duration": 22,
    "start_time": "2023-11-14T05:26:50.338Z"
   },
   {
    "duration": 9,
    "start_time": "2023-11-14T05:26:50.362Z"
   },
   {
    "duration": 231,
    "start_time": "2023-11-14T05:26:50.373Z"
   },
   {
    "duration": 236,
    "start_time": "2023-11-14T05:26:50.606Z"
   },
   {
    "duration": 185,
    "start_time": "2023-11-14T05:26:50.844Z"
   },
   {
    "duration": 172,
    "start_time": "2023-11-14T05:26:51.030Z"
   },
   {
    "duration": 2,
    "start_time": "2023-11-14T05:26:51.204Z"
   },
   {
    "duration": 6,
    "start_time": "2023-11-14T05:26:51.208Z"
   },
   {
    "duration": 8,
    "start_time": "2023-11-14T05:26:51.215Z"
   },
   {
    "duration": 5,
    "start_time": "2023-11-14T05:26:51.224Z"
   },
   {
    "duration": 7,
    "start_time": "2023-11-14T05:26:51.230Z"
   },
   {
    "duration": 6,
    "start_time": "2023-11-14T05:26:51.238Z"
   },
   {
    "duration": 28,
    "start_time": "2023-11-14T05:26:51.245Z"
   },
   {
    "duration": 94,
    "start_time": "2023-11-14T05:26:51.279Z"
   },
   {
    "duration": 92,
    "start_time": "2023-11-14T05:26:51.376Z"
   },
   {
    "duration": 3,
    "start_time": "2023-11-14T05:26:51.470Z"
   },
   {
    "duration": 8,
    "start_time": "2023-11-14T05:26:51.474Z"
   },
   {
    "duration": 90,
    "start_time": "2023-11-14T05:26:51.483Z"
   },
   {
    "duration": 92,
    "start_time": "2023-11-14T05:26:51.575Z"
   },
   {
    "duration": 98,
    "start_time": "2023-11-14T05:26:51.669Z"
   },
   {
    "duration": 12,
    "start_time": "2023-11-14T05:26:51.769Z"
   },
   {
    "duration": 19,
    "start_time": "2023-11-14T05:26:51.782Z"
   },
   {
    "duration": 1692,
    "start_time": "2023-11-14T22:25:02.256Z"
   },
   {
    "duration": 3,
    "start_time": "2023-11-14T22:25:03.950Z"
   },
   {
    "duration": 5,
    "start_time": "2023-11-14T22:25:03.955Z"
   },
   {
    "duration": 80,
    "start_time": "2023-11-14T22:25:03.961Z"
   },
   {
    "duration": 17,
    "start_time": "2023-11-14T22:25:04.043Z"
   },
   {
    "duration": 14,
    "start_time": "2023-11-14T22:25:04.062Z"
   },
   {
    "duration": 7,
    "start_time": "2023-11-14T22:25:04.078Z"
   },
   {
    "duration": 5,
    "start_time": "2023-11-14T22:25:04.087Z"
   },
   {
    "duration": 6,
    "start_time": "2023-11-14T22:25:04.094Z"
   },
   {
    "duration": 4,
    "start_time": "2023-11-14T22:25:04.104Z"
   },
   {
    "duration": 21,
    "start_time": "2023-11-14T22:25:04.109Z"
   },
   {
    "duration": 23,
    "start_time": "2023-11-14T22:25:04.131Z"
   },
   {
    "duration": 12,
    "start_time": "2023-11-14T22:25:04.156Z"
   },
   {
    "duration": 6,
    "start_time": "2023-11-14T22:25:04.170Z"
   },
   {
    "duration": 7,
    "start_time": "2023-11-14T22:25:04.177Z"
   },
   {
    "duration": 267,
    "start_time": "2023-11-14T22:25:04.185Z"
   },
   {
    "duration": 229,
    "start_time": "2023-11-14T22:25:04.454Z"
   },
   {
    "duration": 198,
    "start_time": "2023-11-14T22:25:04.685Z"
   },
   {
    "duration": 191,
    "start_time": "2023-11-14T22:25:04.885Z"
   },
   {
    "duration": 3,
    "start_time": "2023-11-14T22:25:05.078Z"
   },
   {
    "duration": 26,
    "start_time": "2023-11-14T22:25:05.083Z"
   },
   {
    "duration": 13,
    "start_time": "2023-11-14T22:25:05.111Z"
   },
   {
    "duration": 6,
    "start_time": "2023-11-14T22:25:05.125Z"
   },
   {
    "duration": 5,
    "start_time": "2023-11-14T22:25:05.133Z"
   },
   {
    "duration": 9,
    "start_time": "2023-11-14T22:25:05.140Z"
   },
   {
    "duration": 38,
    "start_time": "2023-11-14T22:25:05.153Z"
   },
   {
    "duration": 66,
    "start_time": "2023-11-14T22:25:05.196Z"
   },
   {
    "duration": 14,
    "start_time": "2023-11-14T22:25:05.352Z"
   },
   {
    "duration": 11,
    "start_time": "2023-11-14T22:25:05.369Z"
   },
   {
    "duration": 17,
    "start_time": "2023-11-14T22:25:05.381Z"
   },
   {
    "duration": 57,
    "start_time": "2023-11-14T22:25:05.400Z"
   },
   {
    "duration": 94,
    "start_time": "2023-11-14T22:25:05.459Z"
   },
   {
    "duration": 97,
    "start_time": "2023-11-14T22:25:05.555Z"
   },
   {
    "duration": 4,
    "start_time": "2023-11-14T22:25:05.653Z"
   },
   {
    "duration": 8,
    "start_time": "2023-11-14T22:25:05.658Z"
   },
   {
    "duration": 161,
    "start_time": "2023-11-14T22:25:42.194Z"
   },
   {
    "duration": 209,
    "start_time": "2023-11-14T22:25:58.184Z"
   },
   {
    "duration": 139,
    "start_time": "2023-11-14T22:26:26.592Z"
   },
   {
    "duration": 435,
    "start_time": "2023-11-14T22:36:51.275Z"
   },
   {
    "duration": 273,
    "start_time": "2023-11-14T22:36:58.452Z"
   },
   {
    "duration": 353,
    "start_time": "2023-11-14T22:37:16.064Z"
   },
   {
    "duration": 389,
    "start_time": "2023-11-14T22:37:23.041Z"
   },
   {
    "duration": 390,
    "start_time": "2023-11-14T22:37:57.925Z"
   },
   {
    "duration": 209,
    "start_time": "2023-11-14T22:38:08.769Z"
   },
   {
    "duration": 317,
    "start_time": "2023-11-14T22:38:16.299Z"
   },
   {
    "duration": 287,
    "start_time": "2023-11-14T22:44:15.148Z"
   },
   {
    "duration": 286,
    "start_time": "2023-11-14T22:44:29.348Z"
   },
   {
    "duration": 24,
    "start_time": "2023-11-14T22:52:45.284Z"
   },
   {
    "duration": 58,
    "start_time": "2023-11-16T16:35:21.991Z"
   },
   {
    "duration": 1731,
    "start_time": "2023-11-16T16:35:26.866Z"
   },
   {
    "duration": 3,
    "start_time": "2023-11-16T16:35:28.599Z"
   },
   {
    "duration": 5,
    "start_time": "2023-11-16T16:35:28.603Z"
   },
   {
    "duration": 80,
    "start_time": "2023-11-16T16:35:28.609Z"
   },
   {
    "duration": 17,
    "start_time": "2023-11-16T16:35:28.692Z"
   },
   {
    "duration": 11,
    "start_time": "2023-11-16T16:35:28.710Z"
   },
   {
    "duration": 6,
    "start_time": "2023-11-16T16:35:28.722Z"
   },
   {
    "duration": 7,
    "start_time": "2023-11-16T16:35:28.729Z"
   },
   {
    "duration": 5,
    "start_time": "2023-11-16T16:35:28.737Z"
   },
   {
    "duration": 8,
    "start_time": "2023-11-16T16:35:28.744Z"
   },
   {
    "duration": 4,
    "start_time": "2023-11-16T16:35:28.753Z"
   },
   {
    "duration": 5,
    "start_time": "2023-11-16T16:35:28.758Z"
   },
   {
    "duration": 47,
    "start_time": "2023-11-16T16:35:28.764Z"
   },
   {
    "duration": 5,
    "start_time": "2023-11-16T16:35:28.814Z"
   },
   {
    "duration": 7,
    "start_time": "2023-11-16T16:35:28.821Z"
   },
   {
    "duration": 349,
    "start_time": "2023-11-16T16:35:28.830Z"
   },
   {
    "duration": 329,
    "start_time": "2023-11-16T16:35:29.181Z"
   },
   {
    "duration": 156,
    "start_time": "2023-11-16T16:35:29.511Z"
   },
   {
    "duration": 162,
    "start_time": "2023-11-16T16:35:29.668Z"
   },
   {
    "duration": 24,
    "start_time": "2023-11-16T16:35:29.831Z"
   },
   {
    "duration": 3,
    "start_time": "2023-11-16T16:35:29.856Z"
   },
   {
    "duration": 17,
    "start_time": "2023-11-16T16:35:29.860Z"
   },
   {
    "duration": 15,
    "start_time": "2023-11-16T16:35:29.878Z"
   },
   {
    "duration": 17,
    "start_time": "2023-11-16T16:35:29.895Z"
   },
   {
    "duration": 13,
    "start_time": "2023-11-16T16:35:29.914Z"
   },
   {
    "duration": 8,
    "start_time": "2023-11-16T16:35:29.928Z"
   },
   {
    "duration": 74,
    "start_time": "2023-11-16T16:35:29.937Z"
   },
   {
    "duration": 92,
    "start_time": "2023-11-16T16:35:30.020Z"
   },
   {
    "duration": 24,
    "start_time": "2023-11-16T16:35:30.114Z"
   },
   {
    "duration": 18,
    "start_time": "2023-11-16T16:35:30.140Z"
   },
   {
    "duration": 80,
    "start_time": "2023-11-16T16:35:30.160Z"
   },
   {
    "duration": 183,
    "start_time": "2023-11-16T16:35:30.243Z"
   },
   {
    "duration": 84,
    "start_time": "2023-11-16T16:35:30.428Z"
   },
   {
    "duration": 101,
    "start_time": "2023-11-16T16:35:30.514Z"
   },
   {
    "duration": 32,
    "start_time": "2023-11-16T16:35:30.617Z"
   },
   {
    "duration": 32,
    "start_time": "2023-11-16T16:35:30.651Z"
   },
   {
    "duration": 5,
    "start_time": "2023-11-16T16:35:34.616Z"
   },
   {
    "duration": 5,
    "start_time": "2023-11-16T16:35:49.412Z"
   },
   {
    "duration": 6,
    "start_time": "2023-11-16T16:36:00.397Z"
   },
   {
    "duration": 3,
    "start_time": "2023-11-16T16:36:37.250Z"
   },
   {
    "duration": 192,
    "start_time": "2023-11-16T16:36:54.263Z"
   },
   {
    "duration": 7,
    "start_time": "2023-11-16T16:37:13.579Z"
   },
   {
    "duration": 6,
    "start_time": "2023-11-16T16:37:20.847Z"
   },
   {
    "duration": 11,
    "start_time": "2023-11-16T16:37:31.965Z"
   },
   {
    "duration": 6,
    "start_time": "2023-11-16T16:37:38.546Z"
   },
   {
    "duration": 15,
    "start_time": "2023-11-16T16:37:45.960Z"
   },
   {
    "duration": 10,
    "start_time": "2023-11-16T16:37:53.800Z"
   },
   {
    "duration": 7,
    "start_time": "2023-11-16T16:38:22.625Z"
   },
   {
    "duration": 6,
    "start_time": "2023-11-16T16:40:41.786Z"
   },
   {
    "duration": 6,
    "start_time": "2023-11-16T16:40:59.656Z"
   },
   {
    "duration": 5,
    "start_time": "2023-11-16T16:42:49.429Z"
   },
   {
    "duration": 5,
    "start_time": "2023-11-16T16:42:55.390Z"
   },
   {
    "duration": 7,
    "start_time": "2023-11-16T16:46:30.684Z"
   },
   {
    "duration": 6,
    "start_time": "2023-11-16T16:46:58.078Z"
   },
   {
    "duration": 6,
    "start_time": "2023-11-16T16:47:00.236Z"
   },
   {
    "duration": 123,
    "start_time": "2023-11-16T16:48:59.963Z"
   },
   {
    "duration": 132,
    "start_time": "2023-11-16T16:49:15.081Z"
   },
   {
    "duration": 7,
    "start_time": "2023-11-16T16:49:29.322Z"
   },
   {
    "duration": 11,
    "start_time": "2023-11-16T16:50:20.847Z"
   },
   {
    "duration": 100,
    "start_time": "2023-11-16T16:50:27.715Z"
   },
   {
    "duration": 19,
    "start_time": "2023-11-16T16:51:10.477Z"
   },
   {
    "duration": 17,
    "start_time": "2023-11-16T16:51:21.695Z"
   },
   {
    "duration": 23,
    "start_time": "2023-11-16T16:52:12.618Z"
   },
   {
    "duration": 1499,
    "start_time": "2023-11-16T16:52:22.325Z"
   },
   {
    "duration": 3,
    "start_time": "2023-11-16T16:52:23.826Z"
   },
   {
    "duration": 17,
    "start_time": "2023-11-16T16:52:23.830Z"
   },
   {
    "duration": 37,
    "start_time": "2023-11-16T16:52:23.849Z"
   },
   {
    "duration": 17,
    "start_time": "2023-11-16T16:52:23.887Z"
   },
   {
    "duration": 10,
    "start_time": "2023-11-16T16:52:23.906Z"
   },
   {
    "duration": 7,
    "start_time": "2023-11-16T16:52:23.918Z"
   },
   {
    "duration": 22,
    "start_time": "2023-11-16T16:52:23.926Z"
   },
   {
    "duration": 18,
    "start_time": "2023-11-16T16:52:23.950Z"
   },
   {
    "duration": 24,
    "start_time": "2023-11-16T16:52:23.970Z"
   },
   {
    "duration": 8,
    "start_time": "2023-11-16T16:52:23.996Z"
   },
   {
    "duration": 13,
    "start_time": "2023-11-16T16:52:24.006Z"
   },
   {
    "duration": 21,
    "start_time": "2023-11-16T16:52:24.020Z"
   },
   {
    "duration": 9,
    "start_time": "2023-11-16T16:52:24.042Z"
   },
   {
    "duration": 7,
    "start_time": "2023-11-16T16:52:24.052Z"
   },
   {
    "duration": 314,
    "start_time": "2023-11-16T16:52:24.061Z"
   },
   {
    "duration": 324,
    "start_time": "2023-11-16T16:52:24.377Z"
   },
   {
    "duration": 163,
    "start_time": "2023-11-16T16:52:24.703Z"
   },
   {
    "duration": 157,
    "start_time": "2023-11-16T16:52:24.868Z"
   },
   {
    "duration": 23,
    "start_time": "2023-11-16T16:52:25.027Z"
   },
   {
    "duration": 3,
    "start_time": "2023-11-16T16:52:25.052Z"
   },
   {
    "duration": 9,
    "start_time": "2023-11-16T16:52:25.057Z"
   },
   {
    "duration": 31,
    "start_time": "2023-11-16T16:52:25.067Z"
   },
   {
    "duration": 7,
    "start_time": "2023-11-16T16:52:25.100Z"
   },
   {
    "duration": 12,
    "start_time": "2023-11-16T16:52:25.111Z"
   },
   {
    "duration": 7,
    "start_time": "2023-11-16T16:52:25.124Z"
   },
   {
    "duration": 18,
    "start_time": "2023-11-16T16:52:25.133Z"
   },
   {
    "duration": 26,
    "start_time": "2023-11-16T16:52:25.154Z"
   },
   {
    "duration": 17,
    "start_time": "2023-11-16T16:52:25.181Z"
   },
   {
    "duration": 8,
    "start_time": "2023-11-16T16:52:25.199Z"
   },
   {
    "duration": 9,
    "start_time": "2023-11-16T16:52:25.208Z"
   },
   {
    "duration": 7,
    "start_time": "2023-11-16T16:52:25.219Z"
   },
   {
    "duration": 84,
    "start_time": "2023-11-16T16:52:25.227Z"
   },
   {
    "duration": 14,
    "start_time": "2023-11-16T16:52:25.313Z"
   },
   {
    "duration": 83,
    "start_time": "2023-11-16T16:52:25.329Z"
   },
   {
    "duration": 3,
    "start_time": "2023-11-16T16:52:25.414Z"
   },
   {
    "duration": 13,
    "start_time": "2023-11-16T16:52:25.419Z"
   },
   {
    "duration": 9,
    "start_time": "2023-11-16T16:52:25.434Z"
   },
   {
    "duration": 252,
    "start_time": "2023-11-16T16:52:25.513Z"
   },
   {
    "duration": 89,
    "start_time": "2023-11-16T16:53:05.340Z"
   },
   {
    "duration": 127,
    "start_time": "2023-11-16T16:53:13.824Z"
   },
   {
    "duration": 74,
    "start_time": "2023-11-16T16:53:26.328Z"
   },
   {
    "duration": 23,
    "start_time": "2023-11-16T16:53:32.080Z"
   },
   {
    "duration": 108,
    "start_time": "2023-11-16T16:54:20.685Z"
   },
   {
    "duration": 297,
    "start_time": "2023-11-16T17:00:48.961Z"
   },
   {
    "duration": 93,
    "start_time": "2023-11-16T17:00:55.185Z"
   },
   {
    "duration": 12,
    "start_time": "2023-11-16T17:02:36.645Z"
   },
   {
    "duration": 166,
    "start_time": "2023-11-16T17:02:51.400Z"
   },
   {
    "duration": 101,
    "start_time": "2023-11-16T17:03:07.225Z"
   },
   {
    "duration": 4,
    "start_time": "2023-11-16T17:03:17.811Z"
   },
   {
    "duration": 10,
    "start_time": "2023-11-16T17:03:28.132Z"
   },
   {
    "duration": 4,
    "start_time": "2023-11-16T17:03:30.860Z"
   },
   {
    "duration": 78,
    "start_time": "2023-11-16T17:03:42.348Z"
   },
   {
    "duration": 99,
    "start_time": "2023-11-16T17:03:45.280Z"
   },
   {
    "duration": 69,
    "start_time": "2023-11-16T17:03:50.105Z"
   },
   {
    "duration": 4,
    "start_time": "2023-11-16T17:03:55.941Z"
   },
   {
    "duration": 4,
    "start_time": "2023-11-16T17:04:01.157Z"
   },
   {
    "duration": 7,
    "start_time": "2023-11-16T17:04:12.818Z"
   },
   {
    "duration": 57,
    "start_time": "2023-11-16T17:04:24.460Z"
   },
   {
    "duration": 7,
    "start_time": "2023-11-16T17:06:17.993Z"
   },
   {
    "duration": 7,
    "start_time": "2023-11-16T17:06:26.759Z"
   },
   {
    "duration": 99,
    "start_time": "2023-11-16T17:06:36.113Z"
   }
  ],
  "kernelspec": {
   "display_name": "Python 3 (ipykernel)",
   "language": "python",
   "name": "python3"
  },
  "language_info": {
   "codemirror_mode": {
    "name": "ipython",
    "version": 3
   },
   "file_extension": ".py",
   "mimetype": "text/x-python",
   "name": "python",
   "nbconvert_exporter": "python",
   "pygments_lexer": "ipython3",
   "version": "3.9.18"
  },
  "toc": {
   "base_numbering": 1,
   "nav_menu": {},
   "number_sections": true,
   "sideBar": true,
   "skip_h1_title": true,
   "title_cell": "Содержание",
   "title_sidebar": "Contents",
   "toc_cell": true,
   "toc_position": {
    "height": "calc(100% - 180px)",
    "left": "10px",
    "top": "150px",
    "width": "371px"
   },
   "toc_section_display": true,
   "toc_window_display": true
  }
 },
 "nbformat": 4,
 "nbformat_minor": 2
}
