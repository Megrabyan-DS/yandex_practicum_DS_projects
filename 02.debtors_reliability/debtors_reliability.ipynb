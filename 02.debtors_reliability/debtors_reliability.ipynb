{
 "cells": [
  {
   "cell_type": "markdown",
   "id": "4fd1f2e7",
   "metadata": {},
   "source": [
    "# Исследование надежности заемщиков"
   ]
  },
  {
   "cell_type": "markdown",
   "id": "cd0902b7",
   "metadata": {},
   "source": [
    "Заказчик — кредитный отдел банка. Нужно разобраться, влияет ли семейное положение и количество детей клиента на факт погашения кредита в срок. Входные данные от банка — статистика о платёжеспособности клиентов.\n",
    "Результаты исследования будут учтены при построении модели кредитного скоринга — специальной системы, которая оценивает способность потенциального заёмщика вернуть кредит банку."
   ]
  },
  {
   "cell_type": "markdown",
   "id": "1a975439",
   "metadata": {},
   "source": [
    "**Цель исследования**\n",
    "\n",
    "* Оценить влияние семейного положения и количества детей на факт погашения кредита в срок\n",
    "\n",
    "**Ход исследования**\n",
    "\n",
    "1. Откройте таблицу и изучите общую информацию о данных \n",
    "2. Предобработка данных\n",
    "3. Исследуйте данные и ответьте на вопросы\n",
    "4. Общий вывод"
   ]
  },
  {
   "cell_type": "markdown",
   "id": "7e400d59",
   "metadata": {},
   "source": [
    "**Содержание**<a id='toc0_'></a>    \n",
    "1. [Откройте таблицу и изучите общую информацию о данных](#toc1_)    \n",
    "2. [Предобработка данных](#toc2_)    \n",
    "2.1. [Удаление пропусков](#toc2_1_)    \n",
    "2.2. [Обработка аномальных значений](#toc2_2_)    \n",
    "2.3. [Удаление пропусков (продолжение)](#toc2_3_)    \n",
    "2.4. [Изменение типов данных](#toc2_4_)    \n",
    "2.5. [Обработка дубликатов](#toc2_5_)    \n",
    "2.6. [Категоризация данных](#toc2_6_)    \n",
    "3. [Исследуйте данные и ответьте на вопросы](#toc3_)    \n",
    "3.1. [Есть ли зависимость между количеством детей и возвратом кредита в срок?](#toc3_1_)    \n",
    "3.2. [Есть ли зависимость между семейным положением и возвратом кредита в срок?](#toc3_2_)    \n",
    "3.3. [Есть ли зависимость между уровнем дохода и возвратом кредита в срок?](#toc3_3_)    \n",
    "3.4. [Как разные цели кредита влияют на его возврат в срок?](#toc3_4_)    \n",
    "3.5. [Приведите возможные причины появления пропусков в исходных данных.](#toc3_5_)    \n",
    "3.6. [Объясните, почему заполнить пропуски медианным значением — лучшее решение для количественных переменных.](#toc3_6_)    \n",
    "4. [Общий вывод.](#toc4_)    \n",
    "\n",
    "<!-- vscode-jupyter-toc-config\n",
    "\tnumbering=true\n",
    "\tanchor=true\n",
    "\tflat=true\n",
    "\tminLevel=2\n",
    "\tmaxLevel=6\n",
    "\t/vscode-jupyter-toc-config -->\n",
    "<!-- THIS CELL WILL BE REPLACED ON TOC UPDATE. DO NOT WRITE YOUR TEXT IN THIS CELL -->"
   ]
  },
  {
   "cell_type": "markdown",
   "metadata": {},
   "source": [
    "## 1. <a id='toc1_'></a>[Откройте таблицу и изучите общую информацию о данных](#toc0_)"
   ]
  },
  {
   "cell_type": "markdown",
   "id": "ebd548d2",
   "metadata": {},
   "source": [
    "**Задание 1. Импортируйте библиотеку pandas. Считайте данные из csv-файла в датафрейм и сохраните в переменную `data`. Путь к файлу:**\n",
    "\n",
    "`/datasets/data.csv`"
   ]
  },
  {
   "cell_type": "code",
   "execution_count": 2,
   "id": "fab207d0",
   "metadata": {
    "id": "fab207d0"
   },
   "outputs": [],
   "source": [
    "import pandas as pd # импортируйте библиотеку pandas\n",
    "import os"
   ]
  },
  {
   "cell_type": "code",
   "execution_count": 5,
   "id": "4377b876",
   "metadata": {},
   "outputs": [
    {
     "name": "stdout",
     "output_type": "stream",
     "text": [
      "Файлы найдены.\n"
     ]
    }
   ],
   "source": [
    "path_local = 'datasets/'\n",
    "path_platform = '/datasets/'\n",
    "path_extra = ''\n",
    "\n",
    "df_list = [\n",
    "    'data.csv',\n",
    "]\n",
    "\n",
    "if os.path.exists(path_local) and all(list(map(os.path.exists, map(lambda x: path_local + x, df_list)))):\n",
    "    df_dir = path_local\n",
    "    print(\"Файлы найдены.\")\n",
    "elif os.path.exists(path_platform) and all(list(map(os.path.exists, map(lambda x: path_platform + x, df_list)))):\n",
    "    df_dir = path_platform\n",
    "    print(\"Файлы найдены.\")\n",
    "elif os.path.exists(path_extra) and all(list(map(os.path.exists, map(lambda x: path_extra + x, df_list)))):\n",
    "    df_dir = path_extra\n",
    "    print(\"Файлы найдены.\")\n",
    "elif all(list(map(os.path.exists, df_list))):\n",
    "    df_dir = ''\n",
    "    print(\"Файлы найдены.\")\n",
    "else:\n",
    "    print(\"Директория не найдена. Файлы не найдены в текущей.\")  \n",
    "\n",
    "data = pd.read_csv(os.path.join(df_dir, 'data.csv'))"
   ]
  },
  {
   "cell_type": "markdown",
   "id": "08bbb5b3",
   "metadata": {
    "deletable": false,
    "editable": false,
    "id": "08bbb5b3",
    "tags": [
     "start_task"
    ]
   },
   "source": [
    "**Задание 2. Выведите первые 20 строчек датафрейма `data` на экран.**"
   ]
  },
  {
   "cell_type": "code",
   "execution_count": 6,
   "id": "4ff33b36",
   "metadata": {
    "id": "4ff33b36"
   },
   "outputs": [
    {
     "data": {
      "text/html": [
       "<div>\n",
       "<style scoped>\n",
       "    .dataframe tbody tr th:only-of-type {\n",
       "        vertical-align: middle;\n",
       "    }\n",
       "\n",
       "    .dataframe tbody tr th {\n",
       "        vertical-align: top;\n",
       "    }\n",
       "\n",
       "    .dataframe thead th {\n",
       "        text-align: right;\n",
       "    }\n",
       "</style>\n",
       "<table border=\"1\" class=\"dataframe\">\n",
       "  <thead>\n",
       "    <tr style=\"text-align: right;\">\n",
       "      <th></th>\n",
       "      <th>children</th>\n",
       "      <th>days_employed</th>\n",
       "      <th>dob_years</th>\n",
       "      <th>education</th>\n",
       "      <th>education_id</th>\n",
       "      <th>family_status</th>\n",
       "      <th>family_status_id</th>\n",
       "      <th>gender</th>\n",
       "      <th>income_type</th>\n",
       "      <th>debt</th>\n",
       "      <th>total_income</th>\n",
       "      <th>purpose</th>\n",
       "    </tr>\n",
       "  </thead>\n",
       "  <tbody>\n",
       "    <tr>\n",
       "      <th>0</th>\n",
       "      <td>1</td>\n",
       "      <td>-8437.673028</td>\n",
       "      <td>42</td>\n",
       "      <td>высшее</td>\n",
       "      <td>0</td>\n",
       "      <td>женат / замужем</td>\n",
       "      <td>0</td>\n",
       "      <td>F</td>\n",
       "      <td>сотрудник</td>\n",
       "      <td>0</td>\n",
       "      <td>253875.639453</td>\n",
       "      <td>покупка жилья</td>\n",
       "    </tr>\n",
       "    <tr>\n",
       "      <th>1</th>\n",
       "      <td>1</td>\n",
       "      <td>-4024.803754</td>\n",
       "      <td>36</td>\n",
       "      <td>среднее</td>\n",
       "      <td>1</td>\n",
       "      <td>женат / замужем</td>\n",
       "      <td>0</td>\n",
       "      <td>F</td>\n",
       "      <td>сотрудник</td>\n",
       "      <td>0</td>\n",
       "      <td>112080.014102</td>\n",
       "      <td>приобретение автомобиля</td>\n",
       "    </tr>\n",
       "    <tr>\n",
       "      <th>2</th>\n",
       "      <td>0</td>\n",
       "      <td>-5623.422610</td>\n",
       "      <td>33</td>\n",
       "      <td>Среднее</td>\n",
       "      <td>1</td>\n",
       "      <td>женат / замужем</td>\n",
       "      <td>0</td>\n",
       "      <td>M</td>\n",
       "      <td>сотрудник</td>\n",
       "      <td>0</td>\n",
       "      <td>145885.952297</td>\n",
       "      <td>покупка жилья</td>\n",
       "    </tr>\n",
       "    <tr>\n",
       "      <th>3</th>\n",
       "      <td>3</td>\n",
       "      <td>-4124.747207</td>\n",
       "      <td>32</td>\n",
       "      <td>среднее</td>\n",
       "      <td>1</td>\n",
       "      <td>женат / замужем</td>\n",
       "      <td>0</td>\n",
       "      <td>M</td>\n",
       "      <td>сотрудник</td>\n",
       "      <td>0</td>\n",
       "      <td>267628.550329</td>\n",
       "      <td>дополнительное образование</td>\n",
       "    </tr>\n",
       "    <tr>\n",
       "      <th>4</th>\n",
       "      <td>0</td>\n",
       "      <td>340266.072047</td>\n",
       "      <td>53</td>\n",
       "      <td>среднее</td>\n",
       "      <td>1</td>\n",
       "      <td>гражданский брак</td>\n",
       "      <td>1</td>\n",
       "      <td>F</td>\n",
       "      <td>пенсионер</td>\n",
       "      <td>0</td>\n",
       "      <td>158616.077870</td>\n",
       "      <td>сыграть свадьбу</td>\n",
       "    </tr>\n",
       "    <tr>\n",
       "      <th>5</th>\n",
       "      <td>0</td>\n",
       "      <td>-926.185831</td>\n",
       "      <td>27</td>\n",
       "      <td>высшее</td>\n",
       "      <td>0</td>\n",
       "      <td>гражданский брак</td>\n",
       "      <td>1</td>\n",
       "      <td>M</td>\n",
       "      <td>компаньон</td>\n",
       "      <td>0</td>\n",
       "      <td>255763.565419</td>\n",
       "      <td>покупка жилья</td>\n",
       "    </tr>\n",
       "    <tr>\n",
       "      <th>6</th>\n",
       "      <td>0</td>\n",
       "      <td>-2879.202052</td>\n",
       "      <td>43</td>\n",
       "      <td>высшее</td>\n",
       "      <td>0</td>\n",
       "      <td>женат / замужем</td>\n",
       "      <td>0</td>\n",
       "      <td>F</td>\n",
       "      <td>компаньон</td>\n",
       "      <td>0</td>\n",
       "      <td>240525.971920</td>\n",
       "      <td>операции с жильем</td>\n",
       "    </tr>\n",
       "    <tr>\n",
       "      <th>7</th>\n",
       "      <td>0</td>\n",
       "      <td>-152.779569</td>\n",
       "      <td>50</td>\n",
       "      <td>СРЕДНЕЕ</td>\n",
       "      <td>1</td>\n",
       "      <td>женат / замужем</td>\n",
       "      <td>0</td>\n",
       "      <td>M</td>\n",
       "      <td>сотрудник</td>\n",
       "      <td>0</td>\n",
       "      <td>135823.934197</td>\n",
       "      <td>образование</td>\n",
       "    </tr>\n",
       "    <tr>\n",
       "      <th>8</th>\n",
       "      <td>2</td>\n",
       "      <td>-6929.865299</td>\n",
       "      <td>35</td>\n",
       "      <td>ВЫСШЕЕ</td>\n",
       "      <td>0</td>\n",
       "      <td>гражданский брак</td>\n",
       "      <td>1</td>\n",
       "      <td>F</td>\n",
       "      <td>сотрудник</td>\n",
       "      <td>0</td>\n",
       "      <td>95856.832424</td>\n",
       "      <td>на проведение свадьбы</td>\n",
       "    </tr>\n",
       "    <tr>\n",
       "      <th>9</th>\n",
       "      <td>0</td>\n",
       "      <td>-2188.756445</td>\n",
       "      <td>41</td>\n",
       "      <td>среднее</td>\n",
       "      <td>1</td>\n",
       "      <td>женат / замужем</td>\n",
       "      <td>0</td>\n",
       "      <td>M</td>\n",
       "      <td>сотрудник</td>\n",
       "      <td>0</td>\n",
       "      <td>144425.938277</td>\n",
       "      <td>покупка жилья для семьи</td>\n",
       "    </tr>\n",
       "    <tr>\n",
       "      <th>10</th>\n",
       "      <td>2</td>\n",
       "      <td>-4171.483647</td>\n",
       "      <td>36</td>\n",
       "      <td>высшее</td>\n",
       "      <td>0</td>\n",
       "      <td>женат / замужем</td>\n",
       "      <td>0</td>\n",
       "      <td>M</td>\n",
       "      <td>компаньон</td>\n",
       "      <td>0</td>\n",
       "      <td>113943.491460</td>\n",
       "      <td>покупка недвижимости</td>\n",
       "    </tr>\n",
       "    <tr>\n",
       "      <th>11</th>\n",
       "      <td>0</td>\n",
       "      <td>-792.701887</td>\n",
       "      <td>40</td>\n",
       "      <td>среднее</td>\n",
       "      <td>1</td>\n",
       "      <td>женат / замужем</td>\n",
       "      <td>0</td>\n",
       "      <td>F</td>\n",
       "      <td>сотрудник</td>\n",
       "      <td>0</td>\n",
       "      <td>77069.234271</td>\n",
       "      <td>покупка коммерческой недвижимости</td>\n",
       "    </tr>\n",
       "    <tr>\n",
       "      <th>12</th>\n",
       "      <td>0</td>\n",
       "      <td>NaN</td>\n",
       "      <td>65</td>\n",
       "      <td>среднее</td>\n",
       "      <td>1</td>\n",
       "      <td>гражданский брак</td>\n",
       "      <td>1</td>\n",
       "      <td>M</td>\n",
       "      <td>пенсионер</td>\n",
       "      <td>0</td>\n",
       "      <td>NaN</td>\n",
       "      <td>сыграть свадьбу</td>\n",
       "    </tr>\n",
       "    <tr>\n",
       "      <th>13</th>\n",
       "      <td>0</td>\n",
       "      <td>-1846.641941</td>\n",
       "      <td>54</td>\n",
       "      <td>неоконченное высшее</td>\n",
       "      <td>2</td>\n",
       "      <td>женат / замужем</td>\n",
       "      <td>0</td>\n",
       "      <td>F</td>\n",
       "      <td>сотрудник</td>\n",
       "      <td>0</td>\n",
       "      <td>130458.228857</td>\n",
       "      <td>приобретение автомобиля</td>\n",
       "    </tr>\n",
       "    <tr>\n",
       "      <th>14</th>\n",
       "      <td>0</td>\n",
       "      <td>-1844.956182</td>\n",
       "      <td>56</td>\n",
       "      <td>высшее</td>\n",
       "      <td>0</td>\n",
       "      <td>гражданский брак</td>\n",
       "      <td>1</td>\n",
       "      <td>F</td>\n",
       "      <td>компаньон</td>\n",
       "      <td>1</td>\n",
       "      <td>165127.911772</td>\n",
       "      <td>покупка жилой недвижимости</td>\n",
       "    </tr>\n",
       "    <tr>\n",
       "      <th>15</th>\n",
       "      <td>1</td>\n",
       "      <td>-972.364419</td>\n",
       "      <td>26</td>\n",
       "      <td>среднее</td>\n",
       "      <td>1</td>\n",
       "      <td>женат / замужем</td>\n",
       "      <td>0</td>\n",
       "      <td>F</td>\n",
       "      <td>сотрудник</td>\n",
       "      <td>0</td>\n",
       "      <td>116820.904450</td>\n",
       "      <td>строительство собственной недвижимости</td>\n",
       "    </tr>\n",
       "    <tr>\n",
       "      <th>16</th>\n",
       "      <td>0</td>\n",
       "      <td>-1719.934226</td>\n",
       "      <td>35</td>\n",
       "      <td>среднее</td>\n",
       "      <td>1</td>\n",
       "      <td>женат / замужем</td>\n",
       "      <td>0</td>\n",
       "      <td>F</td>\n",
       "      <td>сотрудник</td>\n",
       "      <td>0</td>\n",
       "      <td>289202.704229</td>\n",
       "      <td>недвижимость</td>\n",
       "    </tr>\n",
       "    <tr>\n",
       "      <th>17</th>\n",
       "      <td>0</td>\n",
       "      <td>-2369.999720</td>\n",
       "      <td>33</td>\n",
       "      <td>высшее</td>\n",
       "      <td>0</td>\n",
       "      <td>гражданский брак</td>\n",
       "      <td>1</td>\n",
       "      <td>M</td>\n",
       "      <td>сотрудник</td>\n",
       "      <td>0</td>\n",
       "      <td>90410.586745</td>\n",
       "      <td>строительство недвижимости</td>\n",
       "    </tr>\n",
       "    <tr>\n",
       "      <th>18</th>\n",
       "      <td>0</td>\n",
       "      <td>400281.136913</td>\n",
       "      <td>53</td>\n",
       "      <td>среднее</td>\n",
       "      <td>1</td>\n",
       "      <td>вдовец / вдова</td>\n",
       "      <td>2</td>\n",
       "      <td>F</td>\n",
       "      <td>пенсионер</td>\n",
       "      <td>0</td>\n",
       "      <td>56823.777243</td>\n",
       "      <td>на покупку подержанного автомобиля</td>\n",
       "    </tr>\n",
       "    <tr>\n",
       "      <th>19</th>\n",
       "      <td>0</td>\n",
       "      <td>-10038.818549</td>\n",
       "      <td>48</td>\n",
       "      <td>СРЕДНЕЕ</td>\n",
       "      <td>1</td>\n",
       "      <td>в разводе</td>\n",
       "      <td>3</td>\n",
       "      <td>F</td>\n",
       "      <td>сотрудник</td>\n",
       "      <td>0</td>\n",
       "      <td>242831.107982</td>\n",
       "      <td>на покупку своего автомобиля</td>\n",
       "    </tr>\n",
       "  </tbody>\n",
       "</table>\n",
       "</div>"
      ],
      "text/plain": [
       "    children  days_employed  dob_years            education  education_id  \\\n",
       "0          1   -8437.673028         42               высшее             0   \n",
       "1          1   -4024.803754         36              среднее             1   \n",
       "2          0   -5623.422610         33              Среднее             1   \n",
       "3          3   -4124.747207         32              среднее             1   \n",
       "4          0  340266.072047         53              среднее             1   \n",
       "5          0    -926.185831         27               высшее             0   \n",
       "6          0   -2879.202052         43               высшее             0   \n",
       "7          0    -152.779569         50              СРЕДНЕЕ             1   \n",
       "8          2   -6929.865299         35               ВЫСШЕЕ             0   \n",
       "9          0   -2188.756445         41              среднее             1   \n",
       "10         2   -4171.483647         36               высшее             0   \n",
       "11         0    -792.701887         40              среднее             1   \n",
       "12         0            NaN         65              среднее             1   \n",
       "13         0   -1846.641941         54  неоконченное высшее             2   \n",
       "14         0   -1844.956182         56               высшее             0   \n",
       "15         1    -972.364419         26              среднее             1   \n",
       "16         0   -1719.934226         35              среднее             1   \n",
       "17         0   -2369.999720         33               высшее             0   \n",
       "18         0  400281.136913         53              среднее             1   \n",
       "19         0  -10038.818549         48              СРЕДНЕЕ             1   \n",
       "\n",
       "       family_status  family_status_id gender income_type  debt  \\\n",
       "0    женат / замужем                 0      F   сотрудник     0   \n",
       "1    женат / замужем                 0      F   сотрудник     0   \n",
       "2    женат / замужем                 0      M   сотрудник     0   \n",
       "3    женат / замужем                 0      M   сотрудник     0   \n",
       "4   гражданский брак                 1      F   пенсионер     0   \n",
       "5   гражданский брак                 1      M   компаньон     0   \n",
       "6    женат / замужем                 0      F   компаньон     0   \n",
       "7    женат / замужем                 0      M   сотрудник     0   \n",
       "8   гражданский брак                 1      F   сотрудник     0   \n",
       "9    женат / замужем                 0      M   сотрудник     0   \n",
       "10   женат / замужем                 0      M   компаньон     0   \n",
       "11   женат / замужем                 0      F   сотрудник     0   \n",
       "12  гражданский брак                 1      M   пенсионер     0   \n",
       "13   женат / замужем                 0      F   сотрудник     0   \n",
       "14  гражданский брак                 1      F   компаньон     1   \n",
       "15   женат / замужем                 0      F   сотрудник     0   \n",
       "16   женат / замужем                 0      F   сотрудник     0   \n",
       "17  гражданский брак                 1      M   сотрудник     0   \n",
       "18    вдовец / вдова                 2      F   пенсионер     0   \n",
       "19         в разводе                 3      F   сотрудник     0   \n",
       "\n",
       "     total_income                                 purpose  \n",
       "0   253875.639453                           покупка жилья  \n",
       "1   112080.014102                 приобретение автомобиля  \n",
       "2   145885.952297                           покупка жилья  \n",
       "3   267628.550329              дополнительное образование  \n",
       "4   158616.077870                         сыграть свадьбу  \n",
       "5   255763.565419                           покупка жилья  \n",
       "6   240525.971920                       операции с жильем  \n",
       "7   135823.934197                             образование  \n",
       "8    95856.832424                   на проведение свадьбы  \n",
       "9   144425.938277                 покупка жилья для семьи  \n",
       "10  113943.491460                    покупка недвижимости  \n",
       "11   77069.234271       покупка коммерческой недвижимости  \n",
       "12            NaN                         сыграть свадьбу  \n",
       "13  130458.228857                 приобретение автомобиля  \n",
       "14  165127.911772              покупка жилой недвижимости  \n",
       "15  116820.904450  строительство собственной недвижимости  \n",
       "16  289202.704229                            недвижимость  \n",
       "17   90410.586745              строительство недвижимости  \n",
       "18   56823.777243      на покупку подержанного автомобиля  \n",
       "19  242831.107982            на покупку своего автомобиля  "
      ]
     },
     "execution_count": 6,
     "metadata": {},
     "output_type": "execute_result"
    }
   ],
   "source": [
    "data.head(20) # ваш код здесь"
   ]
  },
  {
   "cell_type": "markdown",
   "id": "c8f382ae",
   "metadata": {
    "deletable": false,
    "editable": false,
    "id": "c8f382ae",
    "tags": [
     "start_task"
    ]
   },
   "source": [
    "**Задание 3. Выведите основную информацию о датафрейме с помощью метода `info()`.**"
   ]
  },
  {
   "cell_type": "code",
   "execution_count": 7,
   "id": "0339471e",
   "metadata": {},
   "outputs": [
    {
     "name": "stdout",
     "output_type": "stream",
     "text": [
      "<class 'pandas.core.frame.DataFrame'>\n",
      "RangeIndex: 21525 entries, 0 to 21524\n",
      "Data columns (total 12 columns):\n",
      " #   Column            Non-Null Count  Dtype  \n",
      "---  ------            --------------  -----  \n",
      " 0   children          21525 non-null  int64  \n",
      " 1   days_employed     19351 non-null  float64\n",
      " 2   dob_years         21525 non-null  int64  \n",
      " 3   education         21525 non-null  object \n",
      " 4   education_id      21525 non-null  int64  \n",
      " 5   family_status     21525 non-null  object \n",
      " 6   family_status_id  21525 non-null  int64  \n",
      " 7   gender            21525 non-null  object \n",
      " 8   income_type       21525 non-null  object \n",
      " 9   debt              21525 non-null  int64  \n",
      " 10  total_income      19351 non-null  float64\n",
      " 11  purpose           21525 non-null  object \n",
      "dtypes: float64(2), int64(5), object(5)\n",
      "memory usage: 2.0+ MB\n"
     ]
    }
   ],
   "source": [
    "data.info() # ваш код здесь"
   ]
  },
  {
   "cell_type": "markdown",
   "id": "d5613b40",
   "metadata": {},
   "source": [
    "## 2. <a id='toc2_'></a>[Предобработка данных](#toc0_)"
   ]
  },
  {
   "cell_type": "markdown",
   "metadata": {},
   "source": [
    "### 2.1. <a id='toc2_1_'></a>[Удаление пропусков](#toc0_)"
   ]
  },
  {
   "cell_type": "markdown",
   "id": "b72e662d",
   "metadata": {},
   "source": [
    "**Задание 4. Выведите количество пропущенных значений для каждого столбца. Используйте комбинацию двух методов.**"
   ]
  },
  {
   "cell_type": "code",
   "execution_count": 8,
   "id": "b7a096e1",
   "metadata": {
    "id": "b7a096e1"
   },
   "outputs": [
    {
     "data": {
      "text/plain": [
       "children               0\n",
       "days_employed       2174\n",
       "dob_years              0\n",
       "education              0\n",
       "education_id           0\n",
       "family_status          0\n",
       "family_status_id       0\n",
       "gender                 0\n",
       "income_type            0\n",
       "debt                   0\n",
       "total_income        2174\n",
       "purpose                0\n",
       "dtype: int64"
      ]
     },
     "execution_count": 8,
     "metadata": {},
     "output_type": "execute_result"
    }
   ],
   "source": [
    "data.isnull().sum() # ваш код здесь"
   ]
  },
  {
   "cell_type": "markdown",
   "id": "c2578616",
   "metadata": {
    "deletable": false,
    "editable": false,
    "id": "c2578616",
    "tags": [
     "start_task"
    ]
   },
   "source": [
    "**Задание 5. В двух столбцах есть пропущенные значения. Один из них — `days_employed`. Пропуски в этом столбце вы обработаете на следующем этапе. Другой столбец с пропущенными значениями — `total_income` — хранит данные о доходах. На сумму дохода сильнее всего влияет тип занятости, поэтому заполнить пропуски в этом столбце нужно медианным значением по каждому типу из столбца `income_type`. Например, у человека с типом занятости `сотрудник` пропуск в столбце `total_income` должен быть заполнен медианным доходом среди всех записей с тем же типом.**"
   ]
  },
  {
   "cell_type": "code",
   "execution_count": 9,
   "id": "32af131c",
   "metadata": {},
   "outputs": [],
   "source": [
    "'''\n",
    "data_median_by_income_type = dict(data.groupby('income_type')['total_income'].median())\n",
    "for type_of_income in data_median_by_income_type:\n",
    "    data.loc[(data['income_type'] == type_of_income) & (data['total_income'].isna()), 'total_income'] = \\\n",
    "    data_median_by_income_type[type_of_income]\n",
    "'''\n",
    "for type_of_income in data['income_type'].unique():\n",
    "    data.loc[(data['income_type'] == type_of_income) & (data['total_income'].isna()), 'total_income'] = \\\n",
    "    data.loc[data['income_type'] == type_of_income, 'total_income'].median()\n",
    "    "
   ]
  },
  {
   "cell_type": "markdown",
   "metadata": {},
   "source": [
    "### 2.2. <a id='toc2_2_'></a>[Обработка аномальных значений](#toc0_)"
   ]
  },
  {
   "cell_type": "markdown",
   "id": "480ae8eb",
   "metadata": {},
   "source": [
    "**Задание 6. В данных могут встречаться артефакты (аномалии) — значения, которые не отражают действительность и появились по какой-то ошибке. Таким артефактом будет отрицательное количество дней трудового стажа в столбце `days_employed`. Для реальных данных это нормально. Обработайте значения в этом столбце: замените все отрицательные значения положительными с помощью метода `abs()`.**"
   ]
  },
  {
   "cell_type": "code",
   "execution_count": 10,
   "id": "187779b0",
   "metadata": {
    "id": "187779b0"
   },
   "outputs": [],
   "source": [
    "data['days_employed'] = abs(data['days_employed']) # ваш код здесь"
   ]
  },
  {
   "cell_type": "markdown",
   "id": "a13054c2",
   "metadata": {
    "deletable": false,
    "editable": false,
    "id": "a13054c2",
    "tags": [
     "start_task"
    ]
   },
   "source": [
    "**Задание 7. Для каждого типа занятости выведите медианное значение трудового стажа `days_employed` в днях.**"
   ]
  },
  {
   "cell_type": "code",
   "execution_count": 11,
   "id": "f3f5810c",
   "metadata": {
    "id": "f3f5810c"
   },
   "outputs": [
    {
     "data": {
      "text/plain": [
       "income_type\n",
       "безработный        366413.652744\n",
       "в декрете            3296.759962\n",
       "госслужащий          2689.368353\n",
       "компаньон            1547.382223\n",
       "пенсионер          365213.306266\n",
       "предприниматель       520.848083\n",
       "сотрудник            1574.202821\n",
       "студент               578.751554\n",
       "Name: days_employed, dtype: float64"
      ]
     },
     "execution_count": 11,
     "metadata": {},
     "output_type": "execute_result"
    }
   ],
   "source": [
    "data.groupby('income_type')['days_employed'].median() # ваш код здесь"
   ]
  },
  {
   "cell_type": "markdown",
   "id": "dbc3168c",
   "metadata": {
    "deletable": false,
    "editable": false,
    "id": "dbc3168c"
   },
   "source": [
    "У двух типов (безработные и пенсионеры) получатся аномально большие значения. Исправить такие значения сложно, поэтому оставьте их как есть."
   ]
  },
  {
   "cell_type": "markdown",
   "id": "ff4378c2",
   "metadata": {
    "deletable": false,
    "editable": false,
    "id": "ff4378c2",
    "tags": [
     "start_task"
    ]
   },
   "source": [
    "**Задание 8. Выведите перечень уникальных значений столбца `children`.**"
   ]
  },
  {
   "cell_type": "code",
   "execution_count": 12,
   "id": "9bd0c232",
   "metadata": {
    "id": "9bd0c232"
   },
   "outputs": [
    {
     "data": {
      "text/plain": [
       "array([ 1,  0,  3,  2, -1,  4, 20,  5], dtype=int64)"
      ]
     },
     "execution_count": 12,
     "metadata": {},
     "output_type": "execute_result"
    }
   ],
   "source": [
    "data.children.unique() # ваш код здесь"
   ]
  },
  {
   "cell_type": "markdown",
   "id": "8e911990",
   "metadata": {
    "deletable": false,
    "editable": false,
    "id": "8e911990",
    "tags": [
     "start_task"
    ]
   },
   "source": [
    "**Задание 9. В столбце `children` есть два аномальных значения. Удалите строки, в которых встречаются такие аномальные значения из датафрейма `data`.**"
   ]
  },
  {
   "cell_type": "code",
   "execution_count": 13,
   "id": "6d5ba289",
   "metadata": {
    "id": "6d5ba289"
   },
   "outputs": [],
   "source": [
    "data = data.drop(data.loc[(data['children'] == -1) | (data['children'] == 20)].index) # ваш код здесь"
   ]
  },
  {
   "cell_type": "markdown",
   "id": "18d77455",
   "metadata": {
    "deletable": false,
    "editable": false,
    "id": "18d77455",
    "tags": [
     "start_task"
    ]
   },
   "source": [
    "**Задание 10. Ещё раз выведите перечень уникальных значений столбца `children`, чтобы убедиться, что артефакты удалены.**"
   ]
  },
  {
   "cell_type": "code",
   "execution_count": 14,
   "id": "34738a11",
   "metadata": {},
   "outputs": [
    {
     "data": {
      "text/plain": [
       "array([1, 0, 3, 2, 4, 5], dtype=int64)"
      ]
     },
     "execution_count": 14,
     "metadata": {},
     "output_type": "execute_result"
    }
   ],
   "source": [
    "data.children.unique() # ваш код здесь"
   ]
  },
  {
   "cell_type": "markdown",
   "metadata": {},
   "source": [
    "### 2.3. <a id='toc2_3_'></a>[Удаление пропусков (продолжение)](#toc0_)"
   ]
  },
  {
   "cell_type": "markdown",
   "id": "1e9b192c",
   "metadata": {},
   "source": [
    "**Задание 11. Заполните пропуски в столбце `days_employed` медианными значениями по каждому типу занятости `income_type`.**"
   ]
  },
  {
   "cell_type": "code",
   "execution_count": 15,
   "id": "e2aea7ac",
   "metadata": {
    "id": "e2aea7ac"
   },
   "outputs": [],
   "source": [
    "for type_of_income in data['income_type'].unique(): # ваш код здесь\n",
    "    data.loc[(data['income_type'] == type_of_income) & data['days_employed'].isna(), 'days_employed'] = \\\n",
    "    data.loc[data['income_type'] == type_of_income, 'days_employed'].median()"
   ]
  },
  {
   "cell_type": "markdown",
   "id": "97b0b795",
   "metadata": {
    "deletable": false,
    "editable": false,
    "id": "97b0b795",
    "tags": [
     "start_task"
    ]
   },
   "source": [
    "**Задание 12. Убедитесь, что все пропуски заполнены. Проверьте себя и ещё раз выведите количество пропущенных значений для каждого столбца с помощью двух методов.**"
   ]
  },
  {
   "cell_type": "code",
   "execution_count": 16,
   "id": "bd95c34a",
   "metadata": {},
   "outputs": [
    {
     "data": {
      "text/plain": [
       "children            0\n",
       "days_employed       0\n",
       "dob_years           0\n",
       "education           0\n",
       "education_id        0\n",
       "family_status       0\n",
       "family_status_id    0\n",
       "gender              0\n",
       "income_type         0\n",
       "debt                0\n",
       "total_income        0\n",
       "purpose             0\n",
       "dtype: int64"
      ]
     },
     "execution_count": 16,
     "metadata": {},
     "output_type": "execute_result"
    }
   ],
   "source": [
    "data.isna().sum() # ваш код здесь"
   ]
  },
  {
   "cell_type": "markdown",
   "metadata": {},
   "source": [
    "### 2.4. <a id='toc2_4_'></a>[Изменение типов данных](#toc0_)"
   ]
  },
  {
   "cell_type": "markdown",
   "id": "38c4db20",
   "metadata": {},
   "source": [
    "**Задание 13. Замените вещественный тип данных в столбце `total_income` на целочисленный с помощью метода `astype()`.**"
   ]
  },
  {
   "cell_type": "code",
   "execution_count": 17,
   "id": "e156622f",
   "metadata": {},
   "outputs": [],
   "source": [
    "data['total_income'] = data['total_income'].astype('int') # ваш код здесь"
   ]
  },
  {
   "cell_type": "markdown",
   "metadata": {},
   "source": [
    "### 2.5. <a id='toc2_5_'></a>[Обработка дубликатов](#toc0_)"
   ]
  },
  {
   "cell_type": "markdown",
   "id": "f1db0bd6",
   "metadata": {},
   "source": [
    "**Задание 14. Обработайте неявные дубликаты в столбце `education`. В этом столбце есть одни и те же значения, но записанные по-разному: с использованием заглавных и строчных букв. Приведите их к нижнему регистру.**"
   ]
  },
  {
   "cell_type": "code",
   "execution_count": 18,
   "id": "3f2504b3",
   "metadata": {
    "id": "3f2504b3"
   },
   "outputs": [],
   "source": [
    "data['education'] = data['education'].str.lower() # ваш код здесь"
   ]
  },
  {
   "cell_type": "markdown",
   "id": "4c22acbc",
   "metadata": {
    "deletable": false,
    "editable": false,
    "id": "4c22acbc",
    "tags": [
     "start_task"
    ]
   },
   "source": [
    "**Задание 15. Выведите на экран количество строк-дубликатов в данных. Если такие строки присутствуют, удалите их.**"
   ]
  },
  {
   "cell_type": "code",
   "execution_count": 19,
   "id": "d34a4325",
   "metadata": {
    "id": "d34a4325"
   },
   "outputs": [
    {
     "data": {
      "text/plain": [
       "71"
      ]
     },
     "execution_count": 19,
     "metadata": {},
     "output_type": "execute_result"
    }
   ],
   "source": [
    "data.duplicated().sum() # посчитайте дубликаты"
   ]
  },
  {
   "cell_type": "code",
   "execution_count": 20,
   "id": "beaeae39",
   "metadata": {},
   "outputs": [],
   "source": [
    "data = data.drop_duplicates() # удалите дубликаты"
   ]
  },
  {
   "cell_type": "markdown",
   "metadata": {},
   "source": [
    "### 2.6. <a id='toc2_6_'></a>[Категоризация данных](#toc0_)"
   ]
  },
  {
   "cell_type": "markdown",
   "id": "92a375ac",
   "metadata": {},
   "source": [
    "**Задание 16. На основании диапазонов, указанных ниже, создайте в датафрейме `data` столбец `total_income_category` с категориями:**\n",
    "\n",
    "- 0–30000 — `'E'`;\n",
    "- 30001–50000 — `'D'`;\n",
    "- 50001–200000 — `'C'`;\n",
    "- 200001–1000000 — `'B'`;\n",
    "- 1000001 и выше — `'A'`.\n",
    "\n",
    "\n",
    "**Например, кредитополучателю с доходом 25000 нужно назначить категорию `'E'`, а клиенту, получающему 235000, — `'B'`. Используйте собственную функцию с именем `categorize_income()` и метод `apply()`.**"
   ]
  },
  {
   "cell_type": "code",
   "execution_count": 21,
   "id": "880a77e5",
   "metadata": {
    "id": "880a77e5"
   },
   "outputs": [],
   "source": [
    "def categorize_income(income_total): # создайте функцию categorize_income()\n",
    "    if 0 <= income_total <= 30000:\n",
    "        return 'E'\n",
    "    if 30000 < income_total <= 50000:\n",
    "        return 'D'\n",
    "    if 50000 < income_total <= 200000:\n",
    "        return 'C'\n",
    "    if 200000 < income_total <= 1000000:\n",
    "        return 'B'\n",
    "    if 1000000 < income_total:\n",
    "        return 'A'"
   ]
  },
  {
   "cell_type": "code",
   "execution_count": 23,
   "id": "6f25f161",
   "metadata": {
    "id": "6f25f161"
   },
   "outputs": [],
   "source": [
    "data['total_income_category'] = data['total_income'].apply(categorize_income) # примените функцию методом apply()"
   ]
  },
  {
   "cell_type": "markdown",
   "id": "3363b685",
   "metadata": {
    "deletable": false,
    "editable": false,
    "id": "3363b685",
    "tags": [
     "start_task"
    ]
   },
   "source": [
    "**Задание 17. Выведите на экран перечень уникальных целей взятия кредита из столбца `purpose`.**"
   ]
  },
  {
   "cell_type": "code",
   "execution_count": 24,
   "id": "e59f2c15",
   "metadata": {
    "id": "e59f2c15"
   },
   "outputs": [
    {
     "data": {
      "text/plain": [
       "array(['покупка жилья', 'приобретение автомобиля',\n",
       "       'дополнительное образование', 'сыграть свадьбу',\n",
       "       'операции с жильем', 'образование', 'на проведение свадьбы',\n",
       "       'покупка жилья для семьи', 'покупка недвижимости',\n",
       "       'покупка коммерческой недвижимости', 'покупка жилой недвижимости',\n",
       "       'строительство собственной недвижимости', 'недвижимость',\n",
       "       'строительство недвижимости', 'на покупку подержанного автомобиля',\n",
       "       'на покупку своего автомобиля',\n",
       "       'операции с коммерческой недвижимостью',\n",
       "       'строительство жилой недвижимости', 'жилье',\n",
       "       'операции со своей недвижимостью', 'автомобили',\n",
       "       'заняться образованием', 'сделка с подержанным автомобилем',\n",
       "       'получение образования', 'автомобиль', 'свадьба',\n",
       "       'получение дополнительного образования', 'покупка своего жилья',\n",
       "       'операции с недвижимостью', 'получение высшего образования',\n",
       "       'свой автомобиль', 'сделка с автомобилем',\n",
       "       'профильное образование', 'высшее образование',\n",
       "       'покупка жилья для сдачи', 'на покупку автомобиля', 'ремонт жилью',\n",
       "       'заняться высшим образованием'], dtype=object)"
      ]
     },
     "execution_count": 24,
     "metadata": {},
     "output_type": "execute_result"
    }
   ],
   "source": [
    "data['purpose'].unique()# ваш код здесь"
   ]
  },
  {
   "cell_type": "markdown",
   "id": "bb33e847",
   "metadata": {
    "deletable": false,
    "editable": false,
    "id": "bb33e847",
    "tags": [
     "start_task"
    ]
   },
   "source": [
    "**Задание 18. Создайте функцию, которая на основании данных из столбца `purpose` сформирует новый столбец `purpose_category`, в который войдут следующие категории:**\n",
    "\n",
    "- `'операции с автомобилем'`,\n",
    "- `'операции с недвижимостью'`,\n",
    "- `'проведение свадьбы'`,\n",
    "- `'получение образования'`.\n",
    "\n",
    "**Например, если в столбце `purpose` находится подстрока `'на покупку автомобиля'`, то в столбце `purpose_category` должна появиться строка `'операции с автомобилем'`.**\n",
    "\n",
    "**Используйте собственную функцию с именем `categorize_purpose()` и метод `apply()`. Изучите данные в столбце `purpose` и определите, какие подстроки помогут вам правильно определить категорию.**"
   ]
  },
  {
   "cell_type": "code",
   "execution_count": 25,
   "id": "63909b83",
   "metadata": {
    "id": "63909b83"
   },
   "outputs": [],
   "source": [
    "def categorize_purpose(reason): # создайте функцию categorize_purpose()\n",
    "    if  'автомобил' in reason:\n",
    "        return 'операции с автомобилем'\n",
    "    if  'жиль' in reason or 'недвиж' in reason:\n",
    "        return 'операции с недвижимостью'\n",
    "    if 'образ' in reason:\n",
    "        return 'получение образования'\n",
    "    if 'свадьб' in reason:\n",
    "        return 'проведение свадьбы'\n",
    "    else:\n",
    "        return reason"
   ]
  },
  {
   "cell_type": "code",
   "execution_count": 26,
   "id": "9d8f2f00",
   "metadata": {},
   "outputs": [],
   "source": [
    "data['purpose_category'] = data['purpose'].apply(categorize_purpose) # примените функцию методом apply()"
   ]
  },
  {
   "cell_type": "markdown",
   "metadata": {},
   "source": [
    "## 3. <a id='toc3_'></a>[Исследуйте данные и ответьте на вопросы](#toc0_)"
   ]
  },
  {
   "cell_type": "markdown",
   "id": "a965e187",
   "metadata": {},
   "source": [
    "В этой части проекта многие вопросы косаются платежеспособности клиентов. Для анализа будем использовать значения столбца `debt`. Рассмотрим его."
   ]
  },
  {
   "cell_type": "code",
   "execution_count": 30,
   "id": "1bd449ba",
   "metadata": {},
   "outputs": [
    {
     "data": {
      "text/plain": [
       "array([0, 1], dtype=int64)"
      ]
     },
     "execution_count": 30,
     "metadata": {},
     "output_type": "execute_result"
    }
   ],
   "source": [
    "data['debt'].unique() # проверить данные в столбце долг"
   ]
  },
  {
   "cell_type": "markdown",
   "id": "ea0cca40",
   "metadata": {},
   "source": [
    "Этот столбец представляет собой бинарную категоризацию и на его основе можно посчитать средний шанс задолженности клиентов в целом или какой - то отдельной категории. В дальнейшей категоризации будет полезно сравнить данные по базе в целом с конкретными категориями, для этого составим таблицу в которую включим количество записей в таблице и средний шанс задолженности всех клиентов."
   ]
  },
  {
   "cell_type": "code",
   "execution_count": 31,
   "id": "bfb8f143",
   "metadata": {},
   "outputs": [
    {
     "data": {
      "text/html": [
       "<div>\n",
       "<style scoped>\n",
       "    .dataframe tbody tr th:only-of-type {\n",
       "        vertical-align: middle;\n",
       "    }\n",
       "\n",
       "    .dataframe tbody tr th {\n",
       "        vertical-align: top;\n",
       "    }\n",
       "\n",
       "    .dataframe thead th {\n",
       "        text-align: right;\n",
       "    }\n",
       "</style>\n",
       "<table border=\"1\" class=\"dataframe\">\n",
       "  <thead>\n",
       "    <tr style=\"text-align: right;\">\n",
       "      <th></th>\n",
       "      <th>Количество клиентов</th>\n",
       "      <th>Шанс задолженности</th>\n",
       "    </tr>\n",
       "  </thead>\n",
       "  <tbody>\n",
       "    <tr>\n",
       "      <th>Все клиенты</th>\n",
       "      <td>21331</td>\n",
       "      <td>8.1</td>\n",
       "    </tr>\n",
       "  </tbody>\n",
       "</table>\n",
       "</div>"
      ],
      "text/plain": [
       "             Количество клиентов  Шанс задолженности\n",
       "Все клиенты                21331                 8.1"
      ]
     },
     "execution_count": 31,
     "metadata": {},
     "output_type": "execute_result"
    }
   ],
   "source": [
    "debt_mean = data['debt'].mean() # средний шанс\n",
    "debt_mean = round(debt_mean*100, 1) # d проценты\n",
    "client_totals = {'Количество клиентов': len(data), 'Шанс задолженности': debt_mean}\n",
    "client_totals = pd.DataFrame(client_totals, index = ['Все клиенты'])\n",
    "client_totals"
   ]
  },
  {
   "cell_type": "markdown",
   "id": "7de11b09",
   "metadata": {},
   "source": [
    "Имея средний шанс задолженности мы можем судить о платежеспособности разных категорий, сравнивая их со средним и между собой. Для более наглядного сравнения импортируем библиотеку `seaborn`"
   ]
  },
  {
   "cell_type": "code",
   "execution_count": 32,
   "id": "167d5cec",
   "metadata": {},
   "outputs": [],
   "source": [
    "import seaborn as sns\n",
    "sns.set_context(\"talk\")\n"
   ]
  },
  {
   "cell_type": "markdown",
   "metadata": {},
   "source": [
    "### 3.1. <a id='toc3_1_'></a>[Есть ли зависимость между количеством детей и возвратом кредита в срок?](#toc0_)"
   ]
  },
  {
   "cell_type": "markdown",
   "id": "47d8c6bf",
   "metadata": {},
   "source": [
    "Рассмотрим шанс задолженности в зависимости от количества детей и сравним его со средним у всех клиентов. Для этого составим таблицу которая показывает количество записей в каждой категории и шанс задолженности в ней. Для контраста добавим данные по всем клиентам в целом чтобы увидеть разницу со средним значением."
   ]
  },
  {
   "cell_type": "code",
   "execution_count": 36,
   "id": "0869ae1c",
   "metadata": {},
   "outputs": [
    {
     "data": {
      "text/html": [
       "<div>\n",
       "<style scoped>\n",
       "    .dataframe tbody tr th:only-of-type {\n",
       "        vertical-align: middle;\n",
       "    }\n",
       "\n",
       "    .dataframe tbody tr th {\n",
       "        vertical-align: top;\n",
       "    }\n",
       "\n",
       "    .dataframe thead th {\n",
       "        text-align: right;\n",
       "    }\n",
       "</style>\n",
       "<table border=\"1\" class=\"dataframe\">\n",
       "  <thead>\n",
       "    <tr style=\"text-align: right;\">\n",
       "      <th></th>\n",
       "      <th>Количество клиентов</th>\n",
       "      <th>Шанс задолженности</th>\n",
       "    </tr>\n",
       "    <tr>\n",
       "      <th>Количество детей</th>\n",
       "      <th></th>\n",
       "      <th></th>\n",
       "    </tr>\n",
       "  </thead>\n",
       "  <tbody>\n",
       "    <tr>\n",
       "      <th>Все клиенты</th>\n",
       "      <td>21331</td>\n",
       "      <td>8.1</td>\n",
       "    </tr>\n",
       "    <tr>\n",
       "      <th>0</th>\n",
       "      <td>14091</td>\n",
       "      <td>7.5</td>\n",
       "    </tr>\n",
       "    <tr>\n",
       "      <th>1</th>\n",
       "      <td>4808</td>\n",
       "      <td>9.2</td>\n",
       "    </tr>\n",
       "    <tr>\n",
       "      <th>2</th>\n",
       "      <td>2052</td>\n",
       "      <td>9.5</td>\n",
       "    </tr>\n",
       "    <tr>\n",
       "      <th>3</th>\n",
       "      <td>330</td>\n",
       "      <td>8.2</td>\n",
       "    </tr>\n",
       "    <tr>\n",
       "      <th>4</th>\n",
       "      <td>41</td>\n",
       "      <td>9.8</td>\n",
       "    </tr>\n",
       "    <tr>\n",
       "      <th>5</th>\n",
       "      <td>9</td>\n",
       "      <td>0.0</td>\n",
       "    </tr>\n",
       "  </tbody>\n",
       "</table>\n",
       "</div>"
      ],
      "text/plain": [
       "                  Количество клиентов  Шанс задолженности\n",
       "Количество детей                                         \n",
       "Все клиенты                     21331                 8.1\n",
       "0                               14091                 7.5\n",
       "1                                4808                 9.2\n",
       "2                                2052                 9.5\n",
       "3                                 330                 8.2\n",
       "4                                  41                 9.8\n",
       "5                                   9                 0.0"
      ]
     },
     "execution_count": 36,
     "metadata": {},
     "output_type": "execute_result"
    }
   ],
   "source": [
    "debt_groupby_kids_table = data.groupby('children')['debt'].agg(['count','mean'])\n",
    "debt_groupby_kids_table['mean'] = round(debt_groupby_kids_table['mean']*100, 1)\n",
    "debt_groupby_kids_table.columns = ['Количество клиентов', 'Шанс задолженности']\n",
    "#debt_groupby_kids_table.sort_index(ascending=False, inplace=True) # если нужно изменить порядок записей\n",
    "debt_groupby_kids_table = client_totals.append(debt_groupby_kids_table)\n",
    "debt_groupby_kids_table.index.name = \"Количество детей\"\n",
    "debt_groupby_kids_table"
   ]
  },
  {
   "cell_type": "markdown",
   "id": "a23d7308",
   "metadata": {},
   "source": [
    "Из таблицы видно, что клиентов с 4мя и 5ю детьми слишком мало для надёжного анализа, и даже клиентов с 3мя на порядок меньше чем с одним, что ставит любые выводы под сомнение. Для бездетных, а также клиентов с 1м и 2мя детьми данных достаточно. Отбросим категории 4 и 5 из-за недостатка данных и составим график для более наглядного сравнения."
   ]
  },
  {
   "cell_type": "code",
   "execution_count": 37,
   "id": "615af00a",
   "metadata": {},
   "outputs": [
    {
     "data": {
      "image/png": "[encoded data removed]",
      "text/plain": [
       "<Figure size 640x480 with 1 Axes>"
      ]
     },
     "metadata": {},
     "output_type": "display_data"
    }
   ],
   "source": [
    "sns.barplot(y=debt_groupby_kids_table.drop(index=[4,5]).index, x=debt_groupby_kids_table['Шанс задолженности'].drop(index=[4,5]), orient='h').set_title(\"Зависимость шанса задолженности от количества детей\"); #горизонтально для наглядности\n"
   ]
  },
  {
   "cell_type": "markdown",
   "id": "9bd49061",
   "metadata": {},
   "source": [
    "Можем увидить что наличие детей негативно сказывается на шансе вернуть долг вовремя. Причём для 2х детей этот шанс чуть больше чем для одного.  Данные для 3х детей показывают падение, однако из-за малого количества клиентов в этой категории не следует считать это значение надёжным. Сравним всех бездетных клиентов со всеми клиентами с детьми чтобы составить более полную картину."
   ]
  },
  {
   "cell_type": "code",
   "execution_count": 38,
   "id": "90193d68",
   "metadata": {},
   "outputs": [
    {
     "data": {
      "image/png": "[encoded data removed]",
      "text/plain": [
       "<Figure size 640x480 with 1 Axes>"
      ]
     },
     "metadata": {},
     "output_type": "display_data"
    }
   ],
   "source": [
    "childless_debt_chance = data.loc[data['children'] == 0, 'debt'].mean()\n",
    "children_debt_chance = data.loc[data['children'] != 0, 'debt'].mean()\n",
    "children_debt = {}\n",
    "\n",
    "children_debt_table = {'C детьми': round(children_debt_chance*100, 1)}\n",
    "children_debt_table['Бездетные'] = round(childless_debt_chance*100, 1)\n",
    "children_debt_table = pd.DataFrame.from_dict(children_debt_table, orient='index', columns=['Шанс задолженности'])\n",
    "children_debt_table.index.name = \"Дети\" \n",
    "sns.barplot(y=children_debt_table.index, x=children_debt_table['Шанс задолженности'], orient='h').set_title(\"Оценка влияния наличия детей на шанс задолженности\"); #развернём по горизонтали изза длинных имён категорий"
   ]
  },
  {
   "cell_type": "code",
   "execution_count": 39,
   "id": "9ae27894",
   "metadata": {},
   "outputs": [
    {
     "name": "stdout",
     "output_type": "stream",
     "text": [
      "В среднем шанс долга у клиентов 8.1%. Для бездетных это значение ниже - 7.5%\n",
      "В абсолютном отношении на 1.7% больше семей с детьми имееют долги чем бездетные - 9.2%.\n",
      "Относительном бездетных это выражается в росте шанса на задолженность на 22.5%\n"
     ]
    }
   ],
   "source": [
    "print(f\"В среднем шанс долга у клиентов {data['debt'].mean():.1%}. Для бездетных это значение ниже - {childless_debt_chance:.1%}\")\n",
    "print(f'В абсолютном отношении на {children_debt_chance - childless_debt_chance:.1%} больше семей с детьми имееют долги чем бездетные - {children_debt_chance:.1%}.')\n",
    "print(f'Относительном бездетных это выражается в росте шанса на задолженность на {children_debt_chance/childless_debt_chance - 1 :.1%}')"
   ]
  },
  {
   "cell_type": "markdown",
   "id": "b6d6472d",
   "metadata": {},
   "source": [
    "**Вывод:** \n",
    "\n",
    "Среди клиентов с детьми наблюдается значительно более высокий шанс иметь задолжность - на 1.7% (абсолютных) выше бездетных.\n",
    "\n",
    "Данные о росте этого шанса с ростом количества детей сложно достоверно оценить:\n",
    "1. Количество клиентов с тремя и более детьми более чем на порядок меньше чем количество клиентов с одним ребёнком, что ставит под сомнение репрезентативность выборки. Для их оценки имеет смысл использовать общий шанс задолженности клиентов с детьми.\n",
    "2. Для у клиентов с 2мя детьми шанс на долг на 0.2% выше (в абсолютных значениях) по сравнению с клиентами с одним ребёнком, что говорит о возможном росте шанса на задолженность в зависимости от количества детей, однако невозможно делать уверенные выводи изза сравнительно небольшой разницы и отсутствия надёжных данных о семьях с 3мя и более детьми чтобы подтвердить или опровергнуть тенденцию.\n",
    "\n",
    "В целом я считаю, что стоит учитывать наличие детей, как показатель риска задолженности, однако, непосредственно количеству детей не следует придавать большое значение пока нет возможности получить более репрезентативные данные."
   ]
  },
  {
   "cell_type": "markdown",
   "metadata": {},
   "source": [
    "### 3.2. <a id='toc3_2_'></a>[Есть ли зависимость между семейным положением и возвратом кредита в срок?](#toc0_)"
   ]
  },
  {
   "cell_type": "markdown",
   "id": "dad60f51",
   "metadata": {},
   "source": [
    "Для начала рассмотрим столбец `family status` и `family_status_id` чтобы ознакомится с данными."
   ]
  },
  {
   "cell_type": "code",
   "execution_count": 40,
   "id": "067a36b4",
   "metadata": {},
   "outputs": [
    {
     "data": {
      "text/plain": [
       "array(['женат / замужем', 'гражданский брак', 'вдовец / вдова',\n",
       "       'в разводе', 'Не женат / не замужем'], dtype=object)"
      ]
     },
     "execution_count": 40,
     "metadata": {},
     "output_type": "execute_result"
    }
   ],
   "source": [
    "data['family_status'].unique() #проверить данные в столбце семейный положение"
   ]
  },
  {
   "cell_type": "code",
   "execution_count": 41,
   "id": "50dfe177",
   "metadata": {},
   "outputs": [
    {
     "data": {
      "text/plain": [
       "array([0, 1, 2, 3, 4], dtype=int64)"
      ]
     },
     "execution_count": 41,
     "metadata": {},
     "output_type": "execute_result"
    }
   ],
   "source": [
    "data['family_status_id'].unique() # проверить данные в столбце семейный положение ID"
   ]
  },
  {
   "cell_type": "markdown",
   "id": "49f64665",
   "metadata": {},
   "source": [
    "Будем работать со столбцом `family status` для более наглядного представления. Повторим алгоритм анализа по категориям применённый выше."
   ]
  },
  {
   "cell_type": "code",
   "execution_count": 42,
   "id": "05a76807",
   "metadata": {},
   "outputs": [
    {
     "data": {
      "text/html": [
       "<div>\n",
       "<style scoped>\n",
       "    .dataframe tbody tr th:only-of-type {\n",
       "        vertical-align: middle;\n",
       "    }\n",
       "\n",
       "    .dataframe tbody tr th {\n",
       "        vertical-align: top;\n",
       "    }\n",
       "\n",
       "    .dataframe thead th {\n",
       "        text-align: right;\n",
       "    }\n",
       "</style>\n",
       "<table border=\"1\" class=\"dataframe\">\n",
       "  <thead>\n",
       "    <tr style=\"text-align: right;\">\n",
       "      <th></th>\n",
       "      <th>Количество клиентов</th>\n",
       "      <th>Шанс задолженности</th>\n",
       "    </tr>\n",
       "    <tr>\n",
       "      <th>Семейное Положение</th>\n",
       "      <th></th>\n",
       "      <th></th>\n",
       "    </tr>\n",
       "  </thead>\n",
       "  <tbody>\n",
       "    <tr>\n",
       "      <th>Все клиенты</th>\n",
       "      <td>21331</td>\n",
       "      <td>8.1</td>\n",
       "    </tr>\n",
       "    <tr>\n",
       "      <th>женат / замужем</th>\n",
       "      <td>12261</td>\n",
       "      <td>7.6</td>\n",
       "    </tr>\n",
       "    <tr>\n",
       "      <th>гражданский брак</th>\n",
       "      <td>4134</td>\n",
       "      <td>9.3</td>\n",
       "    </tr>\n",
       "    <tr>\n",
       "      <th>Не женат / не замужем</th>\n",
       "      <td>2796</td>\n",
       "      <td>9.8</td>\n",
       "    </tr>\n",
       "    <tr>\n",
       "      <th>в разводе</th>\n",
       "      <td>1189</td>\n",
       "      <td>7.1</td>\n",
       "    </tr>\n",
       "    <tr>\n",
       "      <th>вдовец / вдова</th>\n",
       "      <td>951</td>\n",
       "      <td>6.6</td>\n",
       "    </tr>\n",
       "  </tbody>\n",
       "</table>\n",
       "</div>"
      ],
      "text/plain": [
       "                       Количество клиентов  Шанс задолженности\n",
       "Семейное Положение                                            \n",
       "Все клиенты                          21331                 8.1\n",
       "женат / замужем                      12261                 7.6\n",
       "гражданский брак                      4134                 9.3\n",
       "Не женат / не замужем                 2796                 9.8\n",
       "в разводе                             1189                 7.1\n",
       "вдовец / вдова                         951                 6.6"
      ]
     },
     "execution_count": 42,
     "metadata": {},
     "output_type": "execute_result"
    }
   ],
   "source": [
    "#составим сводную таблицу\n",
    "family_status_debt_table = data['family_status'].value_counts() # рассмотрим количество записей в базе данных по семейному положению\n",
    "family_status_debt_table = family_status_debt_table.to_frame(name = 'Количество клиентов') # Series -> DF\n",
    "\n",
    "#Можно обойтись без данной переменной но код становится менее понятным\n",
    "family_status_debt = data.groupby('family_status')['debt'].mean() # средний шанс задолженности по категории\n",
    "family_status_debt = (family_status_debt*100).round(1) # переведём в проценты\n",
    "\n",
    "family_status_debt_table['Шанс задолженности'] = family_status_debt\n",
    "family_status_debt_table = client_totals.append(family_status_debt_table)\n",
    "family_status_debt_table.index.name = \"Семейное Положение\" \n",
    "family_status_debt_table\n"
   ]
  },
  {
   "cell_type": "markdown",
   "id": "b68c8dee",
   "metadata": {},
   "source": [
    "Записей достаточно для анализа по всем категориям. Рассмотрим шанс задолженности на графике."
   ]
  },
  {
   "cell_type": "code",
   "execution_count": 43,
   "id": "c42302eb",
   "metadata": {},
   "outputs": [
    {
     "data": {
      "image/png": "[encoded data removed]",
      "text/plain": [
       "<Figure size 640x480 with 1 Axes>"
      ]
     },
     "metadata": {},
     "output_type": "display_data"
    }
   ],
   "source": [
    "sns.barplot(y=family_status_debt_table.index, x=family_status_debt_table['Шанс задолженности'], orient='h').set_title(\"Зависимость шанса задолженности от семейного положения\"); #развернём по горизонтали изза длинных имён категорий\n"
   ]
  },
  {
   "cell_type": "code",
   "execution_count": 44,
   "id": "d6e9a078",
   "metadata": {},
   "outputs": [
    {
     "name": "stdout",
     "output_type": "stream",
     "text": [
      "Для Не женат / не замужем шанс задолженности выше среднего на 1.7%\n",
      "Для в разводе шанс задолженности ниже среднего на 1.0%\n",
      "Для вдовец / вдова шанс задолженности ниже среднего на 1.5%\n",
      "Для гражданский брак шанс задолженности выше среднего на 1.2%\n",
      "Для женат / замужем шанс задолженности ниже среднего на 0.5%\n"
     ]
    }
   ],
   "source": [
    "for row in range(len(family_status_debt)):\n",
    "    if family_status_debt[row] == debt_mean:\n",
    "        continue \n",
    "    elif family_status_debt[row] < debt_mean:\n",
    "        print(f\"Для {family_status_debt.index[row]} шанс задолженности ниже среднего на {round(debt_mean-family_status_debt[row], 1)}%\")\n",
    "    elif family_status_debt[row] > debt_mean:\n",
    "        print(f\"Для {family_status_debt.index[row]} шанс задолженности выше среднего на {round(family_status_debt[row]-debt_mean, 1)}%\")\n"
   ]
  },
  {
   "cell_type": "markdown",
   "id": "b6548e61",
   "metadata": {},
   "source": [
    "Рассмотрим отдельно, есть ли значимая разница между клиентами состоящими в официальном браке и теми, кто принадлежит остальным категориям."
   ]
  },
  {
   "cell_type": "code",
   "execution_count": 45,
   "id": "e4dc2117",
   "metadata": {},
   "outputs": [
    {
     "data": {
      "image/png": "[encoded data removed]",
      "text/plain": [
       "<Figure size 640x480 with 1 Axes>"
      ]
     },
     "metadata": {},
     "output_type": "display_data"
    }
   ],
   "source": [
    "is_married = {'не женат / не замужем': round(data.loc[(data['family_status'] != 'женат / замужем'), 'debt'].mean()*100, 1)}\n",
    "is_married['женат / замужем'] = family_status_debt_table.loc['женат / замужем', 'Шанс задолженности']\n",
    "is_married = pd.DataFrame.from_dict(is_married, orient='index', columns=['Шанс задолженности'])\n",
    "is_married.index.name = \"Семейное Положение\" \n",
    "sns.barplot(y=is_married.index, x=is_married['Шанс задолженности'], orient='h').set_title(\"Оценка влияния официального брака на шанс задолженности\"); #развернём по горизонтали изза длинных имён категорий"
   ]
  },
  {
   "cell_type": "code",
   "execution_count": 53,
   "id": "ad532f44",
   "metadata": {},
   "outputs": [
    {
     "name": "stdout",
     "output_type": "stream",
     "text": [
      "В целом шанс задолженности клиентов в официальном браке на 1.3% ниже остальных\n"
     ]
    }
   ],
   "source": [
    "print(f\"В целом шанс задолженности клиентов в официальном браке на\" +\n",
    "       f\" {round(is_married.loc['не женат / не замужем', 'Шанс задолженности'] - is_married.loc['женат / замужем', 'Шанс задолженности'], 1)}% ниже остальных\")"
   ]
  },
  {
   "cell_type": "markdown",
   "id": "147e76d0",
   "metadata": {},
   "source": [
    "**Вывод:** \n",
    "\n",
    "Шанс задолженности для состоящих в гражданском браке и не женатых(не замужних) значительно выше среднего, для разведенных и вдов(вдовцов), наоборот, значительно ниже. Для находящихся в браке шанс ниже среднего, но менее значительно - только на 0.6%(абс). \n",
    "\n",
    "Однако если мы сравним находящихся в официальном браке, с остальными клиентами, их шанс задолженности на 1.3%(абс) ниже остальных."
   ]
  },
  {
   "cell_type": "markdown",
   "metadata": {},
   "source": [
    "### 3.3. <a id='toc3_3_'></a>[Есть ли зависимость между уровнем дохода и возвратом кредита в срок?](#toc0_)"
   ]
  },
  {
   "cell_type": "markdown",
   "id": "ee438749",
   "metadata": {},
   "source": [
    "Для анализа будем использовать следующие категории:\n",
    "\n",
    "- 0–30000 — `'E'`;\n",
    "- 30001–50000 — `'D'`;\n",
    "- 50001–200000 — `'C'`;\n",
    "- 200001–1000000 — `'B'`;\n",
    "- 1000001 и выше — `'A'`.\n",
    "\n",
    "В добавок построим график для наглядного отображения шанса на задолженность клиентов с уровнем дохода близким (+/- 10000) определённому."
   ]
  },
  {
   "cell_type": "code",
   "execution_count": 54,
   "id": "a707aae7",
   "metadata": {},
   "outputs": [
    {
     "data": {
      "text/html": [
       "<div>\n",
       "<style scoped>\n",
       "    .dataframe tbody tr th:only-of-type {\n",
       "        vertical-align: middle;\n",
       "    }\n",
       "\n",
       "    .dataframe tbody tr th {\n",
       "        vertical-align: top;\n",
       "    }\n",
       "\n",
       "    .dataframe thead th {\n",
       "        text-align: right;\n",
       "    }\n",
       "</style>\n",
       "<table border=\"1\" class=\"dataframe\">\n",
       "  <thead>\n",
       "    <tr style=\"text-align: right;\">\n",
       "      <th></th>\n",
       "      <th>Количество клиентов</th>\n",
       "      <th>Шанс задолженности</th>\n",
       "    </tr>\n",
       "    <tr>\n",
       "      <th>Категория дохода</th>\n",
       "      <th></th>\n",
       "      <th></th>\n",
       "    </tr>\n",
       "  </thead>\n",
       "  <tbody>\n",
       "    <tr>\n",
       "      <th>Все клиенты</th>\n",
       "      <td>21331</td>\n",
       "      <td>8.1</td>\n",
       "    </tr>\n",
       "    <tr>\n",
       "      <th>A</th>\n",
       "      <td>25</td>\n",
       "      <td>8.0</td>\n",
       "    </tr>\n",
       "    <tr>\n",
       "      <th>B</th>\n",
       "      <td>5014</td>\n",
       "      <td>7.1</td>\n",
       "    </tr>\n",
       "    <tr>\n",
       "      <th>C</th>\n",
       "      <td>15921</td>\n",
       "      <td>8.5</td>\n",
       "    </tr>\n",
       "    <tr>\n",
       "      <th>D</th>\n",
       "      <td>349</td>\n",
       "      <td>6.0</td>\n",
       "    </tr>\n",
       "    <tr>\n",
       "      <th>E</th>\n",
       "      <td>22</td>\n",
       "      <td>9.1</td>\n",
       "    </tr>\n",
       "  </tbody>\n",
       "</table>\n",
       "</div>"
      ],
      "text/plain": [
       "                  Количество клиентов  Шанс задолженности\n",
       "Категория дохода                                         \n",
       "Все клиенты                     21331                 8.1\n",
       "A                                  25                 8.0\n",
       "B                                5014                 7.1\n",
       "C                               15921                 8.5\n",
       "D                                 349                 6.0\n",
       "E                                  22                 9.1"
      ]
     },
     "execution_count": 54,
     "metadata": {},
     "output_type": "execute_result"
    }
   ],
   "source": [
    "#составим сводную таблицу\n",
    "income_category_debt_table = data.groupby('total_income_category')['total_income_category'].count() # рассмотрим количество записей в базе данных по семейному положению\n",
    "income_category_debt_table = income_category_debt_table.to_frame(name = 'Количество клиентов') # Series -> DF\n",
    "\n",
    "#Можно обойтись без данной переменной но код становится менее понятным\n",
    "income_category_debt = data.groupby('total_income_category')['debt'].mean() # средний шанс задолженности по категории\n",
    "income_category_debt = (income_category_debt*100).round(1) # переведём в проценты\n",
    "\n",
    "income_category_debt_table['Шанс задолженности'] = income_category_debt\n",
    "income_category_debt_table = client_totals.append(income_category_debt_table)\n",
    "income_category_debt_table.index.name = \"Категория дохода\" \n",
    "income_category_debt_table\n"
   ]
  },
  {
   "cell_type": "markdown",
   "id": "0fe353af",
   "metadata": {},
   "source": [
    "Данных для E, A - недостаточно, отбросим их. Для D мало информации, учтём это в дальнейшем анализе. Построим график для того чтобы более наглядно сравнить категории."
   ]
  },
  {
   "cell_type": "code",
   "execution_count": 55,
   "id": "3d5ced01",
   "metadata": {},
   "outputs": [
    {
     "data": {
      "image/png": "[encoded data removed]",
      "text/plain": [
       "<Figure size 640x480 with 1 Axes>"
      ]
     },
     "metadata": {},
     "output_type": "display_data"
    }
   ],
   "source": [
    "\n",
    "sns.barplot(y=income_category_debt_table['Шанс задолженности'].drop(['A','E']).index, x=income_category_debt_table.drop(['A','E'])['Шанс задолженности'], orient='h').set_title(\"Зависимость шанса задолженности от категории дохода\"); #горизонтально для наглядности"
   ]
  },
  {
   "cell_type": "markdown",
   "id": "b82d76d1",
   "metadata": {},
   "source": [
    "Для категорий C и B можно говорить о том что клиенты с высоким доходом в целом более надёжны чем клиенты со средним доходом. Учитывая маленькое количество значений в категории D, сложно говорить о ней с уверенностью, но можно предположить что клиенты с низким доходом более обеспокоены невозвратом долгов и как следует стремятся вернуть ввовремя. Следует провести дальнейшие исследования дабы убедится в этой гипотезе, или опровергнуть её."
   ]
  },
  {
   "cell_type": "markdown",
   "id": "52994806",
   "metadata": {},
   "source": [
    "\n",
    "Для того чтобы более широко оценить зависимость платежеспособности от дохода клиента, построим график зависимости задолженности от уровня дохода: для каждой тысячи единиц дохода возьмём диапазон клиентов, чей доход на l0000 больше или меньше данного значения, и сначала оценим количество клиентво на этом диапазоне, а потом посчитаем среднее значение задолженности для них. Учитывая малое количество записей категорий A и Е ограничимся доходом от 30 тысяч до миллиона."
   ]
  },
  {
   "cell_type": "code",
   "execution_count": 56,
   "id": "07db2a33",
   "metadata": {},
   "outputs": [
    {
     "data": {
      "image/png": "[encoded data removed]",
      "text/plain": [
       "<Figure size 640x480 with 1 Axes>"
      ]
     },
     "metadata": {},
     "output_type": "display_data"
    }
   ],
   "source": [
    "\n",
    "debt_income_count = []\n",
    "income_range = range(30, 1001)\n",
    "income_range = pd.Series(income_range, name=\"Уровень дохода\")\n",
    "\n",
    "for i in range(30, 1001):\n",
    "    debt_values = data.loc[(data['total_income'] < i*1000 + 10000) & (data['total_income'] > i*1000 - 10000), 'debt'].count() \n",
    "    debt_income_count.append(debt_values)\n",
    "    \n",
    "debt_income_count = pd.Series(debt_income_count, name=\"Количество клиентов\")\n",
    "sns.lineplot(x=income_range, y=debt_income_count).set_title(\"Количество клиентов на уровень дохода\");"
   ]
  },
  {
   "cell_type": "code",
   "execution_count": 57,
   "id": "75166897",
   "metadata": {},
   "outputs": [
    {
     "data": {
      "image/png": "[encoded data removed]",
      "text/plain": [
       "<Figure size 640x480 with 1 Axes>"
      ]
     },
     "metadata": {},
     "output_type": "display_data"
    }
   ],
   "source": [
    "debt_income_mean = []\n",
    "income_range = range(30, 1001)\n",
    "income_range = pd.Series(income_range, name=\"Уровень дохода\")\n",
    "\n",
    "for i in range(30, 1001):\n",
    "    debt_values = data.loc[(data['total_income'] < i*1000 + 10000) & (data['total_income'] > i*1000 - 10000), 'debt'].mean()\n",
    "    debt_values = debt_values*100 #проценты\n",
    "    debt_income_mean.append(debt_values)\n",
    "    \n",
    "debt_income_mean = pd.Series(debt_income_mean, name=\"Шанс задолженности\")\n",
    "sns.lineplot(x=income_range, y=debt_income_mean).set_title(\"Зависимость шанса задолженности от уровня дохода\");"
   ]
  },
  {
   "cell_type": "markdown",
   "id": "c7f86cc0",
   "metadata": {},
   "source": [
    "Из графиков можно еще раз убуедится что видно что клиентво категории D очень мало, а так же заметить что клиенты категории B сильно варьируются в доходе между собой, хотя большинство сконцентрировано блтзко с катеорией C. Следствием этого является крайняя ненадёжность оценок на маленьких промежутках используемых в графике после дохода около 550. Для того чтобы более точно уловить общие тенденции разобъем клиентов на 5 категорий дохода, равных по количеству клиентов и оценим шанс задолженности для каждой из них."
   ]
  },
  {
   "cell_type": "code",
   "execution_count": 58,
   "id": "4be2794b",
   "metadata": {},
   "outputs": [
    {
     "data": {
      "text/html": [
       "<div>\n",
       "<style scoped>\n",
       "    .dataframe tbody tr th:only-of-type {\n",
       "        vertical-align: middle;\n",
       "    }\n",
       "\n",
       "    .dataframe tbody tr th {\n",
       "        vertical-align: top;\n",
       "    }\n",
       "\n",
       "    .dataframe thead th {\n",
       "        text-align: right;\n",
       "    }\n",
       "</style>\n",
       "<table border=\"1\" class=\"dataframe\">\n",
       "  <thead>\n",
       "    <tr style=\"text-align: right;\">\n",
       "      <th></th>\n",
       "      <th>Шанс задолженности</th>\n",
       "    </tr>\n",
       "    <tr>\n",
       "      <th>Количественные категории</th>\n",
       "      <th></th>\n",
       "    </tr>\n",
       "  </thead>\n",
       "  <tbody>\n",
       "    <tr>\n",
       "      <th>Все клиенты</th>\n",
       "      <td>8.1</td>\n",
       "    </tr>\n",
       "    <tr>\n",
       "      <th>(20666.0, 98514.0]</th>\n",
       "      <td>8.1</td>\n",
       "    </tr>\n",
       "    <tr>\n",
       "      <th>(98514.0, 132113.0]</th>\n",
       "      <td>8.4</td>\n",
       "    </tr>\n",
       "    <tr>\n",
       "      <th>(132113.0, 161380.0]</th>\n",
       "      <td>8.7</td>\n",
       "    </tr>\n",
       "    <tr>\n",
       "      <th>(161380.0, 214604.0]</th>\n",
       "      <td>8.4</td>\n",
       "    </tr>\n",
       "    <tr>\n",
       "      <th>(214604.0, 2265604.0]</th>\n",
       "      <td>7.0</td>\n",
       "    </tr>\n",
       "  </tbody>\n",
       "</table>\n",
       "</div>"
      ],
      "text/plain": [
       "                          Шанс задолженности\n",
       "Количественные категории                    \n",
       "Все клиенты                              8.1\n",
       "(20666.0, 98514.0]                       8.1\n",
       "(98514.0, 132113.0]                      8.4\n",
       "(132113.0, 161380.0]                     8.7\n",
       "(161380.0, 214604.0]                     8.4\n",
       "(214604.0, 2265604.0]                    7.0"
      ]
     },
     "execution_count": 58,
     "metadata": {},
     "output_type": "execute_result"
    }
   ],
   "source": [
    "income_qcut = data.loc[:, ['debt', 'total_income']]\n",
    "income_qcut['qcut'] = pd.qcut(data['total_income'], 5, precision=0)\n",
    "\n",
    "income_qcut_debt = income_qcut.groupby('qcut')['debt'].mean() # среднее шанс задолженности\n",
    "income_qcut_debt = (income_qcut_debt*100).round(1) # переведём в проценты\n",
    "income_qcut_debt = client_totals['Шанс задолженности'].append(income_qcut_debt)\n",
    "income_qcut_debt.index.name = 'Количественные категории'\n",
    "income_qcut_debt.name = \"Шанс задолженности\"\n",
    "\n",
    "income_qcut_debt.to_frame()"
   ]
  },
  {
   "cell_type": "code",
   "execution_count": 59,
   "id": "d8058a2f",
   "metadata": {},
   "outputs": [
    {
     "data": {
      "image/png": "[encoded data removed]",
      "text/plain": [
       "<Figure size 640x480 with 1 Axes>"
      ]
     },
     "metadata": {},
     "output_type": "display_data"
    }
   ],
   "source": [
    "\n",
    "sns.barplot(y=income_qcut_debt.index, x=income_qcut_debt, orient='h').set_title(\"Зависимость шанса задолженности от количественной категории дохода\"); #горизонтально для наглядности"
   ]
  },
  {
   "cell_type": "markdown",
   "id": "6add3b75",
   "metadata": {},
   "source": [
    "**Вывод:** \n",
    "\n",
    "Если брать для  анализа платежеспособности предлагаемые категории, то возникает серьёзная проблема с качеством оценки вызванная малым количеством клиентов в 3х категориях. A и E не пригодны для анализа, и я бы избегал делать какие либо оценки на их основе, в случае если нужно предсказать платежеспособности клиентов в этих категориях стоит либо их расширить, либо использовать данные других категорий, либо положиться на общие тенденции. Категория D представляет особенный интерес так как имеет очень низкий шанс задолженности, однако маленькое количество клиентов в ней ставит эту оценку под сомнение. Категории B и C наиболее пригодны для анализа и в целом говорят нам о том что люди со средним доходом, как правило, менее платежеспособны чем люди с высоким доходом.\n",
    "\n",
    "Дальнейший анализ позволил выявить чуть более точнуу оценку происходящего - шанс задолженности клиентов с относительно низкими доходами совпадает со средм для всех клиентов, после чего растёт и достигает максимума для клиентов со средними доходами, и падает до своего минимума для наиболее обеспеченных. Таким образом наиболее надёжными клиентами выступают люди с самым высоким уровнем дохода, наимение надёжными со средним. Можно предположить что люди с низкими доходами более тщательно избегают долгов и как следствие более надёжны чем клиенты со средним доходом."
   ]
  },
  {
   "cell_type": "markdown",
   "metadata": {},
   "source": [
    "### 3.4. <a id='toc3_4_'></a>[Как разные цели кредита влияют на его возврат в срок?](#toc0_)"
   ]
  },
  {
   "cell_type": "markdown",
   "id": "9af9aa53",
   "metadata": {},
   "source": [
    "Рассмотрим отношение между шансом возврата и категориями кредитования."
   ]
  },
  {
   "cell_type": "code",
   "execution_count": 60,
   "id": "b744aee3",
   "metadata": {},
   "outputs": [
    {
     "data": {
      "text/plain": [
       "purpose_category\n",
       "операции с автомобилем       4279\n",
       "операции с недвижимостью    10751\n",
       "получение образования        3988\n",
       "проведение свадьбы           2313\n",
       "Name: purpose_category, dtype: int64"
      ]
     },
     "execution_count": 60,
     "metadata": {},
     "output_type": "execute_result"
    }
   ],
   "source": [
    "data.groupby('purpose_category')['purpose_category'].count() #убедимся что у нас достаточно данных чтобы делать выводы"
   ]
  },
  {
   "cell_type": "code",
   "execution_count": 61,
   "id": "9e03c722",
   "metadata": {},
   "outputs": [
    {
     "data": {
      "text/html": [
       "<div>\n",
       "<style scoped>\n",
       "    .dataframe tbody tr th:only-of-type {\n",
       "        vertical-align: middle;\n",
       "    }\n",
       "\n",
       "    .dataframe tbody tr th {\n",
       "        vertical-align: top;\n",
       "    }\n",
       "\n",
       "    .dataframe thead th {\n",
       "        text-align: right;\n",
       "    }\n",
       "</style>\n",
       "<table border=\"1\" class=\"dataframe\">\n",
       "  <thead>\n",
       "    <tr style=\"text-align: right;\">\n",
       "      <th></th>\n",
       "      <th>Количество клиентов</th>\n",
       "      <th>Шанс задолженности</th>\n",
       "    </tr>\n",
       "    <tr>\n",
       "      <th>Категория дохода</th>\n",
       "      <th></th>\n",
       "      <th></th>\n",
       "    </tr>\n",
       "  </thead>\n",
       "  <tbody>\n",
       "    <tr>\n",
       "      <th>Все клиенты</th>\n",
       "      <td>21331</td>\n",
       "      <td>8.1</td>\n",
       "    </tr>\n",
       "    <tr>\n",
       "      <th>операции с недвижимостью</th>\n",
       "      <td>10751</td>\n",
       "      <td>7.3</td>\n",
       "    </tr>\n",
       "    <tr>\n",
       "      <th>операции с автомобилем</th>\n",
       "      <td>4279</td>\n",
       "      <td>9.3</td>\n",
       "    </tr>\n",
       "    <tr>\n",
       "      <th>получение образования</th>\n",
       "      <td>3988</td>\n",
       "      <td>9.3</td>\n",
       "    </tr>\n",
       "    <tr>\n",
       "      <th>проведение свадьбы</th>\n",
       "      <td>2313</td>\n",
       "      <td>7.9</td>\n",
       "    </tr>\n",
       "  </tbody>\n",
       "</table>\n",
       "</div>"
      ],
      "text/plain": [
       "                          Количество клиентов  Шанс задолженности\n",
       "Категория дохода                                                 \n",
       "Все клиенты                             21331                 8.1\n",
       "операции с недвижимостью                10751                 7.3\n",
       "операции с автомобилем                   4279                 9.3\n",
       "получение образования                    3988                 9.3\n",
       "проведение свадьбы                       2313                 7.9"
      ]
     },
     "execution_count": 61,
     "metadata": {},
     "output_type": "execute_result"
    }
   ],
   "source": [
    "#составим сводную таблицу\n",
    "purpose_category_debt_table = data['purpose_category'].value_counts() # рассмотрим количество записей в базе данных по семейному положению\n",
    "purpose_category_debt_table = purpose_category_debt_table.to_frame(name = 'Количество клиентов') # Series -> DF\n",
    "\n",
    "#Можно обойтись без данной переменной но код становится менее понятным\n",
    "purpose_category_debt = data.groupby('purpose_category')['debt'].mean() # средний шанс задолженности по категории\n",
    "purpose_category_debt = (purpose_category_debt*100).round(1) # переведём в проценты\n",
    "\n",
    "purpose_category_debt_table['Шанс задолженности'] = purpose_category_debt\n",
    "purpose_category_debt_table = client_totals.append(purpose_category_debt_table)\n",
    "purpose_category_debt_table.index.name = \"Категория дохода\" \n",
    "purpose_category_debt_table\n"
   ]
  },
  {
   "cell_type": "markdown",
   "id": "619ff63c",
   "metadata": {},
   "source": [
    "Для всех категорий у нас достаточно данных чтобы давать оценку. Сравним среднее значение шанса на задолженность с шансом для каждой категори."
   ]
  },
  {
   "cell_type": "code",
   "execution_count": 62,
   "id": "def48e30",
   "metadata": {},
   "outputs": [
    {
     "data": {
      "image/png": "[encoded data removed]",
      "text/plain": [
       "<Figure size 640x480 with 1 Axes>"
      ]
     },
     "metadata": {},
     "output_type": "display_data"
    }
   ],
   "source": [
    "\n",
    "sns.barplot(y=purpose_category_debt_table['Шанс задолженности'].index, x=purpose_category_debt_table['Шанс задолженности'], orient='h').set_title(\"Зависимость шанса задолженности от цели кредита\"); #горизонтально для наглядности"
   ]
  },
  {
   "cell_type": "markdown",
   "id": "56eeee74",
   "metadata": {},
   "source": [
    "**Вывод:** \n",
    "Шансы на задолженность значительно выше для автомобилистов и студентов. Совпадает со средним для людей стремящихся провести свадьбу. И значительно занижен для людей проводящих операции с недвижимостью."
   ]
  },
  {
   "cell_type": "markdown",
   "metadata": {},
   "source": [
    "### 3.5. <a id='toc3_5_'></a>[Приведите возможные причины появления пропусков в исходных данных.](#toc0_)"
   ]
  },
  {
   "cell_type": "markdown",
   "id": "4f238a67",
   "metadata": {},
   "source": [
    "Еще раз прочитаем начальные данные дабы рассмотреть их, сохраним их в переменную `data_unchanged`."
   ]
  },
  {
   "cell_type": "code",
   "execution_count": 63,
   "id": "f5877e94",
   "metadata": {},
   "outputs": [],
   "source": [
    "import pandas as pd\n",
    "\n",
    "try:\n",
    "    data_unchanged = pd.read_csv('/datasets/data.csv')\n",
    "except:\n",
    "    data_unchanged = pd.read_csv('https://code.s3.yandex.net/datasets/data.csv')"
   ]
  },
  {
   "cell_type": "code",
   "execution_count": 64,
   "id": "f4a0d6ac",
   "metadata": {},
   "outputs": [
    {
     "data": {
      "text/plain": [
       "children               0\n",
       "days_employed       2174\n",
       "dob_years              0\n",
       "education              0\n",
       "education_id           0\n",
       "family_status          0\n",
       "family_status_id       0\n",
       "gender                 0\n",
       "income_type            0\n",
       "debt                   0\n",
       "total_income        2174\n",
       "purpose                0\n",
       "dtype: int64"
      ]
     },
     "execution_count": 64,
     "metadata": {},
     "output_type": "execute_result"
    }
   ],
   "source": [
    "data_unchanged.isna().sum().dropna() #количество пропущенных значений для каждого столбца"
   ]
  },
  {
   "cell_type": "code",
   "execution_count": 65,
   "id": "685fb767",
   "metadata": {},
   "outputs": [
    {
     "data": {
      "text/html": [
       "<div>\n",
       "<style scoped>\n",
       "    .dataframe tbody tr th:only-of-type {\n",
       "        vertical-align: middle;\n",
       "    }\n",
       "\n",
       "    .dataframe tbody tr th {\n",
       "        vertical-align: top;\n",
       "    }\n",
       "\n",
       "    .dataframe thead th {\n",
       "        text-align: right;\n",
       "    }\n",
       "</style>\n",
       "<table border=\"1\" class=\"dataframe\">\n",
       "  <thead>\n",
       "    <tr style=\"text-align: right;\">\n",
       "      <th></th>\n",
       "      <th>children</th>\n",
       "      <th>days_employed</th>\n",
       "      <th>dob_years</th>\n",
       "      <th>education</th>\n",
       "      <th>education_id</th>\n",
       "      <th>family_status</th>\n",
       "      <th>family_status_id</th>\n",
       "      <th>gender</th>\n",
       "      <th>income_type</th>\n",
       "      <th>debt</th>\n",
       "      <th>total_income</th>\n",
       "      <th>purpose</th>\n",
       "    </tr>\n",
       "  </thead>\n",
       "  <tbody>\n",
       "    <tr>\n",
       "      <th>12</th>\n",
       "      <td>0</td>\n",
       "      <td>NaN</td>\n",
       "      <td>65</td>\n",
       "      <td>среднее</td>\n",
       "      <td>1</td>\n",
       "      <td>гражданский брак</td>\n",
       "      <td>1</td>\n",
       "      <td>M</td>\n",
       "      <td>пенсионер</td>\n",
       "      <td>0</td>\n",
       "      <td>NaN</td>\n",
       "      <td>сыграть свадьбу</td>\n",
       "    </tr>\n",
       "    <tr>\n",
       "      <th>26</th>\n",
       "      <td>0</td>\n",
       "      <td>NaN</td>\n",
       "      <td>41</td>\n",
       "      <td>среднее</td>\n",
       "      <td>1</td>\n",
       "      <td>женат / замужем</td>\n",
       "      <td>0</td>\n",
       "      <td>M</td>\n",
       "      <td>госслужащий</td>\n",
       "      <td>0</td>\n",
       "      <td>NaN</td>\n",
       "      <td>образование</td>\n",
       "    </tr>\n",
       "    <tr>\n",
       "      <th>29</th>\n",
       "      <td>0</td>\n",
       "      <td>NaN</td>\n",
       "      <td>63</td>\n",
       "      <td>среднее</td>\n",
       "      <td>1</td>\n",
       "      <td>Не женат / не замужем</td>\n",
       "      <td>4</td>\n",
       "      <td>F</td>\n",
       "      <td>пенсионер</td>\n",
       "      <td>0</td>\n",
       "      <td>NaN</td>\n",
       "      <td>строительство жилой недвижимости</td>\n",
       "    </tr>\n",
       "    <tr>\n",
       "      <th>41</th>\n",
       "      <td>0</td>\n",
       "      <td>NaN</td>\n",
       "      <td>50</td>\n",
       "      <td>среднее</td>\n",
       "      <td>1</td>\n",
       "      <td>женат / замужем</td>\n",
       "      <td>0</td>\n",
       "      <td>F</td>\n",
       "      <td>госслужащий</td>\n",
       "      <td>0</td>\n",
       "      <td>NaN</td>\n",
       "      <td>сделка с подержанным автомобилем</td>\n",
       "    </tr>\n",
       "    <tr>\n",
       "      <th>55</th>\n",
       "      <td>0</td>\n",
       "      <td>NaN</td>\n",
       "      <td>54</td>\n",
       "      <td>среднее</td>\n",
       "      <td>1</td>\n",
       "      <td>гражданский брак</td>\n",
       "      <td>1</td>\n",
       "      <td>F</td>\n",
       "      <td>пенсионер</td>\n",
       "      <td>1</td>\n",
       "      <td>NaN</td>\n",
       "      <td>сыграть свадьбу</td>\n",
       "    </tr>\n",
       "    <tr>\n",
       "      <th>65</th>\n",
       "      <td>0</td>\n",
       "      <td>NaN</td>\n",
       "      <td>21</td>\n",
       "      <td>среднее</td>\n",
       "      <td>1</td>\n",
       "      <td>Не женат / не замужем</td>\n",
       "      <td>4</td>\n",
       "      <td>M</td>\n",
       "      <td>компаньон</td>\n",
       "      <td>0</td>\n",
       "      <td>NaN</td>\n",
       "      <td>операции с коммерческой недвижимостью</td>\n",
       "    </tr>\n",
       "    <tr>\n",
       "      <th>67</th>\n",
       "      <td>0</td>\n",
       "      <td>NaN</td>\n",
       "      <td>52</td>\n",
       "      <td>высшее</td>\n",
       "      <td>0</td>\n",
       "      <td>женат / замужем</td>\n",
       "      <td>0</td>\n",
       "      <td>F</td>\n",
       "      <td>пенсионер</td>\n",
       "      <td>0</td>\n",
       "      <td>NaN</td>\n",
       "      <td>покупка жилья для семьи</td>\n",
       "    </tr>\n",
       "    <tr>\n",
       "      <th>72</th>\n",
       "      <td>1</td>\n",
       "      <td>NaN</td>\n",
       "      <td>32</td>\n",
       "      <td>высшее</td>\n",
       "      <td>0</td>\n",
       "      <td>женат / замужем</td>\n",
       "      <td>0</td>\n",
       "      <td>M</td>\n",
       "      <td>госслужащий</td>\n",
       "      <td>0</td>\n",
       "      <td>NaN</td>\n",
       "      <td>операции с коммерческой недвижимостью</td>\n",
       "    </tr>\n",
       "    <tr>\n",
       "      <th>82</th>\n",
       "      <td>2</td>\n",
       "      <td>NaN</td>\n",
       "      <td>50</td>\n",
       "      <td>высшее</td>\n",
       "      <td>0</td>\n",
       "      <td>женат / замужем</td>\n",
       "      <td>0</td>\n",
       "      <td>F</td>\n",
       "      <td>сотрудник</td>\n",
       "      <td>0</td>\n",
       "      <td>NaN</td>\n",
       "      <td>жилье</td>\n",
       "    </tr>\n",
       "    <tr>\n",
       "      <th>83</th>\n",
       "      <td>0</td>\n",
       "      <td>NaN</td>\n",
       "      <td>52</td>\n",
       "      <td>среднее</td>\n",
       "      <td>1</td>\n",
       "      <td>женат / замужем</td>\n",
       "      <td>0</td>\n",
       "      <td>M</td>\n",
       "      <td>сотрудник</td>\n",
       "      <td>0</td>\n",
       "      <td>NaN</td>\n",
       "      <td>жилье</td>\n",
       "    </tr>\n",
       "    <tr>\n",
       "      <th>90</th>\n",
       "      <td>2</td>\n",
       "      <td>NaN</td>\n",
       "      <td>35</td>\n",
       "      <td>высшее</td>\n",
       "      <td>0</td>\n",
       "      <td>женат / замужем</td>\n",
       "      <td>0</td>\n",
       "      <td>F</td>\n",
       "      <td>сотрудник</td>\n",
       "      <td>0</td>\n",
       "      <td>NaN</td>\n",
       "      <td>операции с жильем</td>\n",
       "    </tr>\n",
       "    <tr>\n",
       "      <th>94</th>\n",
       "      <td>1</td>\n",
       "      <td>NaN</td>\n",
       "      <td>34</td>\n",
       "      <td>высшее</td>\n",
       "      <td>0</td>\n",
       "      <td>гражданский брак</td>\n",
       "      <td>1</td>\n",
       "      <td>F</td>\n",
       "      <td>компаньон</td>\n",
       "      <td>0</td>\n",
       "      <td>NaN</td>\n",
       "      <td>на проведение свадьбы</td>\n",
       "    </tr>\n",
       "    <tr>\n",
       "      <th>96</th>\n",
       "      <td>0</td>\n",
       "      <td>NaN</td>\n",
       "      <td>44</td>\n",
       "      <td>СРЕДНЕЕ</td>\n",
       "      <td>1</td>\n",
       "      <td>женат / замужем</td>\n",
       "      <td>0</td>\n",
       "      <td>F</td>\n",
       "      <td>сотрудник</td>\n",
       "      <td>0</td>\n",
       "      <td>NaN</td>\n",
       "      <td>покупка жилой недвижимости</td>\n",
       "    </tr>\n",
       "    <tr>\n",
       "      <th>97</th>\n",
       "      <td>0</td>\n",
       "      <td>NaN</td>\n",
       "      <td>47</td>\n",
       "      <td>высшее</td>\n",
       "      <td>0</td>\n",
       "      <td>женат / замужем</td>\n",
       "      <td>0</td>\n",
       "      <td>F</td>\n",
       "      <td>сотрудник</td>\n",
       "      <td>0</td>\n",
       "      <td>NaN</td>\n",
       "      <td>профильное образование</td>\n",
       "    </tr>\n",
       "    <tr>\n",
       "      <th>120</th>\n",
       "      <td>0</td>\n",
       "      <td>NaN</td>\n",
       "      <td>46</td>\n",
       "      <td>среднее</td>\n",
       "      <td>1</td>\n",
       "      <td>женат / замужем</td>\n",
       "      <td>0</td>\n",
       "      <td>F</td>\n",
       "      <td>сотрудник</td>\n",
       "      <td>0</td>\n",
       "      <td>NaN</td>\n",
       "      <td>высшее образование</td>\n",
       "    </tr>\n",
       "    <tr>\n",
       "      <th>121</th>\n",
       "      <td>0</td>\n",
       "      <td>NaN</td>\n",
       "      <td>29</td>\n",
       "      <td>высшее</td>\n",
       "      <td>0</td>\n",
       "      <td>женат / замужем</td>\n",
       "      <td>0</td>\n",
       "      <td>F</td>\n",
       "      <td>компаньон</td>\n",
       "      <td>0</td>\n",
       "      <td>NaN</td>\n",
       "      <td>автомобиль</td>\n",
       "    </tr>\n",
       "    <tr>\n",
       "      <th>135</th>\n",
       "      <td>0</td>\n",
       "      <td>NaN</td>\n",
       "      <td>27</td>\n",
       "      <td>среднее</td>\n",
       "      <td>1</td>\n",
       "      <td>женат / замужем</td>\n",
       "      <td>0</td>\n",
       "      <td>M</td>\n",
       "      <td>компаньон</td>\n",
       "      <td>0</td>\n",
       "      <td>NaN</td>\n",
       "      <td>жилье</td>\n",
       "    </tr>\n",
       "    <tr>\n",
       "      <th>141</th>\n",
       "      <td>0</td>\n",
       "      <td>NaN</td>\n",
       "      <td>39</td>\n",
       "      <td>среднее</td>\n",
       "      <td>1</td>\n",
       "      <td>гражданский брак</td>\n",
       "      <td>1</td>\n",
       "      <td>M</td>\n",
       "      <td>сотрудник</td>\n",
       "      <td>0</td>\n",
       "      <td>NaN</td>\n",
       "      <td>свадьба</td>\n",
       "    </tr>\n",
       "    <tr>\n",
       "      <th>145</th>\n",
       "      <td>0</td>\n",
       "      <td>NaN</td>\n",
       "      <td>62</td>\n",
       "      <td>среднее</td>\n",
       "      <td>1</td>\n",
       "      <td>женат / замужем</td>\n",
       "      <td>0</td>\n",
       "      <td>M</td>\n",
       "      <td>пенсионер</td>\n",
       "      <td>0</td>\n",
       "      <td>NaN</td>\n",
       "      <td>строительство недвижимости</td>\n",
       "    </tr>\n",
       "    <tr>\n",
       "      <th>174</th>\n",
       "      <td>0</td>\n",
       "      <td>NaN</td>\n",
       "      <td>55</td>\n",
       "      <td>высшее</td>\n",
       "      <td>0</td>\n",
       "      <td>вдовец / вдова</td>\n",
       "      <td>2</td>\n",
       "      <td>F</td>\n",
       "      <td>компаньон</td>\n",
       "      <td>0</td>\n",
       "      <td>NaN</td>\n",
       "      <td>свой автомобиль</td>\n",
       "    </tr>\n",
       "    <tr>\n",
       "      <th>181</th>\n",
       "      <td>0</td>\n",
       "      <td>NaN</td>\n",
       "      <td>26</td>\n",
       "      <td>среднее</td>\n",
       "      <td>1</td>\n",
       "      <td>гражданский брак</td>\n",
       "      <td>1</td>\n",
       "      <td>F</td>\n",
       "      <td>компаньон</td>\n",
       "      <td>1</td>\n",
       "      <td>NaN</td>\n",
       "      <td>покупка жилья для семьи</td>\n",
       "    </tr>\n",
       "    <tr>\n",
       "      <th>189</th>\n",
       "      <td>1</td>\n",
       "      <td>NaN</td>\n",
       "      <td>30</td>\n",
       "      <td>среднее</td>\n",
       "      <td>1</td>\n",
       "      <td>Не женат / не замужем</td>\n",
       "      <td>4</td>\n",
       "      <td>F</td>\n",
       "      <td>сотрудник</td>\n",
       "      <td>0</td>\n",
       "      <td>NaN</td>\n",
       "      <td>свой автомобиль</td>\n",
       "    </tr>\n",
       "    <tr>\n",
       "      <th>205</th>\n",
       "      <td>1</td>\n",
       "      <td>NaN</td>\n",
       "      <td>31</td>\n",
       "      <td>высшее</td>\n",
       "      <td>0</td>\n",
       "      <td>женат / замужем</td>\n",
       "      <td>0</td>\n",
       "      <td>F</td>\n",
       "      <td>сотрудник</td>\n",
       "      <td>0</td>\n",
       "      <td>NaN</td>\n",
       "      <td>на покупку подержанного автомобиля</td>\n",
       "    </tr>\n",
       "    <tr>\n",
       "      <th>220</th>\n",
       "      <td>1</td>\n",
       "      <td>NaN</td>\n",
       "      <td>23</td>\n",
       "      <td>неоконченное высшее</td>\n",
       "      <td>2</td>\n",
       "      <td>гражданский брак</td>\n",
       "      <td>1</td>\n",
       "      <td>F</td>\n",
       "      <td>компаньон</td>\n",
       "      <td>0</td>\n",
       "      <td>NaN</td>\n",
       "      <td>сыграть свадьбу</td>\n",
       "    </tr>\n",
       "    <tr>\n",
       "      <th>241</th>\n",
       "      <td>0</td>\n",
       "      <td>NaN</td>\n",
       "      <td>47</td>\n",
       "      <td>среднее</td>\n",
       "      <td>1</td>\n",
       "      <td>женат / замужем</td>\n",
       "      <td>0</td>\n",
       "      <td>M</td>\n",
       "      <td>сотрудник</td>\n",
       "      <td>0</td>\n",
       "      <td>NaN</td>\n",
       "      <td>строительство собственной недвижимости</td>\n",
       "    </tr>\n",
       "    <tr>\n",
       "      <th>242</th>\n",
       "      <td>0</td>\n",
       "      <td>NaN</td>\n",
       "      <td>58</td>\n",
       "      <td>среднее</td>\n",
       "      <td>1</td>\n",
       "      <td>женат / замужем</td>\n",
       "      <td>0</td>\n",
       "      <td>F</td>\n",
       "      <td>госслужащий</td>\n",
       "      <td>0</td>\n",
       "      <td>NaN</td>\n",
       "      <td>покупка своего жилья</td>\n",
       "    </tr>\n",
       "    <tr>\n",
       "      <th>247</th>\n",
       "      <td>1</td>\n",
       "      <td>NaN</td>\n",
       "      <td>60</td>\n",
       "      <td>высшее</td>\n",
       "      <td>0</td>\n",
       "      <td>женат / замужем</td>\n",
       "      <td>0</td>\n",
       "      <td>F</td>\n",
       "      <td>пенсионер</td>\n",
       "      <td>1</td>\n",
       "      <td>NaN</td>\n",
       "      <td>заняться высшим образованием</td>\n",
       "    </tr>\n",
       "    <tr>\n",
       "      <th>250</th>\n",
       "      <td>0</td>\n",
       "      <td>NaN</td>\n",
       "      <td>54</td>\n",
       "      <td>высшее</td>\n",
       "      <td>0</td>\n",
       "      <td>женат / замужем</td>\n",
       "      <td>0</td>\n",
       "      <td>F</td>\n",
       "      <td>сотрудник</td>\n",
       "      <td>0</td>\n",
       "      <td>NaN</td>\n",
       "      <td>сделка с подержанным автомобилем</td>\n",
       "    </tr>\n",
       "    <tr>\n",
       "      <th>264</th>\n",
       "      <td>2</td>\n",
       "      <td>NaN</td>\n",
       "      <td>40</td>\n",
       "      <td>среднее</td>\n",
       "      <td>1</td>\n",
       "      <td>в разводе</td>\n",
       "      <td>3</td>\n",
       "      <td>F</td>\n",
       "      <td>сотрудник</td>\n",
       "      <td>0</td>\n",
       "      <td>NaN</td>\n",
       "      <td>недвижимость</td>\n",
       "    </tr>\n",
       "    <tr>\n",
       "      <th>278</th>\n",
       "      <td>1</td>\n",
       "      <td>NaN</td>\n",
       "      <td>23</td>\n",
       "      <td>Среднее</td>\n",
       "      <td>1</td>\n",
       "      <td>гражданский брак</td>\n",
       "      <td>1</td>\n",
       "      <td>F</td>\n",
       "      <td>сотрудник</td>\n",
       "      <td>1</td>\n",
       "      <td>NaN</td>\n",
       "      <td>автомобиль</td>\n",
       "    </tr>\n",
       "  </tbody>\n",
       "</table>\n",
       "</div>"
      ],
      "text/plain": [
       "     children  days_employed  dob_years            education  education_id  \\\n",
       "12          0            NaN         65              среднее             1   \n",
       "26          0            NaN         41              среднее             1   \n",
       "29          0            NaN         63              среднее             1   \n",
       "41          0            NaN         50              среднее             1   \n",
       "55          0            NaN         54              среднее             1   \n",
       "65          0            NaN         21              среднее             1   \n",
       "67          0            NaN         52               высшее             0   \n",
       "72          1            NaN         32               высшее             0   \n",
       "82          2            NaN         50               высшее             0   \n",
       "83          0            NaN         52              среднее             1   \n",
       "90          2            NaN         35               высшее             0   \n",
       "94          1            NaN         34               высшее             0   \n",
       "96          0            NaN         44              СРЕДНЕЕ             1   \n",
       "97          0            NaN         47               высшее             0   \n",
       "120         0            NaN         46              среднее             1   \n",
       "121         0            NaN         29               высшее             0   \n",
       "135         0            NaN         27              среднее             1   \n",
       "141         0            NaN         39              среднее             1   \n",
       "145         0            NaN         62              среднее             1   \n",
       "174         0            NaN         55               высшее             0   \n",
       "181         0            NaN         26              среднее             1   \n",
       "189         1            NaN         30              среднее             1   \n",
       "205         1            NaN         31               высшее             0   \n",
       "220         1            NaN         23  неоконченное высшее             2   \n",
       "241         0            NaN         47              среднее             1   \n",
       "242         0            NaN         58              среднее             1   \n",
       "247         1            NaN         60               высшее             0   \n",
       "250         0            NaN         54               высшее             0   \n",
       "264         2            NaN         40              среднее             1   \n",
       "278         1            NaN         23              Среднее             1   \n",
       "\n",
       "             family_status  family_status_id gender  income_type  debt  \\\n",
       "12        гражданский брак                 1      M    пенсионер     0   \n",
       "26         женат / замужем                 0      M  госслужащий     0   \n",
       "29   Не женат / не замужем                 4      F    пенсионер     0   \n",
       "41         женат / замужем                 0      F  госслужащий     0   \n",
       "55        гражданский брак                 1      F    пенсионер     1   \n",
       "65   Не женат / не замужем                 4      M    компаньон     0   \n",
       "67         женат / замужем                 0      F    пенсионер     0   \n",
       "72         женат / замужем                 0      M  госслужащий     0   \n",
       "82         женат / замужем                 0      F    сотрудник     0   \n",
       "83         женат / замужем                 0      M    сотрудник     0   \n",
       "90         женат / замужем                 0      F    сотрудник     0   \n",
       "94        гражданский брак                 1      F    компаньон     0   \n",
       "96         женат / замужем                 0      F    сотрудник     0   \n",
       "97         женат / замужем                 0      F    сотрудник     0   \n",
       "120        женат / замужем                 0      F    сотрудник     0   \n",
       "121        женат / замужем                 0      F    компаньон     0   \n",
       "135        женат / замужем                 0      M    компаньон     0   \n",
       "141       гражданский брак                 1      M    сотрудник     0   \n",
       "145        женат / замужем                 0      M    пенсионер     0   \n",
       "174         вдовец / вдова                 2      F    компаньон     0   \n",
       "181       гражданский брак                 1      F    компаньон     1   \n",
       "189  Не женат / не замужем                 4      F    сотрудник     0   \n",
       "205        женат / замужем                 0      F    сотрудник     0   \n",
       "220       гражданский брак                 1      F    компаньон     0   \n",
       "241        женат / замужем                 0      M    сотрудник     0   \n",
       "242        женат / замужем                 0      F  госслужащий     0   \n",
       "247        женат / замужем                 0      F    пенсионер     1   \n",
       "250        женат / замужем                 0      F    сотрудник     0   \n",
       "264              в разводе                 3      F    сотрудник     0   \n",
       "278       гражданский брак                 1      F    сотрудник     1   \n",
       "\n",
       "     total_income                                 purpose  \n",
       "12            NaN                         сыграть свадьбу  \n",
       "26            NaN                             образование  \n",
       "29            NaN        строительство жилой недвижимости  \n",
       "41            NaN        сделка с подержанным автомобилем  \n",
       "55            NaN                         сыграть свадьбу  \n",
       "65            NaN   операции с коммерческой недвижимостью  \n",
       "67            NaN                 покупка жилья для семьи  \n",
       "72            NaN   операции с коммерческой недвижимостью  \n",
       "82            NaN                                   жилье  \n",
       "83            NaN                                   жилье  \n",
       "90            NaN                       операции с жильем  \n",
       "94            NaN                   на проведение свадьбы  \n",
       "96            NaN              покупка жилой недвижимости  \n",
       "97            NaN                  профильное образование  \n",
       "120           NaN                      высшее образование  \n",
       "121           NaN                              автомобиль  \n",
       "135           NaN                                   жилье  \n",
       "141           NaN                                 свадьба  \n",
       "145           NaN              строительство недвижимости  \n",
       "174           NaN                         свой автомобиль  \n",
       "181           NaN                 покупка жилья для семьи  \n",
       "189           NaN                         свой автомобиль  \n",
       "205           NaN      на покупку подержанного автомобиля  \n",
       "220           NaN                         сыграть свадьбу  \n",
       "241           NaN  строительство собственной недвижимости  \n",
       "242           NaN                    покупка своего жилья  \n",
       "247           NaN            заняться высшим образованием  \n",
       "250           NaN        сделка с подержанным автомобилем  \n",
       "264           NaN                            недвижимость  \n",
       "278           NaN                              автомобиль  "
      ]
     },
     "execution_count": 65,
     "metadata": {},
     "output_type": "execute_result"
    }
   ],
   "source": [
    "data_unchanged[data_unchanged['total_income'].isna()].head(30) #рассмоитрим первые 20 пропусков по столбику `total_income`"
   ]
  },
  {
   "cell_type": "markdown",
   "id": "6888497d",
   "metadata": {},
   "source": [
    "Все пропуски присутствуют одновременно в столюцах `days_employed` и `total_income`. Убедимся, что это верно для остальной таблицы."
   ]
  },
  {
   "cell_type": "code",
   "execution_count": 66,
   "id": "ffe57939",
   "metadata": {},
   "outputs": [
    {
     "data": {
      "text/plain": [
       "2174"
      ]
     },
     "execution_count": 66,
     "metadata": {},
     "output_type": "execute_result"
    }
   ],
   "source": [
    "len(data_unchanged[(data_unchanged['total_income'].isna()) & (data_unchanged['days_employed'].isna())])"
   ]
  },
  {
   "cell_type": "markdown",
   "id": "9eb04b9b",
   "metadata": {},
   "source": [
    "Это значение совпадает с количествоп пропусков в обоих столбцах, подтверждая предположение. Далее, похоже что все пропуски принадлежат узкому перечню с точки зрения источника дохода. Рассмотрим это поближе.\n"
   ]
  },
  {
   "cell_type": "code",
   "execution_count": 67,
   "id": "d74512d3",
   "metadata": {},
   "outputs": [
    {
     "data": {
      "text/plain": [
       "array(['сотрудник', 'пенсионер', 'компаньон', 'госслужащий',\n",
       "       'безработный', 'предприниматель', 'студент', 'в декрете'],\n",
       "      dtype=object)"
      ]
     },
     "execution_count": 67,
     "metadata": {},
     "output_type": "execute_result"
    }
   ],
   "source": [
    "data_unchanged['income_type'].unique()"
   ]
  },
  {
   "cell_type": "code",
   "execution_count": 68,
   "id": "a72e6968",
   "metadata": {},
   "outputs": [
    {
     "data": {
      "text/html": [
       "<div>\n",
       "<style scoped>\n",
       "    .dataframe tbody tr th:only-of-type {\n",
       "        vertical-align: middle;\n",
       "    }\n",
       "\n",
       "    .dataframe tbody tr th {\n",
       "        vertical-align: top;\n",
       "    }\n",
       "\n",
       "    .dataframe thead th {\n",
       "        text-align: right;\n",
       "    }\n",
       "</style>\n",
       "<table border=\"1\" class=\"dataframe\">\n",
       "  <thead>\n",
       "    <tr style=\"text-align: right;\">\n",
       "      <th></th>\n",
       "      <th>children</th>\n",
       "      <th>days_employed</th>\n",
       "      <th>dob_years</th>\n",
       "      <th>education</th>\n",
       "      <th>education_id</th>\n",
       "      <th>family_status</th>\n",
       "      <th>family_status_id</th>\n",
       "      <th>gender</th>\n",
       "      <th>income_type</th>\n",
       "      <th>debt</th>\n",
       "      <th>total_income</th>\n",
       "      <th>purpose</th>\n",
       "    </tr>\n",
       "  </thead>\n",
       "  <tbody>\n",
       "    <tr>\n",
       "      <th>5936</th>\n",
       "      <td>0</td>\n",
       "      <td>NaN</td>\n",
       "      <td>58</td>\n",
       "      <td>высшее</td>\n",
       "      <td>0</td>\n",
       "      <td>женат / замужем</td>\n",
       "      <td>0</td>\n",
       "      <td>M</td>\n",
       "      <td>предприниматель</td>\n",
       "      <td>0</td>\n",
       "      <td>NaN</td>\n",
       "      <td>покупка жилой недвижимости</td>\n",
       "    </tr>\n",
       "  </tbody>\n",
       "</table>\n",
       "</div>"
      ],
      "text/plain": [
       "      children  days_employed  dob_years education  education_id  \\\n",
       "5936         0            NaN         58    высшее             0   \n",
       "\n",
       "        family_status  family_status_id gender      income_type  debt  \\\n",
       "5936  женат / замужем                 0      M  предприниматель     0   \n",
       "\n",
       "      total_income                     purpose  \n",
       "5936           NaN  покупка жилой недвижимости  "
      ]
     },
     "execution_count": 68,
     "metadata": {},
     "output_type": "execute_result"
    }
   ],
   "source": [
    "data_unchanged[(data_unchanged['total_income'].isna()) &\\\n",
    "               ((data_unchanged['income_type'] != 'госслужащий') & (data_unchanged['income_type'] != 'сотрудник') & \\\n",
    "                (data_unchanged['income_type'] != 'пенсионер') & (data_unchanged['income_type'] != 'компаньон'))].head(20)"
   ]
  },
  {
   "cell_type": "markdown",
   "id": "ff192dc5",
   "metadata": {},
   "source": [
    "Замечен один пропуск клиента - предпринимателя, рассмотрим данную категорию клиентов поближе."
   ]
  },
  {
   "cell_type": "code",
   "execution_count": 69,
   "id": "c5d2f821",
   "metadata": {},
   "outputs": [
    {
     "data": {
      "text/html": [
       "<div>\n",
       "<style scoped>\n",
       "    .dataframe tbody tr th:only-of-type {\n",
       "        vertical-align: middle;\n",
       "    }\n",
       "\n",
       "    .dataframe tbody tr th {\n",
       "        vertical-align: top;\n",
       "    }\n",
       "\n",
       "    .dataframe thead th {\n",
       "        text-align: right;\n",
       "    }\n",
       "</style>\n",
       "<table border=\"1\" class=\"dataframe\">\n",
       "  <thead>\n",
       "    <tr style=\"text-align: right;\">\n",
       "      <th></th>\n",
       "      <th>children</th>\n",
       "      <th>days_employed</th>\n",
       "      <th>dob_years</th>\n",
       "      <th>education</th>\n",
       "      <th>education_id</th>\n",
       "      <th>family_status</th>\n",
       "      <th>family_status_id</th>\n",
       "      <th>gender</th>\n",
       "      <th>income_type</th>\n",
       "      <th>debt</th>\n",
       "      <th>total_income</th>\n",
       "      <th>purpose</th>\n",
       "    </tr>\n",
       "  </thead>\n",
       "  <tbody>\n",
       "    <tr>\n",
       "      <th>5936</th>\n",
       "      <td>0</td>\n",
       "      <td>NaN</td>\n",
       "      <td>58</td>\n",
       "      <td>высшее</td>\n",
       "      <td>0</td>\n",
       "      <td>женат / замужем</td>\n",
       "      <td>0</td>\n",
       "      <td>M</td>\n",
       "      <td>предприниматель</td>\n",
       "      <td>0</td>\n",
       "      <td>NaN</td>\n",
       "      <td>покупка жилой недвижимости</td>\n",
       "    </tr>\n",
       "    <tr>\n",
       "      <th>18697</th>\n",
       "      <td>0</td>\n",
       "      <td>-520.848083</td>\n",
       "      <td>27</td>\n",
       "      <td>высшее</td>\n",
       "      <td>0</td>\n",
       "      <td>гражданский брак</td>\n",
       "      <td>1</td>\n",
       "      <td>F</td>\n",
       "      <td>предприниматель</td>\n",
       "      <td>0</td>\n",
       "      <td>499163.144947</td>\n",
       "      <td>на проведение свадьбы</td>\n",
       "    </tr>\n",
       "  </tbody>\n",
       "</table>\n",
       "</div>"
      ],
      "text/plain": [
       "       children  days_employed  dob_years education  education_id  \\\n",
       "5936          0            NaN         58    высшее             0   \n",
       "18697         0    -520.848083         27    высшее             0   \n",
       "\n",
       "          family_status  family_status_id gender      income_type  debt  \\\n",
       "5936    женат / замужем                 0      M  предприниматель     0   \n",
       "18697  гражданский брак                 1      F  предприниматель     0   \n",
       "\n",
       "        total_income                     purpose  \n",
       "5936             NaN  покупка жилой недвижимости  \n",
       "18697  499163.144947       на проведение свадьбы  "
      ]
     },
     "execution_count": 69,
     "metadata": {},
     "output_type": "execute_result"
    }
   ],
   "source": [
    "data_unchanged[data_unchanged['income_type'] == 'предприниматель'].head(20)"
   ]
  },
  {
   "cell_type": "markdown",
   "id": "c90f8d77",
   "metadata": {},
   "source": [
    "В данной категории всего 2 клиента, этого недостаточно для каких - либо выводов."
   ]
  },
  {
   "cell_type": "markdown",
   "id": "f930b36d",
   "metadata": {},
   "source": [
    "*Ответ:* \n",
    "Можно заметить что пропуска всегда присутствуют в категориях стаж и общий доход, что говорит об отсутствии данных о трудоустройстве клиента. Все пропуска кроме 1 принадлежат категориям госслужащий, компаньон, сотрудник, пенсионер. Пропуск-исключение сложно оценить т.к. из всех клиентов всего 2 предприниматели. В целом же, пропуски, скорее всего, результат отказа клиентов предоставить данные о своём трудоустройстве и доходе, можно предположить что в большинстве случаев - это отказ предоставить трудовую книжку."
   ]
  },
  {
   "cell_type": "markdown",
   "metadata": {},
   "source": [
    "### 3.6. <a id='toc3_6_'></a>[Объясните, почему заполнить пропуски медианным значением — лучшее решение для количественных переменных.](#toc0_)"
   ]
  },
  {
   "cell_type": "markdown",
   "id": "406f9b0f",
   "metadata": {},
   "source": [
    "*Ответ:*\n",
    "\n",
    "В рамках поставленной задачи количественные переменные полезны для построения общих представлений о разных категориях клиентов, отбрасывание строк из таблицы из-за пропусков может пагубно сказаться на репрезентативности такого анализа. Делая выбор чем заполнить пропуски, мы выбираем медианные значения потому что они более вероятно отражают среднего клиента нежели матиматические средние, которые подвержены искажению в случае присутствия очень больших и очень маленьких значений."
   ]
  },
  {
   "cell_type": "markdown",
   "metadata": {},
   "source": [
    "## 4. <a id='toc4_'></a>[Общий вывод.](#toc0_)"
   ]
  },
  {
   "cell_type": "markdown",
   "id": "66f0d888",
   "metadata": {},
   "source": [
    "\n",
    "В целом анализ категорий клиентов показал что на кредитоспособность влияет ряд факторов, однако большинство отклонений от среднего показателя находится в рамках 1%, поэтому следует не ориентироваться на какой-то один показатель, а использовать модель оценки клиента которая берёт в учёт несколько факторов. \n",
    "\n",
    "\n",
    "Из анализируемых категорий наиболее примечательным оказались клиенты с уровнем дохода категории D1 (30001-60000) которые показали кредитоспособность на 2% лучше средней. Возможно имеет смысл привлечь больше клиентов этой категории дохода, дабы улучшить средние показатели."
   ]
  },
  {
   "cell_type": "markdown",
   "id": "11789f60",
   "metadata": {},
   "source": [
    "Целью проекта было исследование надёжности заёмщиков для дальнейшего построения модели кредитного скоринга. Заказчиком были предоставлены обезличенные данные клиентов содержащие уровень дохода, наличие задолженности, а так же ряд данных о клиенте, которые позволяют произвести анализ для выявления закономерностей зависимости шанса задолженности от особенностей клиента. В данных обнаружился ряд пропусков информации о стаже и доходе клиентов. Дабы избежать искажения выборки, пропуска восстановили, заполнив медианным значением для каждого источника доходов клиентов с пропусками. \n",
    "\n",
    "Анализ показал что клиенты без детей более кредитоспособны чем клиенты с детьми. Ситуация аналогична при сравниваем клиентов состоящих в официальном браке с остальными клиентами. Однако стоит учесть, что разведённые клиенты и клиенты потерявшие супруга(у) показывают еще более высокую платежеспособность чем женатые. \n",
    "\n",
    "Что касается влияния уровня дохода на шанс зависимости - наиболее надёжными показали себя клиенты с высоким доходом, кредитоспособность клиентов с низким доходом средняя, и наиболее часто задолжниками становятся клиенты со средним доходом. Обращаю внимание на то что данные говорят о возможном высоком уровне надёжности клиентов с доходом значительно ниже среднего, однако говорить с уверенностью сложно из-за маленького объёма данных о них. \n",
    "\n",
    "Среди причин кредита наиболее часто задолженность возникает у людей стремящихся, с помощью кредита, получить образование или приобрести автомобиль. Заёмщики же планирующие свадьбы и приобретающие недвижимость наоборот показывают платежеспособность выше средней.\n",
    "\n",
    "В целом анализ категорий клиентов показал что на кредитоспособность влияет ряд факторов, однако отклонений по отдельно взятым факторам малы, поэтому следует использовать модель оценки кредитоспособности, клиента которая берёт в учёт несколько показателей. \n",
    "\n",
    "В сборе данных для дальнейших исследований следует обратить внимание на устранение пропусков, для этого минимизировать человеческий и технический факторы которые могли повлиять на данные с одной стороны, и, если это возможно, привлечь тех клиентов о которых недостаточно данных, передать данные банку.\n",
    "\n",
    "Так же хотел бы обратить внимание на категории дохода используемые банком для анализа кредитоспособности - данные по трём из пяти категорий не достаточны для достоверной оценки, имеет смысл либо попытаться собрать данные большем количестве клиентов из мало представленных категорий, либо пересмотреть категории для более надёжного анализа.\n",
    "\n",
    "\n"
   ]
  }
 ],
 "metadata": {
  "ExecuteTimeLog": [
   {
    "duration": 49,
    "start_time": "2023-08-30T10:19:59.540Z"
   },
   {
    "duration": 6,
    "start_time": "2023-08-30T10:20:11.479Z"
   },
   {
    "duration": 521,
    "start_time": "2023-08-30T10:20:14.979Z"
   },
   {
    "duration": 306,
    "start_time": "2023-08-30T10:20:16.787Z"
   },
   {
    "duration": 27,
    "start_time": "2023-08-30T10:20:18.635Z"
   },
   {
    "duration": 17,
    "start_time": "2023-08-30T10:20:35.502Z"
   },
   {
    "duration": 19,
    "start_time": "2023-08-30T10:20:45.886Z"
   },
   {
    "duration": 13,
    "start_time": "2023-08-30T10:21:25.090Z"
   },
   {
    "duration": 33,
    "start_time": "2023-08-30T10:25:38.467Z"
   },
   {
    "duration": 8,
    "start_time": "2023-08-30T10:26:00.818Z"
   },
   {
    "duration": 11,
    "start_time": "2023-08-30T10:26:22.324Z"
   },
   {
    "duration": 9,
    "start_time": "2023-08-30T10:27:02.647Z"
   },
   {
    "duration": 4,
    "start_time": "2023-08-30T10:27:12.305Z"
   },
   {
    "duration": 8,
    "start_time": "2023-08-30T10:28:22.942Z"
   },
   {
    "duration": 10,
    "start_time": "2023-08-30T10:28:27.942Z"
   },
   {
    "duration": 14,
    "start_time": "2023-08-30T10:28:44.313Z"
   },
   {
    "duration": 13,
    "start_time": "2023-08-30T10:29:54.859Z"
   },
   {
    "duration": 10,
    "start_time": "2023-08-30T10:30:04.117Z"
   },
   {
    "duration": 14,
    "start_time": "2023-08-30T10:30:08.871Z"
   },
   {
    "duration": 13,
    "start_time": "2023-08-30T10:30:19.702Z"
   },
   {
    "duration": 13,
    "start_time": "2023-08-30T10:31:40.803Z"
   },
   {
    "duration": 12,
    "start_time": "2023-08-30T10:32:16.226Z"
   },
   {
    "duration": 27,
    "start_time": "2023-08-30T10:32:22.277Z"
   },
   {
    "duration": 23,
    "start_time": "2023-08-30T10:32:42.944Z"
   },
   {
    "duration": 12,
    "start_time": "2023-08-30T10:32:56.078Z"
   },
   {
    "duration": 8,
    "start_time": "2023-08-30T10:33:06.837Z"
   },
   {
    "duration": 7,
    "start_time": "2023-08-30T10:34:07.960Z"
   },
   {
    "duration": 2179,
    "start_time": "2023-08-30T10:35:06.047Z"
   },
   {
    "duration": 33,
    "start_time": "2023-08-30T10:35:28.474Z"
   },
   {
    "duration": 8,
    "start_time": "2023-08-30T10:38:37.463Z"
   },
   {
    "duration": 8,
    "start_time": "2023-08-30T10:38:52.969Z"
   },
   {
    "duration": 99,
    "start_time": "2023-08-30T10:42:34.416Z"
   },
   {
    "duration": 32,
    "start_time": "2023-08-30T10:42:40.780Z"
   },
   {
    "duration": 15,
    "start_time": "2023-08-30T10:51:06.451Z"
   },
   {
    "duration": 11,
    "start_time": "2023-08-30T10:51:30.814Z"
   },
   {
    "duration": 31,
    "start_time": "2023-08-30T10:52:05.657Z"
   },
   {
    "duration": 30,
    "start_time": "2023-08-30T10:52:12.475Z"
   },
   {
    "duration": 40,
    "start_time": "2023-08-30T10:53:22.492Z"
   },
   {
    "duration": 38,
    "start_time": "2023-08-30T10:55:05.439Z"
   },
   {
    "duration": 89,
    "start_time": "2023-08-30T10:55:58.545Z"
   },
   {
    "duration": 10,
    "start_time": "2023-08-30T10:56:03.061Z"
   },
   {
    "duration": 8,
    "start_time": "2023-08-30T10:56:51.361Z"
   },
   {
    "duration": 14,
    "start_time": "2023-08-30T10:57:07.382Z"
   },
   {
    "duration": 10,
    "start_time": "2023-08-30T10:57:20.105Z"
   },
   {
    "duration": 11,
    "start_time": "2023-08-30T10:57:42.931Z"
   },
   {
    "duration": 12,
    "start_time": "2023-08-30T10:59:11.778Z"
   },
   {
    "duration": 12,
    "start_time": "2023-08-30T10:59:23.628Z"
   },
   {
    "duration": 80,
    "start_time": "2023-08-30T11:00:28.416Z"
   },
   {
    "duration": 4,
    "start_time": "2023-08-30T11:00:40.010Z"
   },
   {
    "duration": 11,
    "start_time": "2023-08-30T11:00:41.506Z"
   },
   {
    "duration": 16,
    "start_time": "2023-08-30T11:00:53.534Z"
   },
   {
    "duration": 13,
    "start_time": "2023-08-30T11:05:09.859Z"
   },
   {
    "duration": 20,
    "start_time": "2023-08-30T11:05:31.974Z"
   },
   {
    "duration": 23,
    "start_time": "2023-08-30T11:06:14.120Z"
   },
   {
    "duration": 16,
    "start_time": "2023-08-30T11:06:32.884Z"
   },
   {
    "duration": 19,
    "start_time": "2023-08-30T11:06:43.291Z"
   },
   {
    "duration": 16,
    "start_time": "2023-08-30T11:06:49.739Z"
   },
   {
    "duration": 228,
    "start_time": "2023-08-30T11:09:02.410Z"
   },
   {
    "duration": 17,
    "start_time": "2023-08-30T11:09:27.247Z"
   },
   {
    "duration": 25,
    "start_time": "2023-08-30T11:09:56.087Z"
   },
   {
    "duration": 18,
    "start_time": "2023-08-30T11:10:33.512Z"
   },
   {
    "duration": 13,
    "start_time": "2023-08-30T11:12:21.792Z"
   },
   {
    "duration": 16,
    "start_time": "2023-08-30T11:13:00.417Z"
   },
   {
    "duration": 17,
    "start_time": "2023-08-30T11:13:08.274Z"
   },
   {
    "duration": 16,
    "start_time": "2023-08-30T11:13:16.060Z"
   },
   {
    "duration": 7,
    "start_time": "2023-08-30T11:21:47.203Z"
   },
   {
    "duration": 95,
    "start_time": "2023-08-30T11:23:38.718Z"
   },
   {
    "duration": 128,
    "start_time": "2023-08-30T11:24:06.268Z"
   },
   {
    "duration": 104,
    "start_time": "2023-08-30T11:24:19.916Z"
   },
   {
    "duration": 14,
    "start_time": "2023-08-30T11:24:31.029Z"
   },
   {
    "duration": 66,
    "start_time": "2023-08-30T11:24:39.299Z"
   },
   {
    "duration": 232,
    "start_time": "2023-08-30T11:24:47.256Z"
   },
   {
    "duration": 207,
    "start_time": "2023-08-30T11:25:06.249Z"
   },
   {
    "duration": 192,
    "start_time": "2023-08-30T11:25:19.269Z"
   },
   {
    "duration": 86,
    "start_time": "2023-08-30T11:25:44.827Z"
   },
   {
    "duration": 54,
    "start_time": "2023-08-30T11:25:53.200Z"
   },
   {
    "duration": 160,
    "start_time": "2023-08-30T11:27:26.940Z"
   },
   {
    "duration": 105,
    "start_time": "2023-08-30T11:27:34.472Z"
   },
   {
    "duration": 26,
    "start_time": "2023-08-30T11:27:37.570Z"
   },
   {
    "duration": 24,
    "start_time": "2023-08-30T11:28:10.004Z"
   },
   {
    "duration": 13,
    "start_time": "2023-08-30T11:30:04.262Z"
   },
   {
    "duration": 13,
    "start_time": "2023-08-30T11:30:28.722Z"
   },
   {
    "duration": 13,
    "start_time": "2023-08-30T11:30:39.553Z"
   },
   {
    "duration": 15,
    "start_time": "2023-08-30T11:31:07.480Z"
   },
   {
    "duration": 15,
    "start_time": "2023-08-30T11:31:18.126Z"
   },
   {
    "duration": 18,
    "start_time": "2023-08-30T11:31:56.376Z"
   },
   {
    "duration": 23,
    "start_time": "2023-08-30T11:32:35.616Z"
   },
   {
    "duration": 26,
    "start_time": "2023-08-30T11:32:48.050Z"
   },
   {
    "duration": 83,
    "start_time": "2023-08-30T11:32:54.379Z"
   },
   {
    "duration": 26,
    "start_time": "2023-08-30T11:33:03.004Z"
   },
   {
    "duration": 27,
    "start_time": "2023-08-30T11:33:42.257Z"
   },
   {
    "duration": 13,
    "start_time": "2023-08-30T11:34:02.558Z"
   },
   {
    "duration": 10,
    "start_time": "2023-08-30T11:34:45.649Z"
   },
   {
    "duration": 19,
    "start_time": "2023-08-30T11:34:59.061Z"
   },
   {
    "duration": 14,
    "start_time": "2023-08-30T11:35:06.185Z"
   },
   {
    "duration": 1380,
    "start_time": "2023-08-30T11:35:25.063Z"
   },
   {
    "duration": 691,
    "start_time": "2023-08-30T11:35:49.164Z"
   },
   {
    "duration": 11,
    "start_time": "2023-08-30T11:35:55.729Z"
   },
   {
    "duration": 17,
    "start_time": "2023-08-30T11:36:15.472Z"
   },
   {
    "duration": 14,
    "start_time": "2023-08-30T11:37:46.529Z"
   },
   {
    "duration": 80,
    "start_time": "2023-08-30T11:38:24.436Z"
   },
   {
    "duration": 28,
    "start_time": "2023-08-30T11:38:28.129Z"
   },
   {
    "duration": 23,
    "start_time": "2023-08-30T11:38:36.479Z"
   },
   {
    "duration": 22,
    "start_time": "2023-08-30T11:38:40.613Z"
   },
   {
    "duration": 37,
    "start_time": "2023-08-30T11:43:39.573Z"
   },
   {
    "duration": 37,
    "start_time": "2023-08-30T11:43:49.529Z"
   },
   {
    "duration": 3,
    "start_time": "2023-08-30T11:43:53.713Z"
   },
   {
    "duration": 82,
    "start_time": "2023-08-30T11:43:54.861Z"
   },
   {
    "duration": 16,
    "start_time": "2023-08-30T11:43:56.047Z"
   },
   {
    "duration": 17,
    "start_time": "2023-08-30T11:43:58.509Z"
   },
   {
    "duration": 11,
    "start_time": "2023-08-30T11:44:00.871Z"
   },
   {
    "duration": 37,
    "start_time": "2023-08-30T11:44:02.631Z"
   },
   {
    "duration": 1840,
    "start_time": "2023-08-30T11:44:49.577Z"
   },
   {
    "duration": 2790,
    "start_time": "2023-08-30T11:44:57.365Z"
   },
   {
    "duration": 42,
    "start_time": "2023-08-30T11:45:05.840Z"
   },
   {
    "duration": 42,
    "start_time": "2023-08-30T11:45:23.330Z"
   },
   {
    "duration": 46,
    "start_time": "2023-08-30T11:45:32.262Z"
   },
   {
    "duration": 39,
    "start_time": "2023-08-30T11:45:48.126Z"
   },
   {
    "duration": 8,
    "start_time": "2023-08-30T11:48:42.800Z"
   },
   {
    "duration": 7,
    "start_time": "2023-08-30T11:48:57.419Z"
   },
   {
    "duration": 9,
    "start_time": "2023-08-30T11:49:52.488Z"
   },
   {
    "duration": 3,
    "start_time": "2023-08-30T11:50:20.414Z"
   },
   {
    "duration": 8,
    "start_time": "2023-08-30T11:51:05.921Z"
   },
   {
    "duration": 5,
    "start_time": "2023-08-30T11:51:56.488Z"
   },
   {
    "duration": 22,
    "start_time": "2023-08-30T11:55:29.051Z"
   },
   {
    "duration": 7,
    "start_time": "2023-08-30T11:56:45.222Z"
   },
   {
    "duration": 7,
    "start_time": "2023-08-30T11:57:05.134Z"
   },
   {
    "duration": 5,
    "start_time": "2023-08-30T11:57:31.606Z"
   },
   {
    "duration": 5,
    "start_time": "2023-08-30T11:59:28.905Z"
   },
   {
    "duration": 127,
    "start_time": "2023-08-30T12:02:47.716Z"
   },
   {
    "duration": 763,
    "start_time": "2023-08-30T12:03:01.525Z"
   },
   {
    "duration": 35,
    "start_time": "2023-08-30T12:04:17.936Z"
   },
   {
    "duration": 10,
    "start_time": "2023-08-30T12:04:48.225Z"
   },
   {
    "duration": 4,
    "start_time": "2023-08-30T12:06:48.421Z"
   },
   {
    "duration": 12,
    "start_time": "2023-08-30T12:08:23.919Z"
   },
   {
    "duration": 8,
    "start_time": "2023-08-30T12:08:57.488Z"
   },
   {
    "duration": 21,
    "start_time": "2023-08-30T12:09:06.201Z"
   },
   {
    "duration": 28,
    "start_time": "2023-08-30T12:10:44.646Z"
   },
   {
    "duration": 4,
    "start_time": "2023-08-30T12:11:05.149Z"
   },
   {
    "duration": 251,
    "start_time": "2023-08-30T12:11:05.155Z"
   },
   {
    "duration": 23,
    "start_time": "2023-08-30T12:11:05.408Z"
   },
   {
    "duration": 18,
    "start_time": "2023-08-30T12:11:05.448Z"
   },
   {
    "duration": 15,
    "start_time": "2023-08-30T12:11:05.469Z"
   },
   {
    "duration": 67,
    "start_time": "2023-08-30T12:11:05.486Z"
   },
   {
    "duration": 3,
    "start_time": "2023-08-30T12:11:05.555Z"
   },
   {
    "duration": 14,
    "start_time": "2023-08-30T12:11:05.560Z"
   },
   {
    "duration": 7,
    "start_time": "2023-08-30T12:11:05.576Z"
   },
   {
    "duration": 27,
    "start_time": "2023-08-30T12:11:05.585Z"
   },
   {
    "duration": 7,
    "start_time": "2023-08-30T12:11:05.614Z"
   },
   {
    "duration": 68,
    "start_time": "2023-08-30T12:11:05.623Z"
   },
   {
    "duration": 12,
    "start_time": "2023-08-30T12:11:05.693Z"
   },
   {
    "duration": 4,
    "start_time": "2023-08-30T12:11:05.707Z"
   },
   {
    "duration": 38,
    "start_time": "2023-08-30T12:11:05.713Z"
   },
   {
    "duration": 36,
    "start_time": "2023-08-30T12:11:05.753Z"
   },
   {
    "duration": 18,
    "start_time": "2023-08-30T12:11:07.099Z"
   },
   {
    "duration": 3,
    "start_time": "2023-08-30T12:17:08.707Z"
   },
   {
    "duration": 10,
    "start_time": "2023-08-30T12:17:42.857Z"
   },
   {
    "duration": 6,
    "start_time": "2023-08-30T12:18:12.717Z"
   },
   {
    "duration": 4,
    "start_time": "2023-08-30T12:24:32.631Z"
   },
   {
    "duration": 4,
    "start_time": "2023-08-30T12:27:53.213Z"
   },
   {
    "duration": 86,
    "start_time": "2023-08-30T12:28:06.532Z"
   },
   {
    "duration": 4,
    "start_time": "2023-08-30T12:28:08.298Z"
   },
   {
    "duration": 4,
    "start_time": "2023-08-30T12:29:52.652Z"
   },
   {
    "duration": 10,
    "start_time": "2023-08-30T12:33:05.283Z"
   },
   {
    "duration": 9,
    "start_time": "2023-08-30T12:33:15.685Z"
   },
   {
    "duration": 8,
    "start_time": "2023-08-30T12:33:43.013Z"
   },
   {
    "duration": 3,
    "start_time": "2023-08-30T12:33:46.527Z"
   },
   {
    "duration": 8,
    "start_time": "2023-08-30T12:33:47.745Z"
   },
   {
    "duration": 6,
    "start_time": "2023-08-30T12:33:52.869Z"
   },
   {
    "duration": 7,
    "start_time": "2023-08-30T12:34:10.006Z"
   },
   {
    "duration": 7,
    "start_time": "2023-08-30T12:35:02.566Z"
   },
   {
    "duration": 4,
    "start_time": "2023-08-30T12:35:30.307Z"
   },
   {
    "duration": 8,
    "start_time": "2023-08-30T12:35:32.241Z"
   },
   {
    "duration": 4,
    "start_time": "2023-08-30T12:36:51.528Z"
   },
   {
    "duration": 10,
    "start_time": "2023-08-30T12:36:57.595Z"
   },
   {
    "duration": 409,
    "start_time": "2023-08-30T17:15:29.825Z"
   },
   {
    "duration": 75,
    "start_time": "2023-08-30T17:15:31.126Z"
   },
   {
    "duration": 68,
    "start_time": "2023-08-30T17:16:16.034Z"
   },
   {
    "duration": 62,
    "start_time": "2023-08-30T17:16:24.915Z"
   },
   {
    "duration": 72,
    "start_time": "2023-08-30T17:16:43.911Z"
   },
   {
    "duration": 33,
    "start_time": "2023-08-30T17:16:45.959Z"
   },
   {
    "duration": 10,
    "start_time": "2023-08-30T17:17:11.908Z"
   },
   {
    "duration": 45,
    "start_time": "2023-08-30T17:17:16.858Z"
   },
   {
    "duration": 12,
    "start_time": "2023-08-30T17:17:19.269Z"
   },
   {
    "duration": 68,
    "start_time": "2023-08-30T17:17:29.683Z"
   },
   {
    "duration": 32,
    "start_time": "2023-08-30T17:17:32.607Z"
   },
   {
    "duration": 10,
    "start_time": "2023-08-30T17:18:39.704Z"
   },
   {
    "duration": 72,
    "start_time": "2023-08-30T17:18:48.341Z"
   },
   {
    "duration": 42,
    "start_time": "2023-08-30T17:18:50.913Z"
   },
   {
    "duration": 68,
    "start_time": "2023-08-30T17:20:06.422Z"
   },
   {
    "duration": 14,
    "start_time": "2023-08-30T17:20:08.355Z"
   },
   {
    "duration": 67,
    "start_time": "2023-08-30T17:20:22.872Z"
   },
   {
    "duration": 13,
    "start_time": "2023-08-30T17:20:25.444Z"
   },
   {
    "duration": 71,
    "start_time": "2023-08-30T17:21:33.277Z"
   },
   {
    "duration": 78,
    "start_time": "2023-08-30T17:23:37.475Z"
   },
   {
    "duration": 14,
    "start_time": "2023-08-30T17:23:52.286Z"
   },
   {
    "duration": 68,
    "start_time": "2023-08-30T17:24:50.391Z"
   },
   {
    "duration": 15,
    "start_time": "2023-08-30T17:25:01.617Z"
   },
   {
    "duration": 8,
    "start_time": "2023-08-30T17:25:27.657Z"
   },
   {
    "duration": 13,
    "start_time": "2023-08-30T18:02:09.621Z"
   },
   {
    "duration": 11,
    "start_time": "2023-08-30T18:02:15.474Z"
   },
   {
    "duration": 11,
    "start_time": "2023-08-30T18:17:36.566Z"
   },
   {
    "duration": 12,
    "start_time": "2023-08-30T18:20:42.193Z"
   },
   {
    "duration": 11,
    "start_time": "2023-08-30T18:20:59.295Z"
   },
   {
    "duration": 11,
    "start_time": "2023-08-30T18:26:36.448Z"
   },
   {
    "duration": 97,
    "start_time": "2023-08-30T18:26:50.972Z"
   },
   {
    "duration": 13,
    "start_time": "2023-08-30T18:27:00.046Z"
   },
   {
    "duration": 92,
    "start_time": "2023-08-30T18:28:56.241Z"
   },
   {
    "duration": 71,
    "start_time": "2023-08-30T18:29:01.893Z"
   },
   {
    "duration": 10,
    "start_time": "2023-08-30T18:29:06.490Z"
   },
   {
    "duration": 17,
    "start_time": "2023-08-30T18:29:16.252Z"
   },
   {
    "duration": 82,
    "start_time": "2023-08-30T18:29:40.520Z"
   },
   {
    "duration": 89,
    "start_time": "2023-08-30T18:29:53.492Z"
   },
   {
    "duration": 75,
    "start_time": "2023-08-30T18:30:45.796Z"
   },
   {
    "duration": 77,
    "start_time": "2023-08-30T18:31:12.392Z"
   },
   {
    "duration": 80,
    "start_time": "2023-08-30T18:32:40.308Z"
   },
   {
    "duration": 77,
    "start_time": "2023-08-30T18:33:04.348Z"
   },
   {
    "duration": 86,
    "start_time": "2023-08-30T18:39:19.040Z"
   },
   {
    "duration": 73,
    "start_time": "2023-08-30T18:40:20.300Z"
   },
   {
    "duration": 76,
    "start_time": "2023-08-30T18:40:32.004Z"
   },
   {
    "duration": 74,
    "start_time": "2023-08-30T18:40:45.419Z"
   },
   {
    "duration": 81,
    "start_time": "2023-08-30T18:40:53.337Z"
   },
   {
    "duration": 148,
    "start_time": "2023-08-30T19:26:02.113Z"
   }
  ],
  "colab": {
   "provenance": []
  },
  "kernelspec": {
   "display_name": "Python 3 (ipykernel)",
   "language": "python",
   "name": "python3"
  },
  "language_info": {
   "codemirror_mode": {
    "name": "ipython",
    "version": 3
   },
   "file_extension": ".py",
   "mimetype": "text/x-python",
   "name": "python",
   "nbconvert_exporter": "python",
   "pygments_lexer": "ipython3",
   "version": "3.9.18"
  },
  "toc": {
   "base_numbering": 1,
   "nav_menu": {},
   "number_sections": true,
   "sideBar": true,
   "skip_h1_title": true,
   "title_cell": "Table of Contents",
   "title_sidebar": "Contents",
   "toc_cell": false,
   "toc_position": {},
   "toc_section_display": true,
   "toc_window_display": false
  }
 },
 "nbformat": 4,
 "nbformat_minor": 5
}
